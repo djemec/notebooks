{
 "cells": [
  {
   "cell_type": "code",
   "execution_count": null,
   "id": "1c62da09-2239-49f9-9365-17a73670cc75",
   "metadata": {},
   "outputs": [],
   "source": [
    "from datasets import load_dataset\n",
    "from pathlib import Path\n",
    "from tqdm import tqdm\n",
    "import tiktoken\n",
    "import numpy as np\n",
    "import os\n",
    "import torch"
   ]
  },
  {
   "cell_type": "code",
   "execution_count": null,
   "id": "d645d69a-a21b-48b4-8b07-53111e8902bf",
   "metadata": {},
   "outputs": [],
   "source": [
    "path = Path('/home/ubuntu/data/')"
   ]
  },
  {
   "cell_type": "code",
   "execution_count": null,
   "id": "7a047a12-b5a3-44d1-8de6-aaf32c83d00f",
   "metadata": {},
   "outputs": [],
   "source": [
    "# init the tokenizer\n",
    "enc = tiktoken.get_encoding('cl100k_base')\n",
    "eot = enc._special_tokens['<|endoftext|>'] # end of text token\n",
    "\n",
    "def tokenize(doc):\n",
    "    # tokenizes a single document and returns a numpy array of uint32 tokens\n",
    "    tokens = [eot] # the special <|endoftext|> token delimits all documents\n",
    "    tokens.extend(enc.encode_ordinary(doc['text']))\n",
    "    tokens_np = np.array(tokens)\n",
    "    assert (0 <= tokens_np).all() and (tokens_np < 2**32).all(), \"token dictionary too large for uint32\"\n",
    "    tokens_np_uint32 = tokens_np.astype(np.uint32)\n",
    "    return tokens_np_uint32"
   ]
  },
  {
   "cell_type": "code",
   "execution_count": null,
   "id": "a7cd3061-377f-4b4e-9eb3-e204b2f34e00",
   "metadata": {},
   "outputs": [],
   "source": [
    "def write_datafile(dataset, split, tokens_np, shard_index):\n",
    "    filename = path / f'{split}' / f'{split}_{dataset}_{shard_index:06d}'\n",
    "    np.save(filename, tokens_np)"
   ]
  },
  {
   "cell_type": "code",
   "execution_count": null,
   "id": "8652badd-abc2-4b40-9832-e77d894eb840",
   "metadata": {},
   "outputs": [],
   "source": [
    "def tokenize_dataset(data_loader, dataset_name, split, shard_size=int(1e6),max_shards=-1):\n",
    "    shard_index = 0\n",
    "    # preallocate buffer to hold current shard\n",
    "    all_tokens_np = np.empty((shard_size,), dtype=np.uint32)\n",
    "    token_count = 0\n",
    "    progress_bar = None\n",
    "    \n",
    "    for example in data_loader:\n",
    "        tokens = tokenize(example)\n",
    "        if token_count + len(tokens) < shard_size:\n",
    "            # simply append tokens to current shard\n",
    "            all_tokens_np[token_count:token_count+len(tokens)] = tokens\n",
    "            token_count += len(tokens)\n",
    "            # update progress bar\n",
    "            if progress_bar is None:\n",
    "                progress_bar = tqdm(total=shard_size, unit='tokens', desc=f'{dataset_name}_{split} | Shard {shard_index}')\n",
    "            progress_bar.update(len(tokens))\n",
    "        else:\n",
    "            # write the current shard and start a new one\n",
    "            # split the document into whatever fits in this shard; the remainder goes to next one\n",
    "            remainder = shard_size - token_count\n",
    "            progress_bar.update(remainder)\n",
    "            all_tokens_np[token_count:token_count+remainder] = tokens[:remainder]\n",
    "            # write the file\n",
    "            write_datafile(dataset_name, split, all_tokens_np, shard_index)\n",
    "            # reset \n",
    "            shard_index += 1\n",
    "            # populate the next shard with the leftovers of the current doc\n",
    "            all_tokens_np[0:len(tokens)-remainder] = tokens[remainder:]\n",
    "            token_count = len(tokens)-remainder\n",
    "            #reset progress bar \n",
    "            progress_bar.close()\n",
    "            progress_bar = tqdm(total=shard_size, unit='tokens', desc=f'{dataset_name}_{split} | Shard {shard_index}')\n",
    "            progress_bar.update(token_count)\n",
    "            # break on max_shards\n",
    "            if (max_shards>0 and shard_index > max_shards):\n",
    "                break\n",
    "    \n",
    "    # write any remaining tokens as the last shard\n",
    "    if token_count != 0:\n",
    "        all_tokens_np = all_tokens_np[0:token_count]\n",
    "        write_datafile(dataset_name, split, all_tokens_np, shard_index)\n",
    "    \n",
    "    \n",
    "        "
   ]
  },
  {
   "cell_type": "markdown",
   "id": "1827a169-2da7-40f9-9962-095b454a4c78",
   "metadata": {},
   "source": [
    "## Fineweb"
   ]
  },
  {
   "cell_type": "code",
   "execution_count": null,
   "id": "77c75a5a-850f-4a9a-89ac-fa041eb6473b",
   "metadata": {},
   "outputs": [],
   "source": [
    "fw_tr = load_dataset('HuggingFaceFW/fineweb-edu', name='sample-10BT', split='train', streaming=True)"
   ]
  },
  {
   "cell_type": "code",
   "execution_count": null,
   "id": "5f5187ca-b059-4a68-b9ff-46efa254e80e",
   "metadata": {},
   "outputs": [],
   "source": [
    "tokenize_dataset(fw_tr, 'fineweb-edu', 'train', max_shards=10)"
   ]
  },
  {
   "cell_type": "markdown",
   "id": "7f1a39b6-8004-4ba3-be71-624a1dd9a922",
   "metadata": {},
   "source": [
    "## Wikitext"
   ]
  },
  {
   "cell_type": "code",
   "execution_count": null,
   "id": "3cf442db-6976-4799-ad55-8fb836c9e275",
   "metadata": {},
   "outputs": [],
   "source": [
    "wt_tr = load_dataset('iohadrubin/wikitext-103-raw-v1', split='train', streaming=True)\n",
    "tokenize_dataset(wt_tr, 'wikitext-103', 'train', max_shards=10)"
   ]
  },
  {
   "cell_type": "code",
   "execution_count": null,
   "id": "3baba79e-e8f6-413b-b02a-3af04973bb60",
   "metadata": {},
   "outputs": [],
   "source": [
    "wt_ts = load_dataset('iohadrubin/wikitext-103-raw-v1', split='test', streaming=True)\n",
    "tokenize_dataset(wt_ts, 'wikitext-103', 'test')"
   ]
  },
  {
   "cell_type": "code",
   "execution_count": null,
   "id": "10a8e0aa-f697-49e9-afc0-48235e38bf63",
   "metadata": {},
   "outputs": [],
   "source": [
    "import random\n",
    "train_data = Path('/home/ubuntu/data/train')\n",
    "shards = sorted(list(train_data.iterdir()))\n",
    "shards"
   ]
  },
  {
   "cell_type": "markdown",
   "id": "67345033-f527-41e0-a5c5-8206e44a1ce9",
   "metadata": {},
   "source": [
    "## Testing iterating"
   ]
  },
  {
   "cell_type": "code",
   "execution_count": 1,
   "id": "a921aeb0-e232-482b-a718-bc739f4ac8f6",
   "metadata": {},
   "outputs": [],
   "source": [
    "from datasets import load_dataset\n",
    "from datasets import interleave_datasets"
   ]
  },
  {
   "cell_type": "code",
   "execution_count": 2,
   "id": "d922163f-577b-4b6b-9e2e-913fecc89008",
   "metadata": {},
   "outputs": [
    {
     "data": {
      "application/vnd.jupyter.widget-view+json": {
       "model_id": "9cfdad37c16d48b1a00d4cc097e10980",
       "version_major": 2,
       "version_minor": 0
      },
      "text/plain": [
       "Resolving data files:   0%|          | 0/2410 [00:00<?, ?it/s]"
      ]
     },
     "metadata": {},
     "output_type": "display_data"
    }
   ],
   "source": [
    "fw_loader = load_dataset('HuggingFaceFW/fineweb-edu', name='sample-10BT', split='train', streaming=True)"
   ]
  },
  {
   "cell_type": "code",
   "execution_count": 3,
   "id": "d15b75f2-747d-4808-8ecf-0e68a2b77572",
   "metadata": {},
   "outputs": [
    {
     "data": {
      "application/vnd.jupyter.widget-view+json": {
       "model_id": "74b51cfa5e074071960ee50d131c4315",
       "version_major": 2,
       "version_minor": 0
      },
      "text/plain": [
       "Resolving data files:   0%|          | 0/59166 [00:00<?, ?it/s]"
      ]
     },
     "metadata": {},
     "output_type": "display_data"
    },
    {
     "data": {
      "application/vnd.jupyter.widget-view+json": {
       "model_id": "9aa6044d9d6b49909405a347e56f386d",
       "version_major": 2,
       "version_minor": 0
      },
      "text/plain": [
       "Resolving data files:   0%|          | 0/31428 [00:00<?, ?it/s]"
      ]
     },
     "metadata": {},
     "output_type": "display_data"
    },
    {
     "data": {
      "application/vnd.jupyter.widget-view+json": {
       "model_id": "056bc1e81e7a4e3b939e36007ff8628a",
       "version_major": 2,
       "version_minor": 0
      },
      "text/plain": [
       "Resolving data files:   0%|          | 0/31411 [00:00<?, ?it/s]"
      ]
     },
     "metadata": {},
     "output_type": "display_data"
    }
   ],
   "source": [
    "sp_loader = load_dataset('cerebras/SlimPajama-627B', split='train', streaming=True)"
   ]
  },
  {
   "cell_type": "code",
   "execution_count": 4,
   "id": "6fd239d4-6067-4a13-b370-e8c8c6584c11",
   "metadata": {
    "scrolled": true
   },
   "outputs": [
    {
     "name": "stdout",
     "output_type": "stream",
     "text": [
      "<class 'str'>\n",
      "J.J. Abrams Returns To Write And Direct 'Star Wars: Episode IX'\n",
      "09/12/2017 11:11 am ET Updated Sep 12, 2017\n",
      "The return of the J.J.\n",
      "By Bill Bradley\n",
      "UPDATE: 4:00 p.m. ET — In addition to the director news, \"Star Wars\" announced that the premiere date for \"Episode IX\" will be Dec. 20, 2019.\n",
      "Star Wars: Episode IX is scheduled for release on December 20, 2019. pic.twitter.com/rDBqmuHX89\n",
      "— Star Wars (@starwars) September 12, 2017\n",
      "The Force was with J.J. Abrams when he launched the new set of \"Star Wars\" films with \"The Force Awakens,\" so now Disney is bringing him back.\n",
      "As Deadline reported on Tuesday, and according to a press release on StarWars.com, Abrams will return to write and direct \"Star Wars: Episode IX.\" The statement reads:\n",
      "A post shared by Star Wars (@starwars) on Sep 12, 2017 at 7:28am PDT\n",
      "After Disney unexpectedly parted ways with former \"Episode IX\" director Colin Trevorrow earlier this month, rumors that Rian Johnson, who is directing \"Star Wars: The Last Jedi,\" would take over surfaced. But Deadline reports that Johnson decided not to take the offer to direct.\n",
      "On Abrams' hiring, Lucasfilm President Kathleen Kennedy said, \"With 'The Force Awakens,' J.J. delivered everything we could have possibly hoped for, and I am so excited that he is coming back to close out this trilogy.\"\n",
      "After what we saw in \"Force Awakens,\" we're pretty excited about it, too. We just hope they call it \"The Return of the J.J.\"\n",
      "There Were 2 Royal Moments You Might Have Missed At Biden's Inauguration Joe Biden Removed Trump's Diet Coke Button, Twitter Bubbled Up With Jokes Princess Charlene Defends New Buzzcut Hairstyle: 'It Was My Decision' Katy Perry Closes Out Biden's Inauguration Celebration With A Literal Bang\n",
      "'Star Wars' Postage Stamps\n",
      "Entertainment Editor, HuffPost\n",
      "Movies Star Wars J.J. Abrams\n",
      "2\n",
      "<class 'str'>\n",
      "Hire event staffing in Barrie, Ontario and discover how Push Agency can help you create the right brand perception and increase exposure.\n",
      "Barrie, ON – Looking for a superior staff that will increase sales? PUSH has your solution. Our revolutionary live marketing tactics provide our clients with the very best the industry can offer. Clients are given access to an array of amenities enhancing their experience with us. PUSH works around the clock to ensure that your event goes off without a hitch. Each client gets access to set up our database to tailor their needs. They are able to set up their very own user console to review events, select models, set up trainings, and so much more. Give us a call when planning your next Barrie area event to learn how a little PUSH can make a big impact!\n",
      "3\n",
      "<class 'str'>\n",
      "The Independent Jane\n",
      "For all the love, romance and scandal in Jane Austen’s books, what they are really about is freedom and independence. Independence of thought and the freedom to choose.\n",
      "Elizabeth’s refusal of Mr. Collins offer of marriage showed an independence seldom seen in heroines of the day. Her refusal of Mr. Darcy while triggered by anger showed a level of independence that left him shocked and stunned.\n",
      "The freedom she exhibited in finally accepting him in direct defiance of Lady Catherine and knowing her father would disapprove was unusual even for Austen. In her last book Anne Elliot is persuaded to refuse Captain Wentworth at Lady Russel’s insistence.\n",
      "Although Jane played by the rules of the day, all of her writing is infused with how she wanted life to be. She ‘screams’ her outrage at the limitations for women in Emma.\n",
      "When accosted by Mrs. Elton, Jane Fairfax says,\n",
      "“Excuse me, ma’am, but this is by no means my intention; I make no inquiry myself, and should be sorry to have any made by my friends. When I am quite determined as to the time, I am not at all afraid of being long unemployed. There are places in town, offices, where inquiry would soon produce something — offices for the sale, not quite of human flesh, but of human intellect.”\n",
      "“Oh! my dear, human flesh! You quite shock me; if you mean a fling at the slave-trade, I assure you Mr. Suckling was always rather a friend to the abolition.”\n",
      "“I did not mean, I was not thinking of the slave-trade,” replied Jane; “governess-trade, I assure you, was all that I had in view; widely different certainly, as to the guilt of those who carry it on; but as to the greater misery of the victims, I do not know where it lies.”\n",
      "That same sentiment is emphasized in Emma’s shock when Mrs. Weston tells her of Frank Churchill’s secret engagement to Jane.\n",
      "“Good God!” cried Emma, “Jane actually on the point of going as governess! What could he mean by such horrible indelicacy? To suffer her to engage herself — to suffer her even to think of such a measure!”\n",
      "I find it interesting that at the moment of Austen’s birth or there about, John Adams left his farm in Massachusetts for the Continental Congress in Philadelphia. Doesn’t sound particularly interesting, I know but consider this.\n",
      "John Adams left his home in mid-December 1775 to attend an unprecedented meeting of colonial representatives to consider severing ties with their mother country and her monarch; a decision that culminated in a document unlike any ever written. In the mother country, one day in that same cold December a baby girl was born at Steventon Rectory. Her cry was heard by only the people in the house but the years to come would see her pen create works unlike any the world had ever seen.\n",
      "Comparing Austen’s words with Thomas Jefferson’s may seem a trivialization but I believe that Austen’s impact on the world is no less important than Jefferson’s. The effect of Jane’s writing maybe more subtle than that of the Virginian but it is no less influential.\n",
      "Jefferson’s words instigated and promoted a revolution, a war of independence. Jane’s words had no such excessive consequence. Still in her own quiet, genteel yet powerful way she declared and promoted the same principles of freedom and self-regulated independence as our American forefathers. In all her novels Jane advocates independence of person and thought, the rights of all and acceptance of responsibility for those rights.\n",
      "Jane may not have incited military action as Jefferson did but even as an avowed royalist, I doubt not that Jane Austen firmly believed in his declaration of the right to life, liberty and the pursuit of happiness.\n",
      "4\n",
      "<class 'str'>\n",
      "Taking Play Seriously\n",
      "By ROBIN MARANTZ HENIG\n",
      "Published: February 17, 2008\n",
      "On a drizzly Tuesday night in late January, 200 people came out to hear a psychiatrist talk rhapsodically about play -- not just the intense, joyous play of children, but play for all people, at all ages, at all times. (All species too; the lecture featured touching photos of a polar bear and a husky engaging playfully at a snowy outpost in northern Canada.) Stuart Brown, president of the National Institute for Play, was speaking at the New York Public Library's main branch on 42nd Street. He created the institute in 1996, after more than 20 years of psychiatric practice and research persuaded him of the dangerous long-term consequences of play deprivation. In a sold-out talk at the library, he and Krista Tippett, host of the public-radio program ''Speaking of Faith,'' discussed the biological and spiritual underpinnings of play. Brown called play part of the ''developmental sequencing of becoming a human primate. If you look at what produces learning and memory and well-being, play is as fundamental as any other aspect of life, including sleep and dreams.''\n",
      "The message seemed to resonate with audience members, who asked anxious questions about what seemed to be the loss of play in their children's lives. Their concern came, no doubt, from the recent deluge of eulogies to play . Educators fret that school officials are hacking away at recess to make room for an increasingly crammed curriculum. Psychologists complain that overscheduled kids have no time left for the real business of childhood: idle, creative, unstructured free play. Public health officials link insufficient playtime to a rise in childhood obesity. Parents bemoan the fact that kids don't play the way they themselves did -- or think they did. And everyone seems to worry that without the chance to play stickball or hopscotch out on the street, to play with dolls on the kitchen floor or climb trees in the woods, today's children are missing out on something essential.\n",
      "The success of ''The Dangerous Book for Boys'' -- which has been on the best-seller list for the last nine months -- and its step-by-step instructions for activities like folding paper airplanes is testament to the generalized longing for play's good old days. So were the questions after Stuart Brown's library talk; one woman asked how her children will learn trust, empathy and social skills when their most frequent playing is done online. Brown told her that while video games do have some play value, a true sense of ''interpersonal nuance'' can be achieved only by a child who is engaging all five senses by playing in the three-dimensional world.\n",
      "This is part of a larger conversation Americans are having about play. Parents bobble between a nostalgia-infused yearning for their children to play and fear that time spent playing is time lost to more practical pursuits. Alarming headlines about U.S. students falling behind other countries in science and math, combined with the ever-more-intense competition to get kids into college, make parents rush to sign up their children for piano lessons and test-prep courses instead of just leaving them to improvise on their own; playtime versus r?m?uilding.\n",
      "Discussions about play force us to reckon with our underlying ideas about childhood, sex differences, creativity and success. Do boys play differently than girls? Are children being damaged by staring at computer screens and video games? Are they missing something when fantasy play is populated with characters from Hollywood's imagination and not their own? Most of these issues are too vast to be addressed by a single field of study (let alone a magazine article). But the growing science of play does have much to add to the conversation. Armed with research grounded in evolutionary biology and experimental neuroscience, some scientists have shown themselves eager -- at times perhaps a little too eager -- to promote a scientific argument for play. They have spent the past few decades learning how and why play evolved in animals, generating insights that can inform our understanding of its evolution in humans too. They are studying, from an evolutionary perspective, to what extent play is a luxury that can be dispensed with when there are too many other competing claims on the growing brain, and to what extent it is central to how that brain grows in the first place.\n",
      "Scientists who study play, in animals and humans alike, are developing a consensus view that play is something more than a way for restless kids to work off steam; more than a way for chubby kids to burn off calories; more than a frivolous luxury. Play, in their view, is a central part of neurological growth and development -- one important way that children build complex, skilled, responsive, socially adept and cognitively flexible brains.\n",
      "Their work still leaves some questions unanswered, including questions about play's darker, more ambiguous side: is there really an evolutionary or developmental need for dangerous games, say, or for the meanness and hurt feelings that seem to attend so much child's play? Answering these and other questions could help us understand what might be lost if children play less.\n",
      "5\n",
      "<class 'str'>\n",
      "How do you get HIV?\n",
      "HIV can be passed on when infected bodily fluid, such as blood or semen, is passed into an uninfected person. Semen is the liquid which is released from a man's penis during sex which carries sperm. It can be infected with HIV or AIDS when someone is HIV positive or is carrying the AIDS virus. This can happen during unprotected sex. For example when two people have sex without using a condom when one partner is already infected, or between drug users who inject and share needles.\n",
      "It can't be transmitted by things like coughing, sneezing, kissing, sharing a toilet seat, swimming pools, sweat and tears.\n",
      "6\n",
      "<class 'str'>\n",
      "Pascal Pictures\n",
      "Movie Review: Spider-Man: No Way Home (2021)\n",
      "Vincent Gaine\n",
      "The balance between innovation and homage is a difficult one to strike. This is especially so when dealing with established and beloved properties. Spider-Man: No Way Home takes on the formidable task of balancing the demands of a standalone film, the Marvel Cinematic Universe (MCU), and the wider presence of Spider-Man in cinema and popular…\n",
      "Movie Review: Little Women (2019)\n",
      "Howard Schumann\n",
      "Writer/director Greta Gerwig (\"Lady Bird\") puts a contemporary spin on Louisa May Alcott's nineteenth century classic novel in Little Women, now in its eight film version. Alcott's semi-autobiographical story about four sisters growing up in Concord, Massachusetts during and after the Civil War stands out for its warmth and celebration of family, its exquisite period…\n",
      "Movie Review: Spider-Man: Into the Spider-Verse (2018)\n",
      "Floyd Smith III\n",
      "When Sony announced its plans for a theatrical release of an animated Spider-Man film, even hardcore fans of the web swinger may have considered it to be just another unwarranted adaptation. \"Haven't we seen enough portrayals of Spider-Man?,\" those with comic-book movie fatigue asked, and yet in his seventh major solo theatrical release since 2002,…\n",
      "Movie Review: The Post (2017)\n",
      "If The Post was little more than a piece of agitprop beating the drums for the value of a free press in a democracy, it would more than justify its reason for being. The fact that it is so much more is a testament to the skills of director Steven Spielberg and the talents of…\n",
      "Movie Review: Molly's Game (2017)\n",
      "Joe Kotisso\n",
      "Since his screenwriting breakthrough with \"A Few Good Men,\" Aaron Sorkin has crafted himself an illustrious Hollywood career, which includes a nomination for the Best Adapted Screenplay Oscar for \"Moneyball\" and a win for the same for \"The Social Network\" as well as earning multiple Emmy awards for his work on the landmark TV series…\n",
      "Movie Review: Spider-Man: Homecoming (2017)\n",
      "For many a superhero fan, whether in comic books, television or movie format, Spider-Man is likely to be a childhood favorite. Stan Lee and Steve Ditko's creation of a nerdy teenager who acquires the abilities of a spider has struck nerves (or web strands) with multiple generations, as Peter Parker's struggles with his new powers…\n",
      "Movie Trailer #2: Spider-Man: Homecoming (2017)\n",
      "The second official trailer for Spider-Man: Homecoming has landed and while it still doesn't spoil any plot points, it does offer up more of a taste of the action to come. Peter Parker (Tom Holland), still coming to terms with his place in the superhero hierarchy, tiptoes between doing what he feels he has to…\n",
      "Movie Review: The Skin I Live In (2011)\n",
      "Movie Review: Stan & Ollie (2018)\n",
      "<\\/iframe><\\/div>\"); } })(); var ABDSettings = { cssSelectors: '', enableIframe: \"yes\", enableDiv: \"yes\", enableJsFile: \"yes\", statsAjaxNonce: \"8a6eb3a88b\", ajaxUrl: \"https://thecriticalcritics.com/review/wp-admin/admin-ajax.php\" } //\tMake sure ABDSettings.cssSelectors is an array... might be a string if(typeof ABDSettings.cssSelectors == 'string') { ABDSettings.cssSelectors = [ABDSettings.cssSelectors]; }\n",
      "7\n",
      "<class 'str'>\n",
      "CTComms sends on average 2 million emails monthly on behalf of over 125 different charities and not for profits.\n",
      "Take the complexity of technology and stir in the complexity of the legal system and what do you get? Software licenses! If you've ever attempted to read one you know how true this is, but you have to know a little about software licensing even if you can't parse all of the fine print.\n",
      "By: Chris Peters\n",
      "March 10, 2009\n",
      "A software license is an agreement between you and the owner of a program which lets you perform certain activities which would otherwise constitute an infringement under copyright law. The software license usually answers questions such as:\n",
      "The price of the software and the licensing fees, if any, are sometimes discussed in the licensing agreement, but usually it's described elsewhere.\n",
      "If you read the definitions below and you're still scratching your head, check out Categories of Free and Non-Free Software which includes a helpful diagram.\n",
      "Free vs Proprietary:\n",
      "When you hear the phrase \"free software\" or \"free software license,\" \"free\" is referring to your rights and permissions (\"free as in freedom\" or \"free as in free speech\"). In other words, a free software license gives you more rights than a proprietary license. You can usually copy, modify, and redistribute free software without paying a fee or obtaining permission from the developers and distributors. In most cases \"free software\" won't cost you anything, but that's not always the case – in this instance the word free is making no assertion whatsoever about the price of the software. Proprietary software puts more restrictions and limits on your legal permission to copy, modify, and distribute the program.\n",
      "Free, Open-Source or FOSS?\n",
      "In everyday conversation, there's not much difference between \"free software,\" \"open source software,\" and \"FOSS (Free and Open-Source Software).\" In other words, you'll hear these terms used interchangeably, and the proponents of free software and the supporters of open-source software agree with one another on most issues. However, the official definition of free software differs somewhat from the official definition of open-source software, and the philosophies underlying those definitions differ as well. For a short description of the difference, read Live and Let License. For a longer discussion from the \"free software\" side, read Why Open Source Misses the Point of Free Software. For the \"open-source\" perspective, read Why Free Software is Too Ambiguous.\n",
      "Public domain and copyleft.\n",
      "These terms refer to different categories of free, unrestricted licensing. A copyleft license allows you all the freedoms of a free software license, but adds one restriction. Under a copyleft license, you have to release any modifications under the same terms as the original software. In effect, this blocks companies and developers who want to alter free software and then make their altered version proprietary. In practice, almost all free and open-source software is also copylefted. However, technically you can release \"free software\" that isn't copylefted. For example, if you developed software and released it under a \"public domain\" license, it would qualify as free software, but it isn't copyleft. In effect, when you release something into the public domain, you give up all copyrights and rights of ownership.\n",
      "Shareware and freeware.\n",
      "These terms don't really refer to licensing, and they're confusing in light of the discussion of free software above. Freeware refers to software (usually small utilities at sites such as Tucows.com) that you can download and install without paying. However, you don't have the right to view the source code, and you may not have the right to copy and redistribute the software. In other words, freeware is proprietary software. Shareware is even more restrictive. In effect, shareware is trial software. You can use it for a limited amount of time (usually 30 or 60 days) and then you're expected to pay to continue using it.\n",
      "End User Licensing Agreement (EULA).\n",
      "When you acquire software yourself, directly from a vendor or retailer, or directly from the vendor's Web site, you usually have to indicate by clicking a box that you accept the licensing terms. This \"click-through\" agreement that no one ever reads is commonly known as a EULA. If you negotiate a large purchase of software with a company, and you sign a contract to seal the agreement, that contract usually replaces or supersedes the EULA.\n",
      "Most major vendors of proprietary software offer some type of bulk purchasing and volume licensing mechanism. The terms vary widely, but if you order enough software to qualify, the benefits in terms of cost and convenience are significant. Also, not-for-profits sometimes qualify for it with very small initial purchases.\n",
      "Some of the benefits of volume licensing include:\n",
      "Lower cost. As with most products, software costs less when you buy more of it.\n",
      "Ease of installation. Without volume licenses, you usually have to enter a separate activation code (also known as a product key or license key) for each installed copy of the program. On the other hand, volume licenses provide you with a single, organisation-wide activation code, which makes it much easier to find when you need to reinstall the software.\n",
      "Easier tracking of licenses. Keeping track of how many licenses you own, and how many copies you've actually installed, is a tedious, difficult task. Many volume licensing programs provide an online account which is automatically updated when you obtain or activate a copy of that company's software. These accounts can also coordinate licensing across multiple offices within your organisation.\n",
      "To learn more about volume licensing from a particular vendor, check out some of the resources below:\n",
      "Qualified not-for-profits and libraries can receive donated volume licenses for Microsoft products through TechSoup. For more information, check out our introduction to the Microsoft Software Donation Program, and the Microsoft Software Donation Program FAQ. For general information about the volume licensing of Microsoft software, see Volume Licensing Overview.\n",
      "If you get Microsoft software from TechSoup or other software distributors who work with not-for-profits, you may need to go to the eOpen Web site to locate your Volume license keys. For more information, check out the TechSoup Donation Recipient's Guide to the Microsoft eOpen Web Site.\n",
      "Always check TechSoup Stock first to see if there's a volume licensing donation program for the software you're interested in. If TechSoup doesn't offer that product or if you need more copies than you can find at TechSoup, search for \"volume licensing not-for-profits software\" or just \"not-for-profits software.\" For example, when we have an inventory of Adobe products, qualifying and eligible not-for-profits can obtain four individual products or one copy of Creative Suite 4 through TechSoup. If we're out of stock, or you've used up your annual Adobe donation, you can also check TechSoup's special Adobe donation program and also Adobe Solutions for Nonprofits for other discounts available to not-for-profits. For more software-hunting tips, see A Quick Guide to Discounted Software Programs.\n",
      "Pay close attention to the options and licensing requirements when you acquire server-based software. You might need two different types of license – one for the server software itself, and a set of licenses for all the \"clients\" accessing the software. Depending on the vendor and the licensing scenario, \"client\" can refer either to the end users themselves (for example, employees, contractors, clients, and anyone else who uses the software in question) or their computing devices (for example, laptops, desktop computers, smartphones, PDAs, etc.). We'll focus on Microsoft server products, but similar issues can arise with other server applications.\n",
      "Over the years, Microsoft has released hundreds of server-based applications, and the licensing terms are slightly different for each one. Fortunately, there are common license types and licensing structures across different products. In other words, while a User CAL (Client Access License) for Windows Server is distinct from a User CAL for SharePoint Server, the underlying terms and rights are very similar. The TechSoup product pages for Microsoft software do a good job of describing the differences between products, so we'll focus on the common threads in this article.\n",
      "Moreover, Microsoft often lets you license a single server application in more than one way, depending on the needs of your organisation. This allows you the flexibility to choose the licenses that best reflect your organisation's usage patterns and thereby cost you the least amount of money. For example, for Windows Server and other products you can acquire licenses on a per-user basis (for example, User CALs) or per-device basis (for example, Device CALs).\n",
      "The license required to install and run most server applications usually comes bundled with the software itself. So you can install and run most applications \"out of the box,\" as long as you have the right number of client licenses (see the section below for more on that). However, when you're running certain server products on a computer with multiple processors, you may need to get additional licenses. For example, if you run Windows Server 2008 DataCenter edition on a server with two processors, you need a separate license for each processor. SQL Server 2008 works the same way. This type of license is referred to as a processor license. Generally you don't need client licenses for any application that's licensed this way.\n",
      "Client Licenses for Internal Users\n",
      "Many Microsoft products, including Windows Server 2003 and Windows Server 2008, require client access licenses for all authenticated internal users (for example, employees, contractors, volunteers, etc.). On the other hand, SQL Server 2008 and other products don't require any client licenses. Read the product description at CTXchange if you're looking for the details about licensing a particular application.\n",
      "User CALs: User CALs allow each user access to all the instances of a particular server product in an organisation, no matter which device they use to gain access. In other words, if you run five copies of Windows Server 2008 on five separate servers, you only need one User CAL for each person in your organisation who access those servers (or any software installed on those servers), whether they access a single server, all five servers, or some number in between. Each user with a single CAL assigned to them can access the server software from as many devices as they want (for example, desktop computers, laptops, smartphones, etc.). User CALs are a popular licensing option.\n",
      "Device CALs: Device CALs allow access to all instances of a particular server application from a single device (for example, a desktop computer, a laptop, etc.) in your organisation. Device CALs only make sense when multiple employees use the same computer. For example, in 24-hour call centres different employees on different shifts often use the same machine, so Device CALs make sense in this situation.\n",
      "Choosing a licensing mode for your Windows Server CALs: With Windows Server 2003 and Windows Server 2008, you use a CAL (either a User CAL or a Device CAL) in one of two licensing modes: per seat or per server. You make this decision when you're installing your Windows Server products, not when you acquire the CALs. The CALs themselves don't have any mode designation, so you can use either a User CAL or a Device CAL in either mode. Per seat mode is the default mode, and the one used most frequently. The description of User CALs and Device CALs above describes the typical per seat mode. In \"per server\" mode, Windows treats each license as a \"simultaneous connection.\" In other words, if you have 40 CALs, Windows will let 40 authenticated users have access. The 41st user will be denied access. However, in per server mode, each CAL is tied to a particular instance of Windows Server, and you have to acquire a new set of licenses for each new server you build that runs Windows. Therefore, per server mode works for some small organisations with one or two servers and limited access requirements.\n",
      "You don't \"install\" client licenses the way you install software. There are ways to automate the tracking of software licenses indirectly, but the server software can't refuse access to a user or device on licensing grounds. The licenses don't leave any \"digital footprint\" that the server software can read. An exception to this occurs when you license Windows Server in per server mode. In this case, if you have 50 licenses, the 51st authenticated user will be denied access (though anonymous users can still access services).\n",
      "Some key points to remember about client licensing:\n",
      "The licensing scenarios described in this section arise less frequently, and are too complex to cover completely in this article, so they're described briefly below along with more comprehensive resources.\n",
      "You don't need client licenses for anonymous, unauthenticated external users. In other words, if someone accesses your Web site, and that site runs on Internet Information Server (IIS), Microsoft's Web serving software, you don't need a client license for any of those anonymous users.\n",
      "If you have any authenticated external users who access services on your Windows-based servers, you can obtain CALs to cover their licensing requirements. However, the External Connector License (ECL) is a second option in this scenario. The ECL covers all use by authenticated external users, but it's a lot more expensive than a CAL, so only get one if you'll have a lot of external users. For example, even if you get your licenses through the CTXchange donation program, an ECL for Windows Server 2008 has an £76 administrative fee, while a User CAL for Windows Server 2008 carries a £1 admin fee. If only a handful of external users access your Windows servers, you're better off acquiring User CALs. Also, an ECL only applies to external users and devices. In other words, if you have an ECL, you still have to get a CAL for all employees and contractors.\n",
      "Even though Terminal Services (TS) is built into Windows Server 2003 and 2008, you need to get a separate TS CAL for each client (i.e. each user or each device) that will access Terminal Services in your organisation. This TS license is in addition to your Windows Server CALs.\n",
      "Microsoft's System Centre products (a line of enterprise-level administrative software packages) use a special type of license known as a management license (ML). Applications that use this type of licensing include System Center Configuration Manager 2007 and System Center Operations Manager 2007. Any desktop or workstation managed by one of these applications needs a client management license. Any server managed by one of these applications requires a server management license, and there are two types of server management licenses – standard and enterprise. You need one or the other but not both. There are also special licensing requirements if you're managing virtual instances of Windows operating systems. For more information, see TechSoup's Guide to System Center Products and Licensing and Microsoft's white paper on Systems Center licensing.\n",
      "Some Microsoft server products have two client licensing modes, standard and enterprise. As you might imagine, an Enterprise CAL grants access to more advanced features of a product. Furthermore, with some products, such as Microsoft Exchange, the licenses are additive. In other words, a user needs both a Standard CAL AND an Enterprise CAL in order to access the advanced features. See Exchange Server 2007 Editions and Client Access Licenses for more information.\n",
      "With virtualisation technologies, multiple operating systems can run simultaneously on a single physical server. Every time you install a Microsoft application, whether on a physical hardware system or a virtual hardware system, you create an \"instance\" of that application. The number of \"instances\" of particular application that you can run using a single license varies from product to product. For more information see the Volume Licensing Briefs, Microsoft Licensing for Virtualization and the Windows Server Virtualization Calculator. For TechSoup Stock products, see the product description for more information.\n",
      "There are a lot of nuances to Microsoft licensing, and also a lot of excellent resources to help you understand different scenarios.\n",
      "About the Author:\n",
      "Chris is a former technology writer and technology analyst for TechSoup for Libraries, which aims to provide IT management guidance to libraries. His previous experience includes working at Washington State Library as a technology consultant and technology trainer, and at the Bill and Melinda Gates Foundation as a technology trainer and tech support analyst. He received his M.L.S. from the University of Michigan in 1997.\n",
      "Originally posted here.\n",
      "Copyright © 2009 CompuMentor. This work is published under a Creative Commons Attribution-NonCommercial-NoDerivs 3.0 License.\n",
      "The latest version of Microsoft Office Professional Plus is an integrated collection of programs, servers, and services designed to work together to enable optimised information work.\n",
      "8\n",
      "<class 'str'>\n",
      "Hold the salt: UCLA engineers develop revolutionary new desalination membrane\n",
      "Process uses atmospheric pressure plasma to create filtering 'brush layer'\n",
      "Desalination can become more economical and used as a viable alternate water resource.\n",
      "By Wileen Wong Kromhout\n",
      "Originally published in UCLA Newsroom\n",
      "Researchers from the UCLA Henry Samueli School of Engineering and Applied Science have unveiled a new class of reverse-osmosis membranes for desalination that resist the clogging which typically occurs when seawater, brackish water and waste water are purified.\n",
      "The highly permeable, surface-structured membrane can easily be incorporated into today's commercial production system, the researchers say, and could help to significantly reduce desalination operating costs. Their findings appear in the current issue of the Journal of Materials Chemistry.\n",
      "Reverse-osmosis (RO) desalination uses high pressure to force polluted water through the pores of a membrane. While water molecules pass through the pores, mineral salt ions, bacteria and other impurities cannot. Over time, these particles build up on the membrane's surface, leading to clogging and membrane damage. This scaling and fouling places higher energy demands on the pumping system and necessitates costly cleanup and membrane replacement.\n",
      "The new UCLA membrane's novel surface topography and chemistry allow it to avoid such drawbacks.\n",
      "\"Besides possessing high water permeability, the new membrane also shows high rejection characteristics and long-term stability,\" said Nancy H. Lin, a UCLA Engineering senior researcher and the study's lead author. \"Structuring the membrane surface does not require a long reaction time, high reaction temperature or the use of a vacuum chamber. The anti-scaling property, which can increase membrane life and decrease operational costs, is superior to existing commercial membranes.\"\n",
      "The new membrane was synthesized through a three-step process. First, researchers synthesized a polyamide thin-film composite membrane using conventional interfacial polymerization. Next, they activated the polyamide surface with atmospheric pressure plasma to create active sites on the surface. Finally, these active sites were used to initiate a graft polymerization reaction with a monomer solution to create a polymer \"brush layer\" on the polyamide surface. This graft polymerization is carried out for a specific period of time at a specific temperature in order to control the brush layer thickness and topography.\n",
      "\"In the early years, surface plasma treatment could only be accomplished in a vacuum chamber,\" said Yoram Cohen, UCLA professor of chemical and biomolecular engineering and a corresponding author of the study. \"It wasn't practical for large-scale commercialization because thousands of meters of membranes could not be synthesized in a vacuum chamber. It's too costly. But now, with the advent of atmospheric pressure plasma, we don't even need to initiate the reaction chemically. It's as simple as brushing the surface with plasma, and it can be done for almost any surface.\"\n",
      "In this new membrane, the polymer chains of the tethered brush layer are in constant motion. The chains are chemically anchored to the surface and are thus more thermally stable, relative to physically coated polymer films. Water flow also adds to the brush layer's movement, making it extremely difficult for bacteria and other colloidal matter to anchor to the surface of the membrane.\n",
      "\"If you've ever snorkeled, you'll know that sea kelp move back and forth with the current or water flow,\" Cohen said. \"So imagine that you have this varied structure with continuous movement. Protein or bacteria need to be able to anchor to multiple spots on the membrane to attach themselves to the surface — a task which is extremely difficult to attain due to the constant motion of the brush layer. The polymer chains protect and screen the membrane surface underneath.\"\n",
      "Another factor in preventing adhesion is the surface charge of the membrane. Cohen's team is able to choose the chemistry of the brush layer to impart the desired surface charge, enabling the membrane to repel molecules of an opposite charge.\n",
      "The team's next step is to expand the membrane synthesis into a much larger, continuous process and to optimize the new membrane's performance for different water sources.\n",
      "\"We want to be able to narrow down and create a membrane selection system for different water sources that have different fouling tendencies,\" Lin said. \"With such knowledge, one can optimize the membrane surface properties with different polymer brush layers to delay or prevent the onset of membrane fouling and scaling.\n",
      "\"The cost of desalination will therefore decrease when we reduce the cost of chemicals [used for membrane cleaning], as well as process operation [for membrane replacement]. Desalination can become more economical and used as a viable alternate water resource.\"\n",
      "Cohen's team, in collaboration with the UCLA Water Technology Research (WaTeR) Center, is currently carrying out specific studies to test the performance of the new membrane's fouling properties under field conditions.\n",
      "\"We work directly with industry and water agencies on everything that we're doing here in water technology,\" Cohen said. \"The reason for this is simple: If we are to accelerate the transfer of knowledge technology from the university to the real world, where those solutions are needed, we have to make sure we address the real issues. This also provides our students with a tremendous opportunity to work with industry, government and local agencies.\"\n",
      "A paper providing a preliminary introduction to the new membrane also appeared in the Journal of Membrane Science last month.\n",
      "Published: Thursday, April 08, 2010\n",
      "9\n",
      "<class 'str'>\n",
      "Lej Assassination Tango hos Itunes for 39 kr.\n",
      "John J. (Robert Duvall) is a seasoned hit man sent on a job to Argentina. When the General he's sent to kill delays his return to the country, John passes the time with Manuela (Luciana Pedraza), a beautiful dancer who becomes his teacher and guide into Argentina's sensual world of the tango. Spellbound by the rich and mysterious world Manuela has shown him, his idyll is shattered when the reality of why he's there comes crashing down around him.\n",
      "10\n",
      "<class 'str'>\n",
      "CBA legal challenge heads to B.C. Court of Appeal\n",
      "By David Weir|June 26th, 2020|Advocacy, Community Benefits Agreement|\n",
      "The construction industry partners challenging B.C.'s Community Benefits Agreement (CBA) will be in court July 16 and 17 to appeal the B.C. Supreme Court ruling that stalled the judicial review last February. The B.C. Court of Appeal will be asked to overturn Supreme Court Justice Christopher Giaschi's decision striking portions of the petition for [...]\n",
      "CBA update – BCIB publishes updated FAQ\n",
      "By David Weir|March 2nd, 2020|Advocacy, Community Benefits Agreement, In The News|\n",
      "Contractors wanting to understand how B.C.'s Community Benefit Agreement (CBA) will be applied may find the answers they need in an updated Contractor & Subcontractor Q and A document produced by B.C. Infrastructure Benefits Inc. (BCIB). The updated Q&A, which was posted recently to a redesigned BCIB website, provides answers to several questions VRCA [...]\n",
      "VRCA attends rally demanding government stops the CBA roll-out\n",
      "By David Weir|November 22nd, 2019|Advocacy, Community Benefits Agreement, In The News|\n",
      "The Vancouver Regional Construction Association (VRCA) joined industry representatives and progressive labour unions at the B.C. legislature on November 19 to demand the provincial government stop the roll-out of its prescriptive and regressive Community Benefits Agreement (CBA), introduced in July 2018. \"Our industry is deeply offended at the lack of industry engagement that took [...]\n",
      "Community Benefits Agreement and regional advocacy the focus at November Division meetings\n",
      "By David Weir|October 21st, 2019|Advocacy, Community Benefits Agreement, General Contractors, Manufacturers & Suppliers, Trade Contractors|\n",
      "The provincial government policy requiring key infrastructure projects to be built using the Community Benefits Agreement (CBA) framework continues to be one of the top issues worrying B.C.'s construction industry. Join us at Division meetings in November to get an update on: The legal challenge to the CBA brought by VRCA and its industry [...]\n",
      "Separating fact from fake on the B.C government's infrastructure deal\n",
      "By David Weir|January 21st, 2019|Advocacy, Community Benefits Agreement, In The News|\n",
      "Do you support forcing the Canucks to play with half of their own players while having the other half assigned to them at game time? We suspect few would agree to such a proposal, yet that's exactly what the B.C. Government is asking construction companies to do under its Community Benefits Agreement (CBA). Paul [...]\n",
      "BCCA shares BCIB's responses regarding the Community Benefits Agreement\n",
      "By David Weir|November 19th, 2018|Advocacy, Community Benefits Agreement|\n",
      "There are many questions about the Community Benefits Agreement that can't be answered by reading the agreement itself. Some, but not all, of the questions were answered during a recent meeting between the B.C. Construction Association (BCCA) and BC Infrastructure Benefits (BCIB). Based on member feedback at the Oct. 17 Division meeting, VRCA compiled [...]\n",
      "Who really benefits from community benefits agreements?\n",
      "By David Weir|October 22nd, 2018|Advocacy, Community Benefits Agreement, Events, In The News|\n",
      "VRCA and Mierau Contractors Ltd. are co-sponsoring the Abbotsford Chamber of Commerce November luncheon Nov. 1. The topic is: \"Who really benefits from community benefits agreements?\" The guest speaker will be Ken Baerg, executive director of Canada Works. Baerg is a seasoned labour relations strategist and practitioner who is passionate about supporting sustainable and [...]\n",
      "VRCA launches advocacy section on its website\n",
      "By David Weir|October 1st, 2018|Advocacy, Community Benefits Agreement, In The News|\n",
      "As British Columbia's oldest and largest regional construction association, the Vancouver Regional Construction Association (VRCA) represents the general and trade contractors, manufacturers, suppliers and various professional services providers who operate in the industrial, commercial and institutional construction industry in the Lower Mainland. As such, VRCA publicly takes positions and speaks out on business issues [...]\n",
      "Community Benefits Town Hall Meeting\n",
      "By Fiona Famulak|September 17th, 2018|Advocacy, Community Benefits Agreement, In The News|\n",
      "Dear member, Please join us for an important members-only town hall meeting to discuss industry's response to the new Community Benefits Agreement (CBA) that: forces construction workers to join and pay dues to the Building Trades Unions as a condition of working on certain public construction projects where the CBA will be used, which [...]\n",
      "BCCA launches letter campaign to fight Community Benefits Agreement\n",
      "By David Weir|August 13th, 2018|Advocacy, Community Benefits Agreement, In The News|\n",
      "The BC Construction Association (BCCA), on behalf of the four regional construction associations, has launched a letter-writing campaign against the Community Benefits Agreement for key infrastructure projects in B.C. Trades people and owners of construction companies are encouraged to sign a pre-drafted letter that will be sent to B.C. Premier John Horgan explaining why [...]\n",
      "11\n"
     ]
    }
   ],
   "source": [
    "\n",
    "# data_loader1, data_loader2 are IterableDataset objects (streaming=True)\n",
    "merged = interleave_datasets(\n",
    "        [fw_loader, sp_loader],\n",
    "        probabilities=[0.33, 0.67],          # 1:2 coinflip\n",
    "        seed=1667,                           \n",
    "        stopping_strategy='first_exhausted' # stop as soon as fineweb runs out)\n",
    "    )\n",
    "\n",
    "i = 1\n",
    "\n",
    "for example in merged:\n",
    "    print(type(example['text']))\n",
    "    print(example['text'])\n",
    "    i += 1\n",
    "    print(i)\n",
    "    if i > 10:\n",
    "        break"
   ]
  },
  {
   "cell_type": "code",
   "execution_count": 5,
   "id": "fdbe7da3-5f61-4be6-abab-3d51be486c33",
   "metadata": {},
   "outputs": [
    {
     "data": {
      "application/vnd.jupyter.widget-view+json": {
       "model_id": "80bf1820fdc94f45ac844c335fd8b29e",
       "version_major": 2,
       "version_minor": 0
      },
      "text/plain": [
       "Resolving data files:   0%|          | 0/2410 [00:00<?, ?it/s]"
      ]
     },
     "metadata": {},
     "output_type": "display_data"
    },
    {
     "data": {
      "application/vnd.jupyter.widget-view+json": {
       "model_id": "a0887c78022b4872addce4a880265060",
       "version_major": 2,
       "version_minor": 0
      },
      "text/plain": [
       "Resolving data files:   0%|          | 0/59166 [00:00<?, ?it/s]"
      ]
     },
     "metadata": {},
     "output_type": "display_data"
    },
    {
     "data": {
      "application/vnd.jupyter.widget-view+json": {
       "model_id": "80d635810dbe452da3ecbe355840f6f9",
       "version_major": 2,
       "version_minor": 0
      },
      "text/plain": [
       "Resolving data files:   0%|          | 0/31428 [00:00<?, ?it/s]"
      ]
     },
     "metadata": {},
     "output_type": "display_data"
    },
    {
     "data": {
      "application/vnd.jupyter.widget-view+json": {
       "model_id": "d3c10a0096904928ab60418cb0effa47",
       "version_major": 2,
       "version_minor": 0
      },
      "text/plain": [
       "Resolving data files:   0%|          | 0/31411 [00:00<?, ?it/s]"
      ]
     },
     "metadata": {},
     "output_type": "display_data"
    }
   ],
   "source": [
    "fw2 = load_dataset('HuggingFaceFW/fineweb-edu', name='sample-10BT', split='train', streaming=True)\n",
    "sp2 = load_dataset('cerebras/SlimPajama-627B', split='train', streaming=True)"
   ]
  },
  {
   "cell_type": "code",
   "execution_count": 6,
   "id": "95355312-4736-40fb-be64-87af178be14a",
   "metadata": {},
   "outputs": [
    {
     "name": "stdout",
     "output_type": "stream",
     "text": [
      "The Independent Jane\n",
      "For all the love, romance and scandal in Jane Austen’s books, what they are really about is freedom and independence. Independence of thought and the freedom to choose.\n",
      "Elizabeth’s refusal of Mr. Collins offer of marriage showed an independence seldom seen in heroines of the day. Her refusal of Mr. Darcy while triggered by anger showed a level of independence that left him shocked and stunned.\n",
      "The freedom she exhibited in finally accepting him in direct defiance of Lady Catherine and knowing her father would disapprove was unusual even for Austen. In her last book Anne Elliot is persuaded to refuse Captain Wentworth at Lady Russel’s insistence.\n",
      "Although Jane played by the rules of the day, all of her writing is infused with how she wanted life to be. She ‘screams’ her outrage at the limitations for women in Emma.\n",
      "When accosted by Mrs. Elton, Jane Fairfax says,\n",
      "“Excuse me, ma’am, but this is by no means my intention; I make no inquiry myself, and should be sorry to have any made by my friends. When I am quite determined as to the time, I am not at all afraid of being long unemployed. There are places in town, offices, where inquiry would soon produce something — offices for the sale, not quite of human flesh, but of human intellect.”\n",
      "“Oh! my dear, human flesh! You quite shock me; if you mean a fling at the slave-trade, I assure you Mr. Suckling was always rather a friend to the abolition.”\n",
      "“I did not mean, I was not thinking of the slave-trade,” replied Jane; “governess-trade, I assure you, was all that I had in view; widely different certainly, as to the guilt of those who carry it on; but as to the greater misery of the victims, I do not know where it lies.”\n",
      "That same sentiment is emphasized in Emma’s shock when Mrs. Weston tells her of Frank Churchill’s secret engagement to Jane.\n",
      "“Good God!” cried Emma, “Jane actually on the point of going as governess! What could he mean by such horrible indelicacy? To suffer her to engage herself — to suffer her even to think of such a measure!”\n",
      "I find it interesting that at the moment of Austen’s birth or there about, John Adams left his farm in Massachusetts for the Continental Congress in Philadelphia. Doesn’t sound particularly interesting, I know but consider this.\n",
      "John Adams left his home in mid-December 1775 to attend an unprecedented meeting of colonial representatives to consider severing ties with their mother country and her monarch; a decision that culminated in a document unlike any ever written. In the mother country, one day in that same cold December a baby girl was born at Steventon Rectory. Her cry was heard by only the people in the house but the years to come would see her pen create works unlike any the world had ever seen.\n",
      "Comparing Austen’s words with Thomas Jefferson’s may seem a trivialization but I believe that Austen’s impact on the world is no less important than Jefferson’s. The effect of Jane’s writing maybe more subtle than that of the Virginian but it is no less influential.\n",
      "Jefferson’s words instigated and promoted a revolution, a war of independence. Jane’s words had no such excessive consequence. Still in her own quiet, genteel yet powerful way she declared and promoted the same principles of freedom and self-regulated independence as our American forefathers. In all her novels Jane advocates independence of person and thought, the rights of all and acceptance of responsibility for those rights.\n",
      "Jane may not have incited military action as Jefferson did but even as an avowed royalist, I doubt not that Jane Austen firmly believed in his declaration of the right to life, liberty and the pursuit of happiness.\n",
      "2\n",
      "Taking Play Seriously\n",
      "By ROBIN MARANTZ HENIG\n",
      "Published: February 17, 2008\n",
      "On a drizzly Tuesday night in late January, 200 people came out to hear a psychiatrist talk rhapsodically about play -- not just the intense, joyous play of children, but play for all people, at all ages, at all times. (All species too; the lecture featured touching photos of a polar bear and a husky engaging playfully at a snowy outpost in northern Canada.) Stuart Brown, president of the National Institute for Play, was speaking at the New York Public Library's main branch on 42nd Street. He created the institute in 1996, after more than 20 years of psychiatric practice and research persuaded him of the dangerous long-term consequences of play deprivation. In a sold-out talk at the library, he and Krista Tippett, host of the public-radio program ''Speaking of Faith,'' discussed the biological and spiritual underpinnings of play. Brown called play part of the ''developmental sequencing of becoming a human primate. If you look at what produces learning and memory and well-being, play is as fundamental as any other aspect of life, including sleep and dreams.''\n",
      "The message seemed to resonate with audience members, who asked anxious questions about what seemed to be the loss of play in their children's lives. Their concern came, no doubt, from the recent deluge of eulogies to play . Educators fret that school officials are hacking away at recess to make room for an increasingly crammed curriculum. Psychologists complain that overscheduled kids have no time left for the real business of childhood: idle, creative, unstructured free play. Public health officials link insufficient playtime to a rise in childhood obesity. Parents bemoan the fact that kids don't play the way they themselves did -- or think they did. And everyone seems to worry that without the chance to play stickball or hopscotch out on the street, to play with dolls on the kitchen floor or climb trees in the woods, today's children are missing out on something essential.\n",
      "The success of ''The Dangerous Book for Boys'' -- which has been on the best-seller list for the last nine months -- and its step-by-step instructions for activities like folding paper airplanes is testament to the generalized longing for play's good old days. So were the questions after Stuart Brown's library talk; one woman asked how her children will learn trust, empathy and social skills when their most frequent playing is done online. Brown told her that while video games do have some play value, a true sense of ''interpersonal nuance'' can be achieved only by a child who is engaging all five senses by playing in the three-dimensional world.\n",
      "This is part of a larger conversation Americans are having about play. Parents bobble between a nostalgia-infused yearning for their children to play and fear that time spent playing is time lost to more practical pursuits. Alarming headlines about U.S. students falling behind other countries in science and math, combined with the ever-more-intense competition to get kids into college, make parents rush to sign up their children for piano lessons and test-prep courses instead of just leaving them to improvise on their own; playtime versus r?m?uilding.\n",
      "Discussions about play force us to reckon with our underlying ideas about childhood, sex differences, creativity and success. Do boys play differently than girls? Are children being damaged by staring at computer screens and video games? Are they missing something when fantasy play is populated with characters from Hollywood's imagination and not their own? Most of these issues are too vast to be addressed by a single field of study (let alone a magazine article). But the growing science of play does have much to add to the conversation. Armed with research grounded in evolutionary biology and experimental neuroscience, some scientists have shown themselves eager -- at times perhaps a little too eager -- to promote a scientific argument for play. They have spent the past few decades learning how and why play evolved in animals, generating insights that can inform our understanding of its evolution in humans too. They are studying, from an evolutionary perspective, to what extent play is a luxury that can be dispensed with when there are too many other competing claims on the growing brain, and to what extent it is central to how that brain grows in the first place.\n",
      "Scientists who study play, in animals and humans alike, are developing a consensus view that play is something more than a way for restless kids to work off steam; more than a way for chubby kids to burn off calories; more than a frivolous luxury. Play, in their view, is a central part of neurological growth and development -- one important way that children build complex, skilled, responsive, socially adept and cognitively flexible brains.\n",
      "Their work still leaves some questions unanswered, including questions about play's darker, more ambiguous side: is there really an evolutionary or developmental need for dangerous games, say, or for the meanness and hurt feelings that seem to attend so much child's play? Answering these and other questions could help us understand what might be lost if children play less.\n",
      "3\n",
      "How do you get HIV?\n",
      "HIV can be passed on when infected bodily fluid, such as blood or semen, is passed into an uninfected person. Semen is the liquid which is released from a man's penis during sex which carries sperm. It can be infected with HIV or AIDS when someone is HIV positive or is carrying the AIDS virus. This can happen during unprotected sex. For example when two people have sex without using a condom when one partner is already infected, or between drug users who inject and share needles.\n",
      "It can't be transmitted by things like coughing, sneezing, kissing, sharing a toilet seat, swimming pools, sweat and tears.\n",
      "4\n",
      "CTComms sends on average 2 million emails monthly on behalf of over 125 different charities and not for profits.\n",
      "Take the complexity of technology and stir in the complexity of the legal system and what do you get? Software licenses! If you've ever attempted to read one you know how true this is, but you have to know a little about software licensing even if you can't parse all of the fine print.\n",
      "By: Chris Peters\n",
      "March 10, 2009\n",
      "A software license is an agreement between you and the owner of a program which lets you perform certain activities which would otherwise constitute an infringement under copyright law. The software license usually answers questions such as:\n",
      "The price of the software and the licensing fees, if any, are sometimes discussed in the licensing agreement, but usually it's described elsewhere.\n",
      "If you read the definitions below and you're still scratching your head, check out Categories of Free and Non-Free Software which includes a helpful diagram.\n",
      "Free vs Proprietary:\n",
      "When you hear the phrase \"free software\" or \"free software license,\" \"free\" is referring to your rights and permissions (\"free as in freedom\" or \"free as in free speech\"). In other words, a free software license gives you more rights than a proprietary license. You can usually copy, modify, and redistribute free software without paying a fee or obtaining permission from the developers and distributors. In most cases \"free software\" won't cost you anything, but that's not always the case – in this instance the word free is making no assertion whatsoever about the price of the software. Proprietary software puts more restrictions and limits on your legal permission to copy, modify, and distribute the program.\n",
      "Free, Open-Source or FOSS?\n",
      "In everyday conversation, there's not much difference between \"free software,\" \"open source software,\" and \"FOSS (Free and Open-Source Software).\" In other words, you'll hear these terms used interchangeably, and the proponents of free software and the supporters of open-source software agree with one another on most issues. However, the official definition of free software differs somewhat from the official definition of open-source software, and the philosophies underlying those definitions differ as well. For a short description of the difference, read Live and Let License. For a longer discussion from the \"free software\" side, read Why Open Source Misses the Point of Free Software. For the \"open-source\" perspective, read Why Free Software is Too Ambiguous.\n",
      "Public domain and copyleft.\n",
      "These terms refer to different categories of free, unrestricted licensing. A copyleft license allows you all the freedoms of a free software license, but adds one restriction. Under a copyleft license, you have to release any modifications under the same terms as the original software. In effect, this blocks companies and developers who want to alter free software and then make their altered version proprietary. In practice, almost all free and open-source software is also copylefted. However, technically you can release \"free software\" that isn't copylefted. For example, if you developed software and released it under a \"public domain\" license, it would qualify as free software, but it isn't copyleft. In effect, when you release something into the public domain, you give up all copyrights and rights of ownership.\n",
      "Shareware and freeware.\n",
      "These terms don't really refer to licensing, and they're confusing in light of the discussion of free software above. Freeware refers to software (usually small utilities at sites such as Tucows.com) that you can download and install without paying. However, you don't have the right to view the source code, and you may not have the right to copy and redistribute the software. In other words, freeware is proprietary software. Shareware is even more restrictive. In effect, shareware is trial software. You can use it for a limited amount of time (usually 30 or 60 days) and then you're expected to pay to continue using it.\n",
      "End User Licensing Agreement (EULA).\n",
      "When you acquire software yourself, directly from a vendor or retailer, or directly from the vendor's Web site, you usually have to indicate by clicking a box that you accept the licensing terms. This \"click-through\" agreement that no one ever reads is commonly known as a EULA. If you negotiate a large purchase of software with a company, and you sign a contract to seal the agreement, that contract usually replaces or supersedes the EULA.\n",
      "Most major vendors of proprietary software offer some type of bulk purchasing and volume licensing mechanism. The terms vary widely, but if you order enough software to qualify, the benefits in terms of cost and convenience are significant. Also, not-for-profits sometimes qualify for it with very small initial purchases.\n",
      "Some of the benefits of volume licensing include:\n",
      "Lower cost. As with most products, software costs less when you buy more of it.\n",
      "Ease of installation. Without volume licenses, you usually have to enter a separate activation code (also known as a product key or license key) for each installed copy of the program. On the other hand, volume licenses provide you with a single, organisation-wide activation code, which makes it much easier to find when you need to reinstall the software.\n",
      "Easier tracking of licenses. Keeping track of how many licenses you own, and how many copies you've actually installed, is a tedious, difficult task. Many volume licensing programs provide an online account which is automatically updated when you obtain or activate a copy of that company's software. These accounts can also coordinate licensing across multiple offices within your organisation.\n",
      "To learn more about volume licensing from a particular vendor, check out some of the resources below:\n",
      "Qualified not-for-profits and libraries can receive donated volume licenses for Microsoft products through TechSoup. For more information, check out our introduction to the Microsoft Software Donation Program, and the Microsoft Software Donation Program FAQ. For general information about the volume licensing of Microsoft software, see Volume Licensing Overview.\n",
      "If you get Microsoft software from TechSoup or other software distributors who work with not-for-profits, you may need to go to the eOpen Web site to locate your Volume license keys. For more information, check out the TechSoup Donation Recipient's Guide to the Microsoft eOpen Web Site.\n",
      "Always check TechSoup Stock first to see if there's a volume licensing donation program for the software you're interested in. If TechSoup doesn't offer that product or if you need more copies than you can find at TechSoup, search for \"volume licensing not-for-profits software\" or just \"not-for-profits software.\" For example, when we have an inventory of Adobe products, qualifying and eligible not-for-profits can obtain four individual products or one copy of Creative Suite 4 through TechSoup. If we're out of stock, or you've used up your annual Adobe donation, you can also check TechSoup's special Adobe donation program and also Adobe Solutions for Nonprofits for other discounts available to not-for-profits. For more software-hunting tips, see A Quick Guide to Discounted Software Programs.\n",
      "Pay close attention to the options and licensing requirements when you acquire server-based software. You might need two different types of license – one for the server software itself, and a set of licenses for all the \"clients\" accessing the software. Depending on the vendor and the licensing scenario, \"client\" can refer either to the end users themselves (for example, employees, contractors, clients, and anyone else who uses the software in question) or their computing devices (for example, laptops, desktop computers, smartphones, PDAs, etc.). We'll focus on Microsoft server products, but similar issues can arise with other server applications.\n",
      "Over the years, Microsoft has released hundreds of server-based applications, and the licensing terms are slightly different for each one. Fortunately, there are common license types and licensing structures across different products. In other words, while a User CAL (Client Access License) for Windows Server is distinct from a User CAL for SharePoint Server, the underlying terms and rights are very similar. The TechSoup product pages for Microsoft software do a good job of describing the differences between products, so we'll focus on the common threads in this article.\n",
      "Moreover, Microsoft often lets you license a single server application in more than one way, depending on the needs of your organisation. This allows you the flexibility to choose the licenses that best reflect your organisation's usage patterns and thereby cost you the least amount of money. For example, for Windows Server and other products you can acquire licenses on a per-user basis (for example, User CALs) or per-device basis (for example, Device CALs).\n",
      "The license required to install and run most server applications usually comes bundled with the software itself. So you can install and run most applications \"out of the box,\" as long as you have the right number of client licenses (see the section below for more on that). However, when you're running certain server products on a computer with multiple processors, you may need to get additional licenses. For example, if you run Windows Server 2008 DataCenter edition on a server with two processors, you need a separate license for each processor. SQL Server 2008 works the same way. This type of license is referred to as a processor license. Generally you don't need client licenses for any application that's licensed this way.\n",
      "Client Licenses for Internal Users\n",
      "Many Microsoft products, including Windows Server 2003 and Windows Server 2008, require client access licenses for all authenticated internal users (for example, employees, contractors, volunteers, etc.). On the other hand, SQL Server 2008 and other products don't require any client licenses. Read the product description at CTXchange if you're looking for the details about licensing a particular application.\n",
      "User CALs: User CALs allow each user access to all the instances of a particular server product in an organisation, no matter which device they use to gain access. In other words, if you run five copies of Windows Server 2008 on five separate servers, you only need one User CAL for each person in your organisation who access those servers (or any software installed on those servers), whether they access a single server, all five servers, or some number in between. Each user with a single CAL assigned to them can access the server software from as many devices as they want (for example, desktop computers, laptops, smartphones, etc.). User CALs are a popular licensing option.\n",
      "Device CALs: Device CALs allow access to all instances of a particular server application from a single device (for example, a desktop computer, a laptop, etc.) in your organisation. Device CALs only make sense when multiple employees use the same computer. For example, in 24-hour call centres different employees on different shifts often use the same machine, so Device CALs make sense in this situation.\n",
      "Choosing a licensing mode for your Windows Server CALs: With Windows Server 2003 and Windows Server 2008, you use a CAL (either a User CAL or a Device CAL) in one of two licensing modes: per seat or per server. You make this decision when you're installing your Windows Server products, not when you acquire the CALs. The CALs themselves don't have any mode designation, so you can use either a User CAL or a Device CAL in either mode. Per seat mode is the default mode, and the one used most frequently. The description of User CALs and Device CALs above describes the typical per seat mode. In \"per server\" mode, Windows treats each license as a \"simultaneous connection.\" In other words, if you have 40 CALs, Windows will let 40 authenticated users have access. The 41st user will be denied access. However, in per server mode, each CAL is tied to a particular instance of Windows Server, and you have to acquire a new set of licenses for each new server you build that runs Windows. Therefore, per server mode works for some small organisations with one or two servers and limited access requirements.\n",
      "You don't \"install\" client licenses the way you install software. There are ways to automate the tracking of software licenses indirectly, but the server software can't refuse access to a user or device on licensing grounds. The licenses don't leave any \"digital footprint\" that the server software can read. An exception to this occurs when you license Windows Server in per server mode. In this case, if you have 50 licenses, the 51st authenticated user will be denied access (though anonymous users can still access services).\n",
      "Some key points to remember about client licensing:\n",
      "The licensing scenarios described in this section arise less frequently, and are too complex to cover completely in this article, so they're described briefly below along with more comprehensive resources.\n",
      "You don't need client licenses for anonymous, unauthenticated external users. In other words, if someone accesses your Web site, and that site runs on Internet Information Server (IIS), Microsoft's Web serving software, you don't need a client license for any of those anonymous users.\n",
      "If you have any authenticated external users who access services on your Windows-based servers, you can obtain CALs to cover their licensing requirements. However, the External Connector License (ECL) is a second option in this scenario. The ECL covers all use by authenticated external users, but it's a lot more expensive than a CAL, so only get one if you'll have a lot of external users. For example, even if you get your licenses through the CTXchange donation program, an ECL for Windows Server 2008 has an £76 administrative fee, while a User CAL for Windows Server 2008 carries a £1 admin fee. If only a handful of external users access your Windows servers, you're better off acquiring User CALs. Also, an ECL only applies to external users and devices. In other words, if you have an ECL, you still have to get a CAL for all employees and contractors.\n",
      "Even though Terminal Services (TS) is built into Windows Server 2003 and 2008, you need to get a separate TS CAL for each client (i.e. each user or each device) that will access Terminal Services in your organisation. This TS license is in addition to your Windows Server CALs.\n",
      "Microsoft's System Centre products (a line of enterprise-level administrative software packages) use a special type of license known as a management license (ML). Applications that use this type of licensing include System Center Configuration Manager 2007 and System Center Operations Manager 2007. Any desktop or workstation managed by one of these applications needs a client management license. Any server managed by one of these applications requires a server management license, and there are two types of server management licenses – standard and enterprise. You need one or the other but not both. There are also special licensing requirements if you're managing virtual instances of Windows operating systems. For more information, see TechSoup's Guide to System Center Products and Licensing and Microsoft's white paper on Systems Center licensing.\n",
      "Some Microsoft server products have two client licensing modes, standard and enterprise. As you might imagine, an Enterprise CAL grants access to more advanced features of a product. Furthermore, with some products, such as Microsoft Exchange, the licenses are additive. In other words, a user needs both a Standard CAL AND an Enterprise CAL in order to access the advanced features. See Exchange Server 2007 Editions and Client Access Licenses for more information.\n",
      "With virtualisation technologies, multiple operating systems can run simultaneously on a single physical server. Every time you install a Microsoft application, whether on a physical hardware system or a virtual hardware system, you create an \"instance\" of that application. The number of \"instances\" of particular application that you can run using a single license varies from product to product. For more information see the Volume Licensing Briefs, Microsoft Licensing for Virtualization and the Windows Server Virtualization Calculator. For TechSoup Stock products, see the product description for more information.\n",
      "There are a lot of nuances to Microsoft licensing, and also a lot of excellent resources to help you understand different scenarios.\n",
      "About the Author:\n",
      "Chris is a former technology writer and technology analyst for TechSoup for Libraries, which aims to provide IT management guidance to libraries. His previous experience includes working at Washington State Library as a technology consultant and technology trainer, and at the Bill and Melinda Gates Foundation as a technology trainer and tech support analyst. He received his M.L.S. from the University of Michigan in 1997.\n",
      "Originally posted here.\n",
      "Copyright © 2009 CompuMentor. This work is published under a Creative Commons Attribution-NonCommercial-NoDerivs 3.0 License.\n",
      "The latest version of Microsoft Office Professional Plus is an integrated collection of programs, servers, and services designed to work together to enable optimised information work.\n",
      "5\n",
      "Hold the salt: UCLA engineers develop revolutionary new desalination membrane\n",
      "Process uses atmospheric pressure plasma to create filtering 'brush layer'\n",
      "Desalination can become more economical and used as a viable alternate water resource.\n",
      "By Wileen Wong Kromhout\n",
      "Originally published in UCLA Newsroom\n",
      "Researchers from the UCLA Henry Samueli School of Engineering and Applied Science have unveiled a new class of reverse-osmosis membranes for desalination that resist the clogging which typically occurs when seawater, brackish water and waste water are purified.\n",
      "The highly permeable, surface-structured membrane can easily be incorporated into today's commercial production system, the researchers say, and could help to significantly reduce desalination operating costs. Their findings appear in the current issue of the Journal of Materials Chemistry.\n",
      "Reverse-osmosis (RO) desalination uses high pressure to force polluted water through the pores of a membrane. While water molecules pass through the pores, mineral salt ions, bacteria and other impurities cannot. Over time, these particles build up on the membrane's surface, leading to clogging and membrane damage. This scaling and fouling places higher energy demands on the pumping system and necessitates costly cleanup and membrane replacement.\n",
      "The new UCLA membrane's novel surface topography and chemistry allow it to avoid such drawbacks.\n",
      "\"Besides possessing high water permeability, the new membrane also shows high rejection characteristics and long-term stability,\" said Nancy H. Lin, a UCLA Engineering senior researcher and the study's lead author. \"Structuring the membrane surface does not require a long reaction time, high reaction temperature or the use of a vacuum chamber. The anti-scaling property, which can increase membrane life and decrease operational costs, is superior to existing commercial membranes.\"\n",
      "The new membrane was synthesized through a three-step process. First, researchers synthesized a polyamide thin-film composite membrane using conventional interfacial polymerization. Next, they activated the polyamide surface with atmospheric pressure plasma to create active sites on the surface. Finally, these active sites were used to initiate a graft polymerization reaction with a monomer solution to create a polymer \"brush layer\" on the polyamide surface. This graft polymerization is carried out for a specific period of time at a specific temperature in order to control the brush layer thickness and topography.\n",
      "\"In the early years, surface plasma treatment could only be accomplished in a vacuum chamber,\" said Yoram Cohen, UCLA professor of chemical and biomolecular engineering and a corresponding author of the study. \"It wasn't practical for large-scale commercialization because thousands of meters of membranes could not be synthesized in a vacuum chamber. It's too costly. But now, with the advent of atmospheric pressure plasma, we don't even need to initiate the reaction chemically. It's as simple as brushing the surface with plasma, and it can be done for almost any surface.\"\n",
      "In this new membrane, the polymer chains of the tethered brush layer are in constant motion. The chains are chemically anchored to the surface and are thus more thermally stable, relative to physically coated polymer films. Water flow also adds to the brush layer's movement, making it extremely difficult for bacteria and other colloidal matter to anchor to the surface of the membrane.\n",
      "\"If you've ever snorkeled, you'll know that sea kelp move back and forth with the current or water flow,\" Cohen said. \"So imagine that you have this varied structure with continuous movement. Protein or bacteria need to be able to anchor to multiple spots on the membrane to attach themselves to the surface — a task which is extremely difficult to attain due to the constant motion of the brush layer. The polymer chains protect and screen the membrane surface underneath.\"\n",
      "Another factor in preventing adhesion is the surface charge of the membrane. Cohen's team is able to choose the chemistry of the brush layer to impart the desired surface charge, enabling the membrane to repel molecules of an opposite charge.\n",
      "The team's next step is to expand the membrane synthesis into a much larger, continuous process and to optimize the new membrane's performance for different water sources.\n",
      "\"We want to be able to narrow down and create a membrane selection system for different water sources that have different fouling tendencies,\" Lin said. \"With such knowledge, one can optimize the membrane surface properties with different polymer brush layers to delay or prevent the onset of membrane fouling and scaling.\n",
      "\"The cost of desalination will therefore decrease when we reduce the cost of chemicals [used for membrane cleaning], as well as process operation [for membrane replacement]. Desalination can become more economical and used as a viable alternate water resource.\"\n",
      "Cohen's team, in collaboration with the UCLA Water Technology Research (WaTeR) Center, is currently carrying out specific studies to test the performance of the new membrane's fouling properties under field conditions.\n",
      "\"We work directly with industry and water agencies on everything that we're doing here in water technology,\" Cohen said. \"The reason for this is simple: If we are to accelerate the transfer of knowledge technology from the university to the real world, where those solutions are needed, we have to make sure we address the real issues. This also provides our students with a tremendous opportunity to work with industry, government and local agencies.\"\n",
      "A paper providing a preliminary introduction to the new membrane also appeared in the Journal of Membrane Science last month.\n",
      "Published: Thursday, April 08, 2010\n",
      "6\n"
     ]
    }
   ],
   "source": [
    "x = 1\n",
    "\n",
    "for example in fw2:\n",
    "    print(example['text'])\n",
    "    x += 1\n",
    "    print(x)\n",
    "    if x > 5:\n",
    "        break"
   ]
  },
  {
   "cell_type": "code",
   "execution_count": 7,
   "id": "7ad4dd50-af10-4d04-a30a-ace5a3308be0",
   "metadata": {},
   "outputs": [
    {
     "name": "stdout",
     "output_type": "stream",
     "text": [
      "J.J. Abrams Returns To Write And Direct 'Star Wars: Episode IX'\n",
      "09/12/2017 11:11 am ET Updated Sep 12, 2017\n",
      "The return of the J.J.\n",
      "By Bill Bradley\n",
      "UPDATE: 4:00 p.m. ET — In addition to the director news, \"Star Wars\" announced that the premiere date for \"Episode IX\" will be Dec. 20, 2019.\n",
      "Star Wars: Episode IX is scheduled for release on December 20, 2019. pic.twitter.com/rDBqmuHX89\n",
      "— Star Wars (@starwars) September 12, 2017\n",
      "The Force was with J.J. Abrams when he launched the new set of \"Star Wars\" films with \"The Force Awakens,\" so now Disney is bringing him back.\n",
      "As Deadline reported on Tuesday, and according to a press release on StarWars.com, Abrams will return to write and direct \"Star Wars: Episode IX.\" The statement reads:\n",
      "A post shared by Star Wars (@starwars) on Sep 12, 2017 at 7:28am PDT\n",
      "After Disney unexpectedly parted ways with former \"Episode IX\" director Colin Trevorrow earlier this month, rumors that Rian Johnson, who is directing \"Star Wars: The Last Jedi,\" would take over surfaced. But Deadline reports that Johnson decided not to take the offer to direct.\n",
      "On Abrams' hiring, Lucasfilm President Kathleen Kennedy said, \"With 'The Force Awakens,' J.J. delivered everything we could have possibly hoped for, and I am so excited that he is coming back to close out this trilogy.\"\n",
      "After what we saw in \"Force Awakens,\" we're pretty excited about it, too. We just hope they call it \"The Return of the J.J.\"\n",
      "There Were 2 Royal Moments You Might Have Missed At Biden's Inauguration Joe Biden Removed Trump's Diet Coke Button, Twitter Bubbled Up With Jokes Princess Charlene Defends New Buzzcut Hairstyle: 'It Was My Decision' Katy Perry Closes Out Biden's Inauguration Celebration With A Literal Bang\n",
      "'Star Wars' Postage Stamps\n",
      "Entertainment Editor, HuffPost\n",
      "Movies Star Wars J.J. Abrams\n",
      "2\n",
      "Hire event staffing in Barrie, Ontario and discover how Push Agency can help you create the right brand perception and increase exposure.\n",
      "Barrie, ON – Looking for a superior staff that will increase sales? PUSH has your solution. Our revolutionary live marketing tactics provide our clients with the very best the industry can offer. Clients are given access to an array of amenities enhancing their experience with us. PUSH works around the clock to ensure that your event goes off without a hitch. Each client gets access to set up our database to tailor their needs. They are able to set up their very own user console to review events, select models, set up trainings, and so much more. Give us a call when planning your next Barrie area event to learn how a little PUSH can make a big impact!\n",
      "3\n",
      "Pascal Pictures\n",
      "Movie Review: Spider-Man: No Way Home (2021)\n",
      "Vincent Gaine\n",
      "The balance between innovation and homage is a difficult one to strike. This is especially so when dealing with established and beloved properties. Spider-Man: No Way Home takes on the formidable task of balancing the demands of a standalone film, the Marvel Cinematic Universe (MCU), and the wider presence of Spider-Man in cinema and popular…\n",
      "Movie Review: Little Women (2019)\n",
      "Howard Schumann\n",
      "Writer/director Greta Gerwig (\"Lady Bird\") puts a contemporary spin on Louisa May Alcott's nineteenth century classic novel in Little Women, now in its eight film version. Alcott's semi-autobiographical story about four sisters growing up in Concord, Massachusetts during and after the Civil War stands out for its warmth and celebration of family, its exquisite period…\n",
      "Movie Review: Spider-Man: Into the Spider-Verse (2018)\n",
      "Floyd Smith III\n",
      "When Sony announced its plans for a theatrical release of an animated Spider-Man film, even hardcore fans of the web swinger may have considered it to be just another unwarranted adaptation. \"Haven't we seen enough portrayals of Spider-Man?,\" those with comic-book movie fatigue asked, and yet in his seventh major solo theatrical release since 2002,…\n",
      "Movie Review: The Post (2017)\n",
      "If The Post was little more than a piece of agitprop beating the drums for the value of a free press in a democracy, it would more than justify its reason for being. The fact that it is so much more is a testament to the skills of director Steven Spielberg and the talents of…\n",
      "Movie Review: Molly's Game (2017)\n",
      "Joe Kotisso\n",
      "Since his screenwriting breakthrough with \"A Few Good Men,\" Aaron Sorkin has crafted himself an illustrious Hollywood career, which includes a nomination for the Best Adapted Screenplay Oscar for \"Moneyball\" and a win for the same for \"The Social Network\" as well as earning multiple Emmy awards for his work on the landmark TV series…\n",
      "Movie Review: Spider-Man: Homecoming (2017)\n",
      "For many a superhero fan, whether in comic books, television or movie format, Spider-Man is likely to be a childhood favorite. Stan Lee and Steve Ditko's creation of a nerdy teenager who acquires the abilities of a spider has struck nerves (or web strands) with multiple generations, as Peter Parker's struggles with his new powers…\n",
      "Movie Trailer #2: Spider-Man: Homecoming (2017)\n",
      "The second official trailer for Spider-Man: Homecoming has landed and while it still doesn't spoil any plot points, it does offer up more of a taste of the action to come. Peter Parker (Tom Holland), still coming to terms with his place in the superhero hierarchy, tiptoes between doing what he feels he has to…\n",
      "Movie Review: The Skin I Live In (2011)\n",
      "Movie Review: Stan & Ollie (2018)\n",
      "<\\/iframe><\\/div>\"); } })(); var ABDSettings = { cssSelectors: '', enableIframe: \"yes\", enableDiv: \"yes\", enableJsFile: \"yes\", statsAjaxNonce: \"8a6eb3a88b\", ajaxUrl: \"https://thecriticalcritics.com/review/wp-admin/admin-ajax.php\" } //\tMake sure ABDSettings.cssSelectors is an array... might be a string if(typeof ABDSettings.cssSelectors == 'string') { ABDSettings.cssSelectors = [ABDSettings.cssSelectors]; }\n",
      "4\n",
      "Lej Assassination Tango hos Itunes for 39 kr.\n",
      "John J. (Robert Duvall) is a seasoned hit man sent on a job to Argentina. When the General he's sent to kill delays his return to the country, John passes the time with Manuela (Luciana Pedraza), a beautiful dancer who becomes his teacher and guide into Argentina's sensual world of the tango. Spellbound by the rich and mysterious world Manuela has shown him, his idyll is shattered when the reality of why he's there comes crashing down around him.\n",
      "5\n",
      "CBA legal challenge heads to B.C. Court of Appeal\n",
      "By David Weir|June 26th, 2020|Advocacy, Community Benefits Agreement|\n",
      "The construction industry partners challenging B.C.'s Community Benefits Agreement (CBA) will be in court July 16 and 17 to appeal the B.C. Supreme Court ruling that stalled the judicial review last February. The B.C. Court of Appeal will be asked to overturn Supreme Court Justice Christopher Giaschi's decision striking portions of the petition for [...]\n",
      "CBA update – BCIB publishes updated FAQ\n",
      "By David Weir|March 2nd, 2020|Advocacy, Community Benefits Agreement, In The News|\n",
      "Contractors wanting to understand how B.C.'s Community Benefit Agreement (CBA) will be applied may find the answers they need in an updated Contractor & Subcontractor Q and A document produced by B.C. Infrastructure Benefits Inc. (BCIB). The updated Q&A, which was posted recently to a redesigned BCIB website, provides answers to several questions VRCA [...]\n",
      "VRCA attends rally demanding government stops the CBA roll-out\n",
      "By David Weir|November 22nd, 2019|Advocacy, Community Benefits Agreement, In The News|\n",
      "The Vancouver Regional Construction Association (VRCA) joined industry representatives and progressive labour unions at the B.C. legislature on November 19 to demand the provincial government stop the roll-out of its prescriptive and regressive Community Benefits Agreement (CBA), introduced in July 2018. \"Our industry is deeply offended at the lack of industry engagement that took [...]\n",
      "Community Benefits Agreement and regional advocacy the focus at November Division meetings\n",
      "By David Weir|October 21st, 2019|Advocacy, Community Benefits Agreement, General Contractors, Manufacturers & Suppliers, Trade Contractors|\n",
      "The provincial government policy requiring key infrastructure projects to be built using the Community Benefits Agreement (CBA) framework continues to be one of the top issues worrying B.C.'s construction industry. Join us at Division meetings in November to get an update on: The legal challenge to the CBA brought by VRCA and its industry [...]\n",
      "Separating fact from fake on the B.C government's infrastructure deal\n",
      "By David Weir|January 21st, 2019|Advocacy, Community Benefits Agreement, In The News|\n",
      "Do you support forcing the Canucks to play with half of their own players while having the other half assigned to them at game time? We suspect few would agree to such a proposal, yet that's exactly what the B.C. Government is asking construction companies to do under its Community Benefits Agreement (CBA). Paul [...]\n",
      "BCCA shares BCIB's responses regarding the Community Benefits Agreement\n",
      "By David Weir|November 19th, 2018|Advocacy, Community Benefits Agreement|\n",
      "There are many questions about the Community Benefits Agreement that can't be answered by reading the agreement itself. Some, but not all, of the questions were answered during a recent meeting between the B.C. Construction Association (BCCA) and BC Infrastructure Benefits (BCIB). Based on member feedback at the Oct. 17 Division meeting, VRCA compiled [...]\n",
      "Who really benefits from community benefits agreements?\n",
      "By David Weir|October 22nd, 2018|Advocacy, Community Benefits Agreement, Events, In The News|\n",
      "VRCA and Mierau Contractors Ltd. are co-sponsoring the Abbotsford Chamber of Commerce November luncheon Nov. 1. The topic is: \"Who really benefits from community benefits agreements?\" The guest speaker will be Ken Baerg, executive director of Canada Works. Baerg is a seasoned labour relations strategist and practitioner who is passionate about supporting sustainable and [...]\n",
      "VRCA launches advocacy section on its website\n",
      "By David Weir|October 1st, 2018|Advocacy, Community Benefits Agreement, In The News|\n",
      "As British Columbia's oldest and largest regional construction association, the Vancouver Regional Construction Association (VRCA) represents the general and trade contractors, manufacturers, suppliers and various professional services providers who operate in the industrial, commercial and institutional construction industry in the Lower Mainland. As such, VRCA publicly takes positions and speaks out on business issues [...]\n",
      "Community Benefits Town Hall Meeting\n",
      "By Fiona Famulak|September 17th, 2018|Advocacy, Community Benefits Agreement, In The News|\n",
      "Dear member, Please join us for an important members-only town hall meeting to discuss industry's response to the new Community Benefits Agreement (CBA) that: forces construction workers to join and pay dues to the Building Trades Unions as a condition of working on certain public construction projects where the CBA will be used, which [...]\n",
      "BCCA launches letter campaign to fight Community Benefits Agreement\n",
      "By David Weir|August 13th, 2018|Advocacy, Community Benefits Agreement, In The News|\n",
      "The BC Construction Association (BCCA), on behalf of the four regional construction associations, has launched a letter-writing campaign against the Community Benefits Agreement for key infrastructure projects in B.C. Trades people and owners of construction companies are encouraged to sign a pre-drafted letter that will be sent to B.C. Premier John Horgan explaining why [...]\n",
      "6\n"
     ]
    }
   ],
   "source": [
    "x = 1\n",
    "\n",
    "for example in sp2:\n",
    "    print(example['text'])\n",
    "    x += 1\n",
    "    print(x)\n",
    "    if x > 5:\n",
    "        break"
   ]
  },
  {
   "cell_type": "code",
   "execution_count": null,
   "id": "3f85e59a-fabb-452a-aad0-c4fcb59d7a4a",
   "metadata": {},
   "outputs": [],
   "source": []
  }
 ],
 "metadata": {
  "kernelspec": {
   "display_name": "Python 3 (ipykernel)",
   "language": "python",
   "name": "python3"
  },
  "language_info": {
   "codemirror_mode": {
    "name": "ipython",
    "version": 3
   },
   "file_extension": ".py",
   "mimetype": "text/x-python",
   "name": "python",
   "nbconvert_exporter": "python",
   "pygments_lexer": "ipython3",
   "version": "3.12.0"
  }
 },
 "nbformat": 4,
 "nbformat_minor": 5
}
