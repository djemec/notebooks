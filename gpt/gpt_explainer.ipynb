{
 "cells": [
  {
   "cell_type": "markdown",
   "id": "af962655-070a-43d7-a3cf-a4ef90f3096d",
   "metadata": {},
   "source": [
    "# GPT Explainer\n",
    "\n",
    "the purpose of this is to walk through what happens during the forward pass of GPT-2 like models.  To help display the transformation, we'll use the first sentence from the [linear algebra wiki page](https://en.wikipedia.org/wiki/Linear_algebra) and [lu decomposition wiki page](https://en.wikipedia.org/wiki/LU_decomposition) as the topic is fitting and it shows us some non-standard patterns.  "
   ]
  },
  {
   "cell_type": "markdown",
   "id": "10c1067a-aa58-4916-af71-d24e1faa80da",
   "metadata": {},
   "source": [
    "## Text Prep/Tokenization\n",
    "we'll start with common preprocessing step of tokenizing the data.  This converts the string text into an array of numbers that can be used during the training loop.  We'll use byte-pair-encodging based on the GPT-3 tokenizer in the library `tiktoken` to simplify this process.  Tokenization simply finds the longest pattern of characters that's in common with what was trained and replaces it with an integer that represents it.  This way we turn the text into a numeric array to simplify computing. "
   ]
  },
  {
   "cell_type": "code",
   "execution_count": 1,
   "id": "4d0fa4a6-5aeb-4d5e-b233-5594176e55c0",
   "metadata": {},
   "outputs": [],
   "source": [
    "import tiktoken\n",
    "import torch"
   ]
  },
  {
   "cell_type": "code",
   "execution_count": 2,
   "id": "0a475495-4b2d-4484-ba7c-8c6fa7ecedb1",
   "metadata": {},
   "outputs": [],
   "source": [
    "raw_example_1 = r'''Linear algebra is the branch of mathematics concerning linear equations such as\n",
    "\n",
    "    a 1 x 1 + ⋯ + a n x n = b , {\\displaystyle a_{1}x_{1}+\\cdots +a_{n}x_{n}=b,}\n",
    "\n",
    "linear maps such as\n",
    "\n",
    "    ( x 1 , … , x n ) ↦ a 1 x 1 + ⋯ + a n x n , {\\displaystyle (x_{1},\\ldots ,x_{n})\\mapsto a_{1}x_{1}+\\cdots +a_{n}x_{n},}\n",
    "\n",
    "and their representations in vector spaces and through matrices.'''\n",
    "\n",
    "raw_example_2 = r'''In numerical analysis and linear algebra, lower–upper (LU) decomposition or factorization factors a matrix as the product of a lower triangular matrix and an upper triangular matrix (see matrix multiplication and matrix decomposition).'''\n",
    "\n"
   ]
  },
  {
   "cell_type": "code",
   "execution_count": 3,
   "id": "11f1b9e7-4ec6-44fc-8e5d-6fab0fd0aff5",
   "metadata": {},
   "outputs": [
    {
     "data": {
      "text/plain": [
       "tensor([100257,  32998,  47976,    374,    279,   9046,    315,  38696,  18815,\n",
       "         13790,  39006,   1778,    439,    271,    262,    264,    220,     16,\n",
       "           865,    220,     16,    489,   2928,    233,    107,    489,    264,\n",
       "           308,    865,    308,    284,    293,   1174,  29252,   5610,   3612,\n",
       "           264,  15511,     16,     92,     87,  15511,     16,     92,  42815,\n",
       "          4484,   2469,    489,     64,  15511,     77,     92,     87,  15511,\n",
       "            77,  52285,     65,     11,    633,  23603,  14370,   1778,    439,\n",
       "           271,    262,    320,    865,    220,     16,   1174,   4696,   1174,\n",
       "           865,    308,    883,   9212,     99,    264,    220,     16,    865,\n",
       "           220,     16,    489,   2928,    233,    107,    489,    264,    308,\n",
       "           865,    308,   1174,  29252,   5610,   3612,    320,     87,  15511,\n",
       "            16,   2186,     59,    509,   2469,   1174,     87,  15511,     77,\n",
       "          5525,     59,   2235,  34152,    264,  15511,     16,     92,     87,\n",
       "         15511,     16,     92,  42815,   4484,   2469,    489,     64,  15511,\n",
       "            77,     92,     87,  15511,     77,   2186,    633,    438,    872,\n",
       "         44713,    304,   4724,  12908,    323,   1555,  36295,     13, 100257,\n",
       "           644,  35876,   6492,    323,  13790,  47976,     11,   4827,   4235,\n",
       "         13886,    320,  24115,      8,  66266,    477,   8331,   2065,   9547,\n",
       "           264,   6303,    439,    279,   2027,    315,    264,   4827,  66594,\n",
       "          6303,    323,    459,   8582,  66594,   6303,    320,   4151,   6303,\n",
       "         47544,    323,   6303,  66266,    570])"
      ]
     },
     "execution_count": 3,
     "metadata": {},
     "output_type": "execute_result"
    }
   ],
   "source": [
    "enc = tiktoken.get_encoding('cl100k_base')\n",
    "eot = enc._special_tokens['<|endoftext|>']\n",
    "tokens = []\n",
    "for example in [raw_example_1, raw_example_2]:\n",
    "    tokens.extend([eot])\n",
    "    tokens.extend(enc.encode_ordinary(example))\n",
    "all_tokens = torch.tensor(tokens, dtype=torch.long)\n",
    "all_tokens"
   ]
  },
  {
   "cell_type": "markdown",
   "id": "a853b63d-29e5-4786-bf59-6aba024a8e5b",
   "metadata": {},
   "source": [
    "## Modeling\n",
    "A machine learning model forward pass now uses the tokenization information, runs several layers of linear algebra on it, and then \"predicts\" the next token. When it is noisy (like you will see in this example), this process results in gibberish.  The training process changes the noise to pattern during the \"backward pass\" as you'll see.    We'll show 3 steps that are focused on training:\n",
    "1. Data Loading - this step pulls from the raw data enough tokens to complete a forward and backward pass.  If the model is inference only, this step is replaces with taking in the inference input and preparing it similarly for only the forward pass.\n",
    "2. Forward Pass - using the data and the model architecture to predict the next token\n",
    "3. Backward Pass - using differentials to understand what parameters most impact the forward pass' impact on it's prediction, comparing that against what is actually right based on the data loading step, and then making very minor adjustments to the impactful parameters with the hope it improves future predictions.  "
   ]
  },
  {
   "cell_type": "markdown",
   "id": "beebcd3d-f018-475e-a1ef-512326893e5a",
   "metadata": {},
   "source": [
    "```\n",
    "x, y = train_loader.next_batch()\n",
    "logits, loss = model(x, y)\n",
    "loss.backward()\n",
    "```"
   ]
  },
  {
   "cell_type": "markdown",
   "id": "70511c70-5b74-407d-b439-0f6a24c12f8e",
   "metadata": {},
   "source": [
    "### Data Loading\n",
    "To start, we need to get enough data to run the forward and backward passes.  Since our total dataset is likely too big to hold all at once in real practice, we would read just enough file information into memory so that we can run the passes, leaving memory and compute to be used on the passes instead of static data holding. \n",
    "To start, we have to identify the batch size and the model context length to determine how much data we need.  Consequentially, these dimensions also form 2 of the 3 dimensions in the initial matrix.\n",
    "- **Batch Size (B)** - This is the number of examples you'll learn on at a time. \n",
    "- **Context Length (T)** - This is the max number of tokens that a model can use in a single pass to generat the next token. If an example is below this length, it can be padded.\n",
    "  \n",
    "*Ideally both B and T are multiples of 2 to work nicely with chip architecture. This is a common theme across the board*"
   ]
  },
  {
   "cell_type": "code",
   "execution_count": 4,
   "id": "6b87eb7f-f648-459f-8770-05b41acf0513",
   "metadata": {},
   "outputs": [],
   "source": [
    "B = 2 # Batch\n",
    "T = 16 # context length"
   ]
  },
  {
   "cell_type": "markdown",
   "id": "f307d03f-e9b7-44c5-82ea-e25236612a0d",
   "metadata": {},
   "source": [
    "To start, we need to pull from our long raw_token list enough tokens for the forward pass. To be able to satisfy training `B` Batches `T` Context length, we need to pull out `B*T` tokens to slide the context window across the examples enough to satisfy the batch size.  Since the training will attempt to predict the last token given the previous tokens in context, we also need 1 more token at the end so that the last training example in the last batch can have the next token to validate against. "
   ]
  },
  {
   "cell_type": "code",
   "execution_count": 6,
   "id": "3e06beb6-747c-4565-b730-a539bfd8bb5a",
   "metadata": {},
   "outputs": [
    {
     "data": {
      "text/plain": [
       "tensor([100257,  32998,  47976,    374,    279,   9046,    315,  38696,  18815,\n",
       "         13790,  39006,   1778,    439,    271,    262,    264,    220,     16,\n",
       "           865,    220,     16,    489,   2928,    233,    107,    489,    264,\n",
       "           308,    865,    308,    284,    293,   1174])"
      ]
     },
     "execution_count": 6,
     "metadata": {},
     "output_type": "execute_result"
    }
   ],
   "source": [
    "current_position = 0\n",
    "tok_for_training = all_tokens[current_position:current_position + B*T +1 ]\n",
    "tok_for_training"
   ]
  },
  {
   "cell_type": "markdown",
   "id": "01bfbb68-1575-4bba-95ee-9fe81f2d7eff",
   "metadata": {},
   "source": [
    "Now that we have our initial tokens to train on, we now need to convert it to a matrix that's ready for training. In this step we'll need to create our batches and setup two different arrays: 1/ the input, `x`, tokens that will result in 2/ the output `y` tokens. To create each example in the batch, every `T` tokens will be placed into it's own row. \n",
    "\n",
    "Recall that training takes in a string of tokens the length of the context and then predicts the next token. Recall that when we extracted `tok_for_training` we added 1 extra token so that we can evaluate the prediction for the last example. Bcause of this, the input, `x`, will be all of the tokens up to the second to last element `[:-1]`.  \n",
    "\n",
    "It might be natural to think the output `y` would then just be the last token.But this is actually wasting valuable training loops.  Yes, there is the xample that fills the context `T`, but we also have enough tokens in `tok_for_training` where any context length of `n` where `n<T` can also be used for inference since we have the `n+1` token available.  You can think of the following example:\n",
    "\n",
    "sentence: `Hi I am learning`. This sentence contains the following \"next tokens\" that can be learned:\n",
    "1. x: Hi I am  | y: learning\n",
    "2. x: Hi I     | y: am\n",
    "3. x: Hi       | y: I\n",
    "\n",
    "Because we have this triangle to create, our `y` can be much larger.  We can start with the second token and, go all the way to the last element we added for the last example `[1:'`.   \n",
    "\n",
    "\n",
    "We will now put this together and do the following:\n",
    "1. Extract the input `x` and then split it into an example for each batch `B`\n",
    "2. Extract the output `y` and then split it into an example for each batch `B`\n",
    "\n",
    "*Note: View can take `-1` which allows the matrix to infer the dimension so we do not need to pass in `T`, but given how many matricies we'll work with we want to make sure we're controlling the dimensions or erroring out if they do not match our expectations.*"
   ]
  },
  {
   "cell_type": "code",
   "execution_count": 14,
   "id": "87de4a84-1b29-4ecb-9a9a-ad4938b73eed",
   "metadata": {},
   "outputs": [
    {
     "data": {
      "text/plain": [
       "tensor([100257,  32998,  47976,    374,    279,   9046,    315,  38696,  18815,\n",
       "         13790,  39006,   1778,    439,    271,    262,    264,    220,     16,\n",
       "           865,    220,     16,    489,   2928,    233,    107,    489,    264,\n",
       "           308,    865,    308,    284,    293,   1174])"
      ]
     },
     "execution_count": 14,
     "metadata": {},
     "output_type": "execute_result"
    }
   ],
   "source": [
    "tok_for_training"
   ]
  },
  {
   "cell_type": "code",
   "execution_count": 12,
   "id": "69e73535-556a-4282-861d-5e1edc86b319",
   "metadata": {},
   "outputs": [
    {
     "data": {
      "text/plain": [
       "tensor([[100257,  32998,  47976,    374,    279,   9046,    315,  38696,  18815,\n",
       "          13790,  39006,   1778,    439,    271,    262,    264],\n",
       "        [   220,     16,    865,    220,     16,    489,   2928,    233,    107,\n",
       "            489,    264,    308,    865,    308,    284,    293]])"
      ]
     },
     "execution_count": 12,
     "metadata": {},
     "output_type": "execute_result"
    }
   ],
   "source": [
    "x=tok_for_training[:-1].view(B, T)\n",
    "x"
   ]
  },
  {
   "cell_type": "code",
   "execution_count": 13,
   "id": "0f11b91e-26c6-4de9-95ef-576c4d54a162",
   "metadata": {},
   "outputs": [
    {
     "data": {
      "text/plain": [
       "tensor([[32998, 47976,   374,   279,  9046,   315, 38696, 18815, 13790, 39006,\n",
       "          1778,   439,   271,   262,   264,   220],\n",
       "        [   16,   865,   220,    16,   489,  2928,   233,   107,   489,   264,\n",
       "           308,   865,   308,   284,   293,  1174]])"
      ]
     },
     "execution_count": 13,
     "metadata": {},
     "output_type": "execute_result"
    }
   ],
   "source": [
    "y=tok_for_training[1:].view(B, T)\n",
    "y"
   ]
  },
  {
   "cell_type": "markdown",
   "id": "ef751eab-02d1-43eb-acd5-56357e705598",
   "metadata": {},
   "source": [
    "### Forward pass\n",
    "The forward pass takes a string of tokens in and predicts the next \"n\" tokens.  This is the step that's done during inference or during the forward pass of training."
   ]
  },
  {
   "cell_type": "code",
   "execution_count": null,
   "id": "7291c75e-d8e0-49d0-9b40-8b6b5a22cfb8",
   "metadata": {},
   "outputs": [],
   "source": []
  }
 ],
 "metadata": {
  "kernelspec": {
   "display_name": "Python 3 (ipykernel)",
   "language": "python",
   "name": "python3"
  },
  "language_info": {
   "codemirror_mode": {
    "name": "ipython",
    "version": 3
   },
   "file_extension": ".py",
   "mimetype": "text/x-python",
   "name": "python",
   "nbconvert_exporter": "python",
   "pygments_lexer": "ipython3",
   "version": "3.13.7"
  }
 },
 "nbformat": 4,
 "nbformat_minor": 5
}
