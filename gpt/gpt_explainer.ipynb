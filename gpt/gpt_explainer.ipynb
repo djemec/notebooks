{
 "cells": [
  {
   "cell_type": "markdown",
   "id": "af962655-070a-43d7-a3cf-a4ef90f3096d",
   "metadata": {},
   "source": [
    "# GPT Explainer\n",
    "\n",
    "the purpose of this is to walk through what happens during the forward pass of GPT-2 like models.  To help display the transformation, we'll use the first sentence from the [linear algebra wiki page](https://en.wikipedia.org/wiki/Linear_algebra) and [lu decomposition wiki page](https://en.wikipedia.org/wiki/LU_decomposition) as the topic is fitting and it shows us some non-standard patterns.  "
   ]
  },
  {
   "cell_type": "markdown",
   "id": "10c1067a-aa58-4916-af71-d24e1faa80da",
   "metadata": {},
   "source": [
    "## Text Prep/Tokenization\n",
    "we'll start with common preprocessing step of tokenizing the data.  This converts the string text into an array of numbers that can be used during the training loop.  I've built a very subtle byte-pair encdoing that has each unique character that appears and the top 5 merges. This keeps our vocab size small and managable for this example. Typically the vocab size is in the 100K+ range. A great library for this is `tiktoken`. Tokenization simply finds the longest pattern of characters that's in common with what was trained and replaces it with an integer that represents it.  This way we turn the text into a numeric array to simplify computing. "
   ]
  },
  {
   "cell_type": "code",
   "execution_count": 1,
   "id": "4d0fa4a6-5aeb-4d5e-b233-5594176e55c0",
   "metadata": {},
   "outputs": [],
   "source": [
    "import torch\n",
    "from collections import Counter"
   ]
  },
  {
   "cell_type": "code",
   "execution_count": 2,
   "id": "c63305c1-847c-441e-8982-e76dddc05ed9",
   "metadata": {},
   "outputs": [],
   "source": [
    "class SimpleBPETokenizer:\n",
    "    def __init__(self, num_merges=5, eot_token='<|endoftext|>'):\n",
    "        self.num_merges = num_merges\n",
    "        self.eot_token = eot_token\n",
    "        self.eot_id = None\n",
    "        self.merges = []\n",
    "        self.pair_ranks = {}\n",
    "        self.vocab = {}\n",
    "        self.id_to_token = {}\n",
    "\n",
    "    def _add_token(self, tok):\n",
    "        if tok in self.vocab:\n",
    "            return self.vocab[tok]\n",
    "        i = len(self.vocab)\n",
    "        self.vocab[tok] = i\n",
    "        self.id_to_token[i] = tok\n",
    "        return i\n",
    "\n",
    "    def _get_bigrams(self, seq):\n",
    "        for i in range(len(seq) - 1):\n",
    "            yield (seq[i], seq[i + 1])\n",
    "\n",
    "    def _merge_once(self, seq, pair):\n",
    "        a, b = pair\n",
    "        out = []\n",
    "        i = 0\n",
    "        while i < len(seq):\n",
    "            if i < len(seq) - 1 and seq[i] == a and seq[i + 1] == b:\n",
    "                out.append(a + b)\n",
    "                i += 2\n",
    "            else:\n",
    "                out.append(seq[i])\n",
    "                i += 1\n",
    "        return out\n",
    "\n",
    "    def train(self, corpus):\n",
    "        # corpus: list[str]\n",
    "        text = ''.join(corpus).lower()\n",
    "        seq = list(text)\n",
    "        merges = []\n",
    "        for _ in range(self.num_merges):\n",
    "            counts = Counter(self._get_bigrams(seq))\n",
    "            if not counts: break\n",
    "            best_pair, _ = counts.most_common(1)[0]\n",
    "            merges.append(best_pair)\n",
    "            seq = self._merge_once(seq, best_pair)\n",
    "        self.merges = merges\n",
    "        self.pair_ranks = {p: i for i, p in enumerate(self.merges)}\n",
    "\n",
    "        self.vocab = {}\n",
    "        self.id_to_token = {}\n",
    "        for ch in sorted(set(text)):\n",
    "            self._add_token(ch)\n",
    "        for a, b in self.merges:\n",
    "            self._add_token(a + b)\n",
    "        self.eot_id = self._add_token(self.eot_token)\n",
    "\n",
    "    def encode(self, text, force_last_eot=True):\n",
    "        # treat literal eot marker as special; remove it from content\n",
    "        if self.eot_token in text:\n",
    "            text = text.replace(self.eot_token, '')\n",
    "        seq = list(text)\n",
    "\n",
    "        # make sure all seen base chars exist\n",
    "        for ch in set(seq):\n",
    "            if ch not in self.vocab:\n",
    "                self._add_token(ch)\n",
    "\n",
    "        # greedy BPE using learned pair ranks\n",
    "        if self.merges:\n",
    "            while True:\n",
    "                best_pair, best_rank = None, None\n",
    "                for p in self._get_bigrams(seq):\n",
    "                    r = self.pair_ranks.get(p)\n",
    "                    if r is not None and (best_rank is None or r < best_rank):\n",
    "                        best_pair, best_rank = p, r\n",
    "                if best_pair is None:\n",
    "                    break\n",
    "                seq = self._merge_once(seq, best_pair)\n",
    "\n",
    "        # ensure all tokens in seq exist in vocab (e.g., if new chars appeared)\n",
    "        for tok in seq:\n",
    "            if tok not in self.vocab:\n",
    "                self._add_token(tok)\n",
    "\n",
    "        ids = [self.vocab[tok] for tok in seq]\n",
    "\n",
    "        # FORCE: append EOT id if not already last\n",
    "        if force_last_eot:\n",
    "            if not ids or ids[-1] != self.eot_id:\n",
    "                ids.append(self.eot_id)\n",
    "\n",
    "        return ids\n",
    "\n",
    "    def decode(self, ids):\n",
    "        # drop trailing EOT if present\n",
    "        if ids and self.eot_id is not None and ids[-1] == self.eot_id:\n",
    "            ids = ids[:-1]\n",
    "        toks = [self.id_to_token[i] for i in ids]\n",
    "        return ''.join(toks)\n"
   ]
  },
  {
   "cell_type": "code",
   "execution_count": 3,
   "id": "0a475495-4b2d-4484-ba7c-8c6fa7ecedb1",
   "metadata": {},
   "outputs": [],
   "source": [
    "raw_example_1 = r'''Linear algebra is central to almost all areas of mathematics. For instance, linear algebra is fundamental in modern presentations of geometry, including for defining basic objects such as lines, planes and rotations. Also, functional analysis, a branch of mathematical analysis, may be viewed as the application of linear algebra to function spaces.'''\n",
    "raw_example_2 = r'''In numerical analysis and linear algebra, lower–upper (LU) decomposition or factorization factors a matrix as the product of a lower triangular matrix and an upper triangular matrix (see matrix multiplication and matrix decomposition).'''\n"
   ]
  },
  {
   "cell_type": "code",
   "execution_count": 4,
   "id": "6381f444-a72c-4093-9d91-9cec01e2c2e7",
   "metadata": {},
   "outputs": [
    {
     "data": {
      "text/plain": [
       "[(' ', 'a'), ('a', 't'), ('i', 'n'), (' ', 'm'), ('i', 'o')]"
      ]
     },
     "execution_count": 4,
     "metadata": {},
     "output_type": "execute_result"
    }
   ],
   "source": [
    "tok = SimpleBPETokenizer(num_merges=5)\n",
    "tok.train([raw_example_1,raw_example_2])\n",
    "tok.merges"
   ]
  },
  {
   "cell_type": "code",
   "execution_count": 5,
   "id": "9ee9498d-67c1-486d-a7dc-5b1f704af69f",
   "metadata": {},
   "outputs": [
    {
     "data": {
      "text/plain": [
       "{' ': 0,\n",
       " '(': 1,\n",
       " ')': 2,\n",
       " ',': 3,\n",
       " '.': 4,\n",
       " 'a': 5,\n",
       " 'b': 6,\n",
       " 'c': 7,\n",
       " 'd': 8,\n",
       " 'e': 9,\n",
       " 'f': 10,\n",
       " 'g': 11,\n",
       " 'h': 12,\n",
       " 'i': 13,\n",
       " 'j': 14,\n",
       " 'l': 15,\n",
       " 'm': 16,\n",
       " 'n': 17,\n",
       " 'o': 18,\n",
       " 'p': 19,\n",
       " 'r': 20,\n",
       " 's': 21,\n",
       " 't': 22,\n",
       " 'u': 23,\n",
       " 'v': 24,\n",
       " 'w': 25,\n",
       " 'x': 26,\n",
       " 'y': 27,\n",
       " 'z': 28,\n",
       " '–': 29,\n",
       " ' a': 30,\n",
       " 'at': 31,\n",
       " 'in': 32,\n",
       " ' m': 33,\n",
       " 'io': 34,\n",
       " '<|endoftext|>': 35}"
      ]
     },
     "execution_count": 5,
     "metadata": {},
     "output_type": "execute_result"
    }
   ],
   "source": [
    "tok.vocab"
   ]
  },
  {
   "cell_type": "code",
   "execution_count": 6,
   "id": "f9de51b4-9f27-4f0b-ad46-98a2074b2363",
   "metadata": {},
   "outputs": [
    {
     "data": {
      "text/plain": [
       "36"
      ]
     },
     "execution_count": 6,
     "metadata": {},
     "output_type": "execute_result"
    }
   ],
   "source": [
    "vocab_size = len(tok.vocab)\n",
    "vocab_size"
   ]
  },
  {
   "cell_type": "code",
   "execution_count": 7,
   "id": "11f1b9e7-4ec6-44fc-8e5d-6fab0fd0aff5",
   "metadata": {},
   "outputs": [
    {
     "data": {
      "text/plain": [
       "tensor([35, 15, 32,  9,  5, 20, 30, 15, 11,  9,  6, 20,  5,  0, 13, 21,  0,  7,\n",
       "         9, 17, 22, 20,  5, 15,  0, 22, 18, 30, 15, 16, 18, 21, 22, 30, 15, 15,\n",
       "        30, 20,  9,  5, 21,  0, 18, 10, 33, 31, 12,  9, 16, 31, 13,  7, 21,  4,\n",
       "         0, 10, 18, 20,  0, 32, 21, 22,  5, 17,  7,  9,  3,  0, 15, 32,  9,  5,\n",
       "        20, 30, 15, 11,  9,  6, 20,  5,  0, 13, 21,  0, 10, 23, 17,  8,  5, 16,\n",
       "         9, 17, 22,  5, 15,  0, 32, 33, 18,  8,  9, 20, 17,  0, 19, 20,  9, 21,\n",
       "         9, 17, 22, 31, 34, 17, 21,  0, 18, 10,  0, 11,  9, 18, 16,  9, 22, 20,\n",
       "        27,  3,  0, 32,  7, 15, 23,  8, 32, 11,  0, 10, 18, 20,  0,  8,  9, 10,\n",
       "        32, 32, 11,  0,  6,  5, 21, 13,  7,  0, 18,  6, 14,  9,  7, 22, 21,  0,\n",
       "        21, 23,  7, 12, 30, 21,  0, 15, 32,  9, 21,  3,  0, 19, 15,  5, 17,  9,\n",
       "        21, 30, 17,  8,  0, 20, 18, 22, 31, 34, 17, 21,  4, 30, 15, 21, 18,  3,\n",
       "         0, 10, 23, 17,  7, 22, 34, 17,  5, 15, 30, 17,  5, 15, 27, 21, 13, 21,\n",
       "         3, 30,  0,  6, 20,  5, 17,  7, 12,  0, 18, 10, 33, 31, 12,  9, 16, 31,\n",
       "        13,  7,  5, 15, 30, 17,  5, 15, 27, 21, 13, 21,  3, 33,  5, 27,  0,  6,\n",
       "         9,  0, 24, 13,  9, 25,  9,  8, 30, 21,  0, 22, 12,  9, 30, 19, 19, 15,\n",
       "        13,  7, 31, 34, 17,  0, 18, 10,  0, 15, 32,  9,  5, 20, 30, 15, 11,  9,\n",
       "         6, 20,  5,  0, 22, 18,  0, 10, 23, 17,  7, 22, 34, 17,  0, 21, 19,  5,\n",
       "         7,  9, 21,  4, 35, 35, 32,  0, 17, 23, 16,  9, 20, 13,  7,  5, 15, 30,\n",
       "        17,  5, 15, 27, 21, 13, 21, 30, 17,  8,  0, 15, 32,  9,  5, 20, 30, 15,\n",
       "        11,  9,  6, 20,  5,  3,  0, 15, 18, 25,  9, 20, 29, 23, 19, 19,  9, 20,\n",
       "         0,  1, 15, 23,  2,  0,  8,  9,  7, 18, 16, 19, 18, 21, 13, 22, 34, 17,\n",
       "         0, 18, 20,  0, 10,  5,  7, 22, 18, 20, 13, 28, 31, 34, 17,  0, 10,  5,\n",
       "         7, 22, 18, 20, 21, 30, 33, 31, 20, 13, 26, 30, 21,  0, 22, 12,  9,  0,\n",
       "        19, 20, 18,  8, 23,  7, 22,  0, 18, 10, 30,  0, 15, 18, 25,  9, 20,  0,\n",
       "        22, 20, 13,  5, 17, 11, 23, 15,  5, 20, 33, 31, 20, 13, 26, 30, 17,  8,\n",
       "        30, 17,  0, 23, 19, 19,  9, 20,  0, 22, 20, 13,  5, 17, 11, 23, 15,  5,\n",
       "        20, 33, 31, 20, 13, 26,  0,  1, 21,  9,  9, 33, 31, 20, 13, 26, 33, 23,\n",
       "        15, 22, 13, 19, 15, 13,  7, 31, 34, 17, 30, 17,  8, 33, 31, 20, 13, 26,\n",
       "         0,  8,  9,  7, 18, 16, 19, 18, 21, 13, 22, 34, 17,  2,  4, 35])"
      ]
     },
     "execution_count": 7,
     "metadata": {},
     "output_type": "execute_result"
    }
   ],
   "source": [
    "eot = tok.eot_id\n",
    "tokens = []\n",
    "for example in [raw_example_1, raw_example_2]:\n",
    "    tokens.extend([eot])\n",
    "    tokens.extend(tok.encode(example.lower()))\n",
    "all_tokens = torch.tensor(tokens, dtype=torch.long)\n",
    "all_tokens"
   ]
  },
  {
   "cell_type": "markdown",
   "id": "a853b63d-29e5-4786-bf59-6aba024a8e5b",
   "metadata": {},
   "source": [
    "# Modeling\n",
    "A machine learning model forward pass now uses the tokenization information, runs several layers of linear algebra on it, and then \"predicts\" the next token. When it is noisy (like you will see in this example), this process results in gibberish.  The training process changes the noise to pattern during the \"backward pass\" as you'll see.    We'll show 3 steps that are focused on training:\n",
    "1. **Data Loading** `x, y = train_loader.next_batch()` - this step pulls from the raw data enough tokens to complete a forward and backward pass.  If the model is inference only, this step is replaced with taking in the inference input and preparing it similarly as the forward pass.\n",
    "2. **Forward Pass** `logits, loss = model(x, y)` - using the data and the model architecture to predict the next token. When training we also compare against the expected to get loss, but in infrerence, we use the logits to complete the inference task.\n",
    "3. **Backward Pass** `loss.backward()` - using differentials to understand what parameters most impact the forward pass' impact on its prediction, comparing that against what is actually right based on the data loading step, and then making very minor adjustments to the impactful parameters with the hope it improves future predictions.  "
   ]
  },
  {
   "cell_type": "markdown",
   "id": "70511c70-5b74-407d-b439-0f6a24c12f8e",
   "metadata": {},
   "source": [
    "## Data Loading\n",
    "To start, we need to get enough data to run the forward and backward passes.  Since our total dataset is likely too big to hold all at once in real practice, we would read just enough file information into memory so that we can run the passes, leaving memory and compute to be used on the passes instead of static data holding. \n",
    "To start, we have to identify the batch size and the model context length to determine how much data we need.  Consequently, these dimensions also form 2 of the 3 dimensions in the initial matrix.\n",
    "- **Batch Size (B)** - This is the number of examples you'll train on in a single pass. \n",
    "- **Context Length (T)** - This is the max number of tokens that a model can use in a single pass to generat the next token. If an example is below this length, it can be padded.\n",
    "  \n",
    "*Ideally both B and T are multiples of 2 to work nicely with chip architecture. This is a common theme across the board*"
   ]
  },
  {
   "cell_type": "code",
   "execution_count": 8,
   "id": "6b87eb7f-f648-459f-8770-05b41acf0513",
   "metadata": {},
   "outputs": [],
   "source": [
    "B = 2 # Batch\n",
    "T = 8 # context length"
   ]
  },
  {
   "cell_type": "markdown",
   "id": "f307d03f-e9b7-44c5-82ea-e25236612a0d",
   "metadata": {},
   "source": [
    "To start, we need to pull from our long raw_token list enough tokens for the forward pass. To be able to satisfy training `B` Batches `T` Context length, we need to pull out `B*T` tokens to slide the context window across the examples enough to satisfy the batch size.  Since the training will attempt to predict the last token given the previous tokens in context, we also need 1 more token at the end so that the last training example in the last batch can have the next token to validate against. "
   ]
  },
  {
   "cell_type": "code",
   "execution_count": 9,
   "id": "3e06beb6-747c-4565-b730-a539bfd8bb5a",
   "metadata": {},
   "outputs": [
    {
     "data": {
      "text/plain": [
       "tensor([35, 15, 32,  9,  5, 20, 30, 15, 11,  9,  6, 20,  5,  0, 13, 21,  0])"
      ]
     },
     "execution_count": 9,
     "metadata": {},
     "output_type": "execute_result"
    }
   ],
   "source": [
    "current_position = 0\n",
    "tok_for_training = all_tokens[current_position:current_position + B*T +1 ]\n",
    "tok_for_training"
   ]
  },
  {
   "cell_type": "markdown",
   "id": "01bfbb68-1575-4bba-95ee-9fe81f2d7eff",
   "metadata": {},
   "source": [
    "Now that we have our initial tokens to train on, we now need to convert it to a matrix that's ready for training. In this step we'll need to create our batches and setup two different arrays: 1/ the input, `x`, tokens that will result in 2/ the output `y` tokens. To create each example in the batch, every `T` tokens will be placed into it's own row. \n",
    "\n",
    "Recall that training takes in a string of tokens the length of the context and then predicts the next token. Recall that when we extracted `tok_for_training` we added 1 extra token so that we can evaluate the prediction for the last example. Because of this, the input, `x`, will be all of the tokens up to the second to last element `[:-1]`.  \n",
    "\n",
    "It might be natural to think the output `y` would then just be the last token.But this is actually wasting valuable training loops.  Yes, there is the example that fills the context `T`, but we also have enough tokens in `tok_for_training` where any context length of `n` where `n<T` can also be used for inference since we have the `n+1` token available.  You can think of the following example:\n",
    "\n",
    "sentence: `Hi I am learning`. This sentence contains the following \"next tokens\" that can be learned:\n",
    "1. x: Hi I am  | y: learning\n",
    "2. x: Hi I     | y: am\n",
    "3. x: Hi       | y: I\n",
    "\n",
    "Because we have this triangle to create, our `y` can be much larger.  We can start with the second token and, go all the way to the last element we added for the last example `[1:'`.   \n",
    "\n",
    "\n",
    "We will now put this together and do the following:\n",
    "1. Extract the input `x` and then split it into an example for each batch `B`\n",
    "2. Extract the output `y` and then split it into an example for each batch `B`\n",
    "\n",
    "*Note: View can take `-1` which allows the matrix to infer the dimension so we do not need to pass in `T`, but given how many matrices we'll work with we want to make sure we're controlling the dimensions or erroring out if they do not match our expectations.*"
   ]
  },
  {
   "cell_type": "code",
   "execution_count": 10,
   "id": "87de4a84-1b29-4ecb-9a9a-ad4938b73eed",
   "metadata": {},
   "outputs": [
    {
     "data": {
      "text/plain": [
       "tensor([35, 15, 32,  9,  5, 20, 30, 15, 11,  9,  6, 20,  5,  0, 13, 21,  0])"
      ]
     },
     "execution_count": 10,
     "metadata": {},
     "output_type": "execute_result"
    }
   ],
   "source": [
    "tok_for_training"
   ]
  },
  {
   "cell_type": "code",
   "execution_count": 11,
   "id": "69e73535-556a-4282-861d-5e1edc86b319",
   "metadata": {},
   "outputs": [
    {
     "data": {
      "text/plain": [
       "tensor([[35, 15, 32,  9,  5, 20, 30, 15],\n",
       "        [11,  9,  6, 20,  5,  0, 13, 21]])"
      ]
     },
     "execution_count": 11,
     "metadata": {},
     "output_type": "execute_result"
    }
   ],
   "source": [
    "x=tok_for_training[:-1].view(B, T)\n",
    "x"
   ]
  },
  {
   "cell_type": "code",
   "execution_count": 12,
   "id": "0f11b91e-26c6-4de9-95ef-576c4d54a162",
   "metadata": {},
   "outputs": [
    {
     "data": {
      "text/plain": [
       "tensor([[15, 32,  9,  5, 20, 30, 15, 11],\n",
       "        [ 9,  6, 20,  5,  0, 13, 21,  0]])"
      ]
     },
     "execution_count": 12,
     "metadata": {},
     "output_type": "execute_result"
    }
   ],
   "source": [
    "y=tok_for_training[1:].view(B, T)\n",
    "y"
   ]
  },
  {
   "cell_type": "markdown",
   "id": "8d327003-6a9b-4f21-a9b3-76a0fbb2dd36",
   "metadata": {},
   "source": [
    "## Forward pass"
   ]
  },
  {
   "attachments": {},
   "cell_type": "markdown",
   "id": "ef751eab-02d1-43eb-acd5-56357e705598",
   "metadata": {},
   "source": [
    "![image.png](explainer_screenshots/full_network.png)\n",
    "\n",
    "The forward pass takes a string of tokens in and predicts the next \"n\" tokens.  This step as we'll look at it is focused on training where we'll pass in the input `x`, carry that input through the layers, and generate a matrix of the probability of each token being the next one, something we call `logits`. During the forward pass at the end we then compare the probability to the actual next token in `y` and calculate `loss` based on the difference. \n",
    "\n",
    "*Note that we will do some layer initialization to simplify following along.  In reality layers are often initialized to normal distribution with some adjustments made for parameter sizes to keep the weights properly noisy.  We will not cover initialization in this series*"
   ]
  },
  {
   "cell_type": "markdown",
   "id": "97a77a8a-f93c-48b9-b715-d3196f402c28",
   "metadata": {},
   "source": [
    "We first rederive the batch size and context size based on the input to improve flexibility."
   ]
  },
  {
   "cell_type": "code",
   "execution_count": 13,
   "id": "16252536-9637-4b9e-9a73-ed2a8ee2aa12",
   "metadata": {},
   "outputs": [],
   "source": [
    "import torch.nn as nn"
   ]
  },
  {
   "cell_type": "code",
   "execution_count": 14,
   "id": "7291c75e-d8e0-49d0-9b40-8b6b5a22cfb8",
   "metadata": {},
   "outputs": [
    {
     "data": {
      "text/plain": [
       "(2, 8)"
      ]
     },
     "execution_count": 14,
     "metadata": {},
     "output_type": "execute_result"
    }
   ],
   "source": [
    "B, T = x.size()\n",
    "B,T"
   ]
  },
  {
   "cell_type": "markdown",
   "id": "0a40579b-7cd6-46cb-8ec7-6626390395bd",
   "metadata": {},
   "source": [
    "The first layer of our network creates an embedding representation of our input sequence. "
   ]
  },
  {
   "cell_type": "code",
   "execution_count": 15,
   "id": "ea845430-56e4-40bc-b3bf-84331257007c",
   "metadata": {},
   "outputs": [],
   "source": [
    "block_size = 8 # max sequence length/context\n",
    "vocab_size = vocab_size # 36 \n",
    "n_embd = 4 # "
   ]
  },
  {
   "cell_type": "markdown",
   "id": "2ca4ad4b-c92d-4596-b255-e0e4042128f2",
   "metadata": {},
   "source": [
    "### Input Layer"
   ]
  },
  {
   "attachments": {},
   "cell_type": "markdown",
   "id": "5de68adb-24b4-4f23-b7c9-ff8f0a5ff6ca",
   "metadata": {},
   "source": [
    "![image.png](explainer_screenshots/input_layer.png)\n",
    "\n",
    "We'll first create an initiation for 2 of our input matrices: position and token embedding.  Both of these are a table of weigths that have `n_embd` number of columns to store information about the position or token. The more columns you add, the more complex information can be stored but the more compute is needed.  For now we'll let each position or column store up to 4 channels of information.  Before starting though we need to initialize the layer with a set of data."
   ]
  },
  {
   "cell_type": "code",
   "execution_count": 16,
   "id": "f37c4136-cd53-4534-84e6-0cdf509551b6",
   "metadata": {},
   "outputs": [
    {
     "data": {
      "text/plain": [
       "(Parameter containing:\n",
       " tensor([[ 1.,  2.,  3.,  4.],\n",
       "         [ 2.,  3.,  4.,  5.],\n",
       "         [ 3.,  4.,  5.,  6.],\n",
       "         [ 4.,  5.,  6.,  7.],\n",
       "         [ 5.,  6.,  7.,  8.],\n",
       "         [ 6.,  7.,  8.,  9.],\n",
       "         [ 7.,  8.,  9., 10.],\n",
       "         [ 8.,  9., 10., 11.],\n",
       "         [ 9., 10., 11., 12.],\n",
       "         [10., 11., 12., 13.],\n",
       "         [11., 12., 13., 14.],\n",
       "         [12., 13., 14., 15.],\n",
       "         [13., 14., 15., 16.],\n",
       "         [14., 15., 16., 17.],\n",
       "         [15., 16., 17., 18.],\n",
       "         [16., 17., 18., 19.],\n",
       "         [17., 18., 19., 20.],\n",
       "         [18., 19., 20., 21.],\n",
       "         [19., 20., 21., 22.],\n",
       "         [20., 21., 22., 23.],\n",
       "         [21., 22., 23., 24.],\n",
       "         [22., 23., 24., 25.],\n",
       "         [23., 24., 25., 26.],\n",
       "         [24., 25., 26., 27.],\n",
       "         [25., 26., 27., 28.],\n",
       "         [26., 27., 28., 29.],\n",
       "         [27., 28., 29., 30.],\n",
       "         [28., 29., 30., 31.],\n",
       "         [29., 30., 31., 32.],\n",
       "         [30., 31., 32., 33.],\n",
       "         [31., 32., 33., 34.],\n",
       "         [32., 33., 34., 35.],\n",
       "         [33., 34., 35., 36.],\n",
       "         [34., 35., 36., 37.],\n",
       "         [35., 36., 37., 38.],\n",
       "         [36., 37., 38., 39.]], requires_grad=True),\n",
       " Parameter containing:\n",
       " tensor([[ 1.,  2.,  3.,  4.],\n",
       "         [ 2.,  3.,  4.,  5.],\n",
       "         [ 3.,  4.,  5.,  6.],\n",
       "         [ 4.,  5.,  6.,  7.],\n",
       "         [ 5.,  6.,  7.,  8.],\n",
       "         [ 6.,  7.,  8.,  9.],\n",
       "         [ 7.,  8.,  9., 10.],\n",
       "         [ 8.,  9., 10., 11.]], requires_grad=True))"
      ]
     },
     "execution_count": 16,
     "metadata": {},
     "output_type": "execute_result"
    }
   ],
   "source": [
    "# weighted token embedding\n",
    "wte = nn.Embedding(vocab_size, n_embd)\n",
    "with torch.no_grad(): # initilize to W[i,j] = 0.001*(1+i+j) for easy following \n",
    "    vs, d = wte.num_embeddings, wte.embedding_dim\n",
    "    rows = torch.arange(vs).unsqueeze(1)  # (vs,1)\n",
    "    cols = torch.arange(d).unsqueeze(0)  # (1,d)\n",
    "    pattern = (1 + rows + cols)  # W[i,j] = 0.001*(1+i+j)\n",
    "    wte.weight.copy_(pattern)\n",
    "# weighted position embedding\n",
    "wpe = nn.Embedding(block_size, n_embd)\n",
    "with torch.no_grad(): # initilize to W[i,j] = 0.001*(1+i+j) for easy following \n",
    "    vs, d = wpe.num_embeddings, wpe.embedding_dim\n",
    "    rows = torch.arange(vs).unsqueeze(1)  # (vs,1)\n",
    "    cols = torch.arange(d).unsqueeze(0)  # (1,d)\n",
    "    pattern = (1 + rows + cols)  # W[i,j] = 0.001*(1+i+j)\n",
    "    wpe.weight.copy_(pattern)\n",
    "wte.weight, wpe.weight"
   ]
  },
  {
   "cell_type": "markdown",
   "id": "81d28ccc-7516-4d85-ad4f-91cfd6eb20c2",
   "metadata": {},
   "source": [
    "**Positional Embeddings** - Now we need to pluck the weight of each position out of the position embedding.  Since we are creating a simple left to right, position 1 to n, we can just create an array from 0 to n based on the context, `T`, then pluck those rows out.  The resulting matrix from this operation is a `T, n_embd` based vector. "
   ]
  },
  {
   "cell_type": "code",
   "execution_count": 17,
   "id": "3bcf9346-3b25-478a-9400-acef841d54a9",
   "metadata": {},
   "outputs": [
    {
     "data": {
      "text/plain": [
       "tensor([0, 1, 2, 3, 4, 5, 6, 7])"
      ]
     },
     "execution_count": 17,
     "metadata": {},
     "output_type": "execute_result"
    }
   ],
   "source": [
    "pos = torch.arange(0, T, dtype=torch.long)\n",
    "pos"
   ]
  },
  {
   "cell_type": "markdown",
   "id": "82a54e71-fd3b-46b1-9134-b2e597e01088",
   "metadata": {},
   "source": [
    "for each element, look up the row in `wpe` and pluck it out. Since the position is just `[0:T]` we can see we pluck out the position array."
   ]
  },
  {
   "cell_type": "code",
   "execution_count": 18,
   "id": "31ea57c2-0f34-446e-8e91-643db51b02af",
   "metadata": {},
   "outputs": [
    {
     "data": {
      "text/plain": [
       "(torch.Size([8, 4]),\n",
       " tensor([[ 1.,  2.,  3.,  4.],\n",
       "         [ 2.,  3.,  4.,  5.],\n",
       "         [ 3.,  4.,  5.,  6.],\n",
       "         [ 4.,  5.,  6.,  7.],\n",
       "         [ 5.,  6.,  7.,  8.],\n",
       "         [ 6.,  7.,  8.,  9.],\n",
       "         [ 7.,  8.,  9., 10.],\n",
       "         [ 8.,  9., 10., 11.]], grad_fn=<EmbeddingBackward0>))"
      ]
     },
     "execution_count": 18,
     "metadata": {},
     "output_type": "execute_result"
    }
   ],
   "source": [
    "pos_emb = wpe(pos)\n",
    "pos_emb.shape, pos_emb"
   ]
  },
  {
   "cell_type": "markdown",
   "id": "1f89e0ad-87e5-4bbe-bccb-998549487425",
   "metadata": {},
   "source": [
    "**Word Embeddings** - Similarly we need to pluck out the rows from the token table, `wte` for the tokens in our example. Since our example is already represented as indices, we can simple use `x` directly. The resulting matrix from this operation is a `B,T, n_embd` based vector since `x` is `B,T` and `tok_emb` is `vocab_size,n_embd` and when we index `wte` by `x` each entry in x replaces `n_embd` based vector at that position in `wte`."
   ]
  },
  {
   "cell_type": "code",
   "execution_count": 19,
   "id": "4bd724b1-0669-4b21-91d1-450b8231d6a5",
   "metadata": {},
   "outputs": [
    {
     "data": {
      "text/plain": [
       "tensor([[35, 15, 32,  9,  5, 20, 30, 15],\n",
       "        [11,  9,  6, 20,  5,  0, 13, 21]])"
      ]
     },
     "execution_count": 19,
     "metadata": {},
     "output_type": "execute_result"
    }
   ],
   "source": [
    "x"
   ]
  },
  {
   "cell_type": "markdown",
   "id": "13e99ae5-4f5b-4939-bb8e-c754f0c5af77",
   "metadata": {},
   "source": [
    "for each position pull out the the row of weights that corresponds to the token. You can see in the print out that the rows are not in the same order as the layer is initiliazed as the token ids are not sequential.  "
   ]
  },
  {
   "cell_type": "code",
   "execution_count": 20,
   "id": "ecfbcd6e-eacb-415c-aabf-06b3bf51a378",
   "metadata": {},
   "outputs": [
    {
     "data": {
      "text/plain": [
       "(torch.Size([2, 8, 4]),\n",
       " tensor([[[36., 37., 38., 39.],\n",
       "          [16., 17., 18., 19.],\n",
       "          [33., 34., 35., 36.],\n",
       "          [10., 11., 12., 13.],\n",
       "          [ 6.,  7.,  8.,  9.],\n",
       "          [21., 22., 23., 24.],\n",
       "          [31., 32., 33., 34.],\n",
       "          [16., 17., 18., 19.]],\n",
       " \n",
       "         [[12., 13., 14., 15.],\n",
       "          [10., 11., 12., 13.],\n",
       "          [ 7.,  8.,  9., 10.],\n",
       "          [21., 22., 23., 24.],\n",
       "          [ 6.,  7.,  8.,  9.],\n",
       "          [ 1.,  2.,  3.,  4.],\n",
       "          [14., 15., 16., 17.],\n",
       "          [22., 23., 24., 25.]]], grad_fn=<EmbeddingBackward0>))"
      ]
     },
     "execution_count": 20,
     "metadata": {},
     "output_type": "execute_result"
    }
   ],
   "source": [
    "tok_emb = wte(x)\n",
    "tok_emb.shape, tok_emb"
   ]
  },
  {
   "attachments": {},
   "cell_type": "markdown",
   "id": "099e55eb-8fb1-438a-a2ae-c05a83824b25",
   "metadata": {},
   "source": [
    "**Impact of the position and token together**\n",
    "To ensure that the position and token together impact the next token prediction, we sum the two so that the weight of each token is impacted by the weight of its relative position. To do this we sum `tok_emb` and `pos_emb` together. Quickly we can see the dimensions don't match as \n",
    "* `tok_emb` > `B,T,n_embd`\n",
    "* `pos_emb` >   `T,n_embd`\n",
    "\n",
    "Since we have multiple examples with the same ordering, we simply add pos_emb at the same level to each entry on the `B` dimension, something that pytorch does for us automatically resulting in a `B,T,n_embd` output"
   ]
  },
  {
   "cell_type": "code",
   "execution_count": 21,
   "id": "a2aab5c4-b879-4d33-a9b3-25ee108e2559",
   "metadata": {},
   "outputs": [
    {
     "data": {
      "text/plain": [
       "tensor([[[37., 39., 41., 43.],\n",
       "         [18., 20., 22., 24.],\n",
       "         [36., 38., 40., 42.],\n",
       "         [14., 16., 18., 20.],\n",
       "         [11., 13., 15., 17.],\n",
       "         [27., 29., 31., 33.],\n",
       "         [38., 40., 42., 44.],\n",
       "         [24., 26., 28., 30.]],\n",
       "\n",
       "        [[13., 15., 17., 19.],\n",
       "         [12., 14., 16., 18.],\n",
       "         [10., 12., 14., 16.],\n",
       "         [25., 27., 29., 31.],\n",
       "         [11., 13., 15., 17.],\n",
       "         [ 7.,  9., 11., 13.],\n",
       "         [21., 23., 25., 27.],\n",
       "         [30., 32., 34., 36.]]], grad_fn=<AddBackward0>)"
      ]
     },
     "execution_count": 21,
     "metadata": {},
     "output_type": "execute_result"
    }
   ],
   "source": [
    "x = tok_emb + pos_emb\n",
    "x"
   ]
  },
  {
   "cell_type": "markdown",
   "id": "d70bf96d-a67f-43ce-9a19-9975e4198609",
   "metadata": {},
   "source": [
    "### Transformer Layers"
   ]
  },
  {
   "attachments": {},
   "cell_type": "markdown",
   "id": "34da8230-ef7f-4e68-b7a1-b0b73219c024",
   "metadata": {},
   "source": [
    "![image.png](explainer_screenshots/transformer.png)\n",
    "\n",
    "The transformer block is multiple parallel repetitions of the same matrix operations done independently.  This adds both depth and breadth to the computation.  Each block is the same steps of\n",
    "1. Layer normalization\n",
    "2. Causal self attention\n",
    "3. Layer normalization (again)\n",
    "4. Multi-layer perceptron (MLP)\n",
    "\n",
    "Both steps 2 and 4 are also multi-layered so we'll go through each layer independently.  You'll notice the arrows in the diagram bypassing the causal self attention and the MLP.  This is to ensure that the weights of any one layer do not get overweighted. We achieve this by simply adding the input with the layer's calculations together, as you'll see. "
   ]
  },
  {
   "cell_type": "markdown",
   "id": "b0325d06-5ee3-43bb-8998-405079dfbecf",
   "metadata": {},
   "source": [
    "#### Transformer - Layer Normalization\n",
    "With Layer normalization, we review the row and adjust based on how far away it is from the mean. This means an array of `[1,2,3,4]` and `[2,4,6,8]` will actually have the same normalized entries after layer normalization.  This layer adds regularization which helps with overall learning speed. The formula applied is:\n",
    "\n",
    "$y = \\frac{x - \\mathbb{E}[x]}{\\sqrt{\\operatorname{Var}[x] + \\epsilon}}$\n",
    "\n",
    "Layer normalization is applied on the input matrix in kind and creates default weights of 1's across the dimension to equally weight all values in the normalization. We'll keep this as is and not change the initialization.  \n",
    "\n",
    "*Note that even though we will do layer normalization again, we keep this as a separate layer so that its impact can be adjusted independent of other normalization layers.*"
   ]
  },
  {
   "cell_type": "markdown",
   "id": "b1c75580-ff67-45e7-9621-2bc0b3f467cb",
   "metadata": {},
   "source": [
    "**Example** Let's see a quick example of how layer normalizaiton operates with an array of `[1,2,3,4]` and `[2,4,6,8]` "
   ]
  },
  {
   "cell_type": "code",
   "execution_count": 22,
   "id": "fed78841-c30e-48e1-af87-fa07f0bf7402",
   "metadata": {},
   "outputs": [
    {
     "data": {
      "text/plain": [
       "tensor([[-1.3416, -0.4472,  0.4472,  1.3416],\n",
       "        [-1.3416, -0.4472,  0.4472,  1.3416]],\n",
       "       grad_fn=<NativeLayerNormBackward0>)"
      ]
     },
     "execution_count": 22,
     "metadata": {},
     "output_type": "execute_result"
    }
   ],
   "source": [
    "example_ln = nn.LayerNorm(n_embd)\n",
    "\n",
    "## Example \n",
    "example_ln(torch.tensor(\n",
    "    [\n",
    "        [1.0,2.0,3.0,4.0],\n",
    "        [2.0,4.0,6.0,8.0]\n",
    "    ]))"
   ]
  },
  {
   "cell_type": "markdown",
   "id": "bd54631c-b366-4720-b717-ba22c3c6d043",
   "metadata": {},
   "source": [
    "**Normalize** Now let's apply it to x.  We'll save the output to a new variable `x_norm` so that we retain the input `x` for the *skip connection* (more details below).  Since our position embeddings are still in their initiaion step where each entries values are similarly distributed `[n,n+2,n+4,n+6]`  we'll see that with layer normalization the resulting matrix has all equal rows. "
   ]
  },
  {
   "cell_type": "code",
   "execution_count": null,
   "id": "9afb21a5-1b1b-478f-be38-9cc2b6fba79d",
   "metadata": {},
   "outputs": [],
   "source": [
    "ln_1 = nn.LayerNorm(n_embd)\n",
    "x_norm = ln_1(x)\n",
    "x_norm.shape, x_norm"
   ]
  },
  {
   "cell_type": "markdown",
   "id": "fc3b6a7a-0978-466d-8d90-3e80abb78754",
   "metadata": {},
   "source": [
    "#### Transformer - Causal Self Attention / Flash Attention"
   ]
  },
  {
   "attachments": {},
   "cell_type": "markdown",
   "id": "fe140d19-25b1-4047-9536-ceb3bb1a8a34",
   "metadata": {},
   "source": [
    "![image.png](explainer_screenshots/flash_attention.png)\n",
    "\n",
    "Causal self-attention is self-attention with a strictly lower-triangular mask, so each position $i$ can attend only to positions $j≤i$ (no look-ahead). For each position in a sequence, the model decides which earlier tokens matter and blends their information to generate the upcoming token, but the model is not allowed to peek at tokens to the right. Recall that we created an input `x` that has all of the tokens in the sequence. With causal self attention we ensure that the prediction of `y` is not learned in an example from tokens to the right of it. \n",
    "\n",
    "Causal self attention uses 3 linear projections to create representations of 3 concepts to help derive the next token: query, key, and value. FlashAttention takes the input `x` of shape $(B,T,C)$, linearly projects the last dimension to `Q, K, V` by multiplying each token vector $x_{b,t,:}$ with learned weight matrices `Q, K,V` (often via one combined QKV linear) and adding biases (which we do not have. Then we compute the causal dot-product attention with softmax per head, concatenate the heads, and apply a final linear layer to produce the output.\n",
    "\n",
    "The Q,K,V matrix do the following: \n",
    "* **Query** - the current position’s “search request.” Every layer and head issues queries that can look for many things (antecedent, rhythm, agreement, etc.).\n",
    "* **Key** - a matching tag/address for each allowed position. It is compared with the query to produce relevance scores\n",
    "* **Value** - the payload you actually mix in once something matches. It’s a learned projection of the token’s representation so the model can copy the right kind of information.\n",
    "\n",
    "This layer starts by taking a linear layer that has `n_embd` rows and then  `n_embd` columns for each: the query, key and value.  This allows the projection of the `x_norm` to be split into the 3 components, selected from them. We then use `scaled_dot_product_attention` to provide the attention masking and normalization, including a lower triangle mask to prevent look-ahead, and final project that onto a `n_embd x n_embd` matrix to return the output. \n",
    "\n",
    "We start by creating the 2 default layers. Also we'll set heads to 2.  The heads allow the layer to specialize in different concepts since each head creates its own Q,K,V\n",
    "\n",
    "*for the linear layers we'll use a similar initiation to the initial embedding layer, just scaled down*"
   ]
  },
  {
   "cell_type": "code",
   "execution_count": null,
   "id": "eb3516ed-26ec-4cfc-abb3-c8a9e15ec996",
   "metadata": {},
   "outputs": [],
   "source": [
    "from torch.nn import functional as F\n",
    "n_head = 2"
   ]
  },
  {
   "cell_type": "code",
   "execution_count": null,
   "id": "b4d6eeae-8522-4c8a-834f-e8285f6f14b5",
   "metadata": {},
   "outputs": [],
   "source": [
    "c_attn = nn.Linear(n_embd, 3 * n_embd)\n",
    "with torch.no_grad():\n",
    "    out, inp = c_attn.weight.shape  # (3*n_embd, n_embd)\n",
    "    i = torch.arange(out).unsqueeze(1)  # [out,1]\n",
    "    j = torch.arange(inp).unsqueeze(0)  # [1,inp]\n",
    "    c_attn.weight.copy_(0.001 * (1 + i + j))  # W[i,j] = 0.001*(1+i+j)\n",
    "    c_attn.bias.zero_()\n",
    "\n",
    "c_attn, c_attn.weight"
   ]
  },
  {
   "cell_type": "code",
   "execution_count": null,
   "id": "e26b1cf6-4943-499a-b86b-2717462d8426",
   "metadata": {},
   "outputs": [],
   "source": [
    "c_proj = nn.Linear(n_embd, n_embd)\n",
    "c_proj"
   ]
  },
  {
   "cell_type": "markdown",
   "id": "1543e367-62f7-4edc-be6b-877bec24e0aa",
   "metadata": {},
   "source": [
    "#### Creating Query, Key, Value\n",
    "We'll now create the query, key, and value.  We'll dynamically derive the size to add scalability. "
   ]
  },
  {
   "cell_type": "code",
   "execution_count": null,
   "id": "80f9502f-a4eb-4465-87c7-4408e0653f73",
   "metadata": {},
   "outputs": [],
   "source": [
    "B, T, C = x_norm.size()\n",
    "B, T, C"
   ]
  },
  {
   "cell_type": "code",
   "execution_count": null,
   "id": "56d6ff50-cc2a-4a43-8170-d79a1dea6ec4",
   "metadata": {},
   "outputs": [],
   "source": [
    "x_norm"
   ]
  },
  {
   "cell_type": "markdown",
   "id": "24937337-9034-4106-8cee-350ef4dd6a6f",
   "metadata": {},
   "source": [
    "Now we'll take x_norm and every projection `C` is added with the corresponding layer in `c_attn` to creation the `qkv` combined matrix leading to a 3x size increase. the `C` in `x_norm` is projected 3 times to align with the 3x `C` dimension in `c_attn`"
   ]
  },
  {
   "cell_type": "code",
   "execution_count": null,
   "id": "766c6957-116e-404d-9e67-dde777e6de88",
   "metadata": {},
   "outputs": [],
   "source": [
    "qkv = c_attn(x_norm)\n",
    "qkv.shape, qkv"
   ]
  },
  {
   "cell_type": "markdown",
   "id": "9f3b126c-0c5b-485d-8b7b-cc4b0734de1d",
   "metadata": {},
   "source": [
    "now, we will split up qkv to create the 3 separate matricies that can ename the query, key, and value to work together to create complex concept embeddings. We also then have to split up each matrix into its own heads (shown as columns `dim=3`) so that concepts can get separately embeded and adjusted during back_prop. "
   ]
  },
  {
   "cell_type": "code",
   "execution_count": null,
   "id": "720501ed-17a0-4c87-a9f6-9d800b339198",
   "metadata": {
    "scrolled": true
   },
   "outputs": [],
   "source": [
    "q,k,v = qkv.split(n_embd, dim=2)\n",
    "q = q.view(B, T, n_head, C // n_head).transpose(1, 2)\n",
    "k = k.view(B, T, n_head, C // n_head).transpose(1, 2)\n",
    "v = v.view(B, T, n_head, C // n_head).transpose(1, 2)\n",
    "q.shape, q, k.shape, k, v.shape, v"
   ]
  },
  {
   "cell_type": "markdown",
   "id": "385cd815-7936-496e-b980-d91b49727569",
   "metadata": {},
   "source": [
    "#### Cross Attention / Dot-product attention. \n",
    "With the separated query, key, value, we now need to run the dot product, but restrict each position to only be able to look at embeddings for tokens that have come before it.  To do this, flash attention tiles Q,K,V and applies masking and softmax on the fly. If done without flash attention, you'd need to materializes the large `(T,T)` matrix for all the queries and keys. It then applies a mask fill to zero out the upper triangle, then does a dot product and softmax with the value matrix.  Finally we collapse the heads together back into the same dimension. \n",
    "\n",
    "*Note we use `contiguous` here to force `transpose()` to create a new matrix in memory. This allows the heads to learn independently"
   ]
  },
  {
   "cell_type": "code",
   "execution_count": null,
   "id": "db05b18b-3710-4649-ac29-1eca387a1322",
   "metadata": {},
   "outputs": [],
   "source": [
    "fa = F.scaled_dot_product_attention(q, k, v, is_causal=True)\n",
    "fa = fa.transpose(1, 2).contiguous().view(B, T, C)\n",
    "fa.shape, fa"
   ]
  },
  {
   "cell_type": "markdown",
   "id": "c023e209-4e96-46c2-9f24-b0c6117fe650",
   "metadata": {},
   "source": [
    "#### Final projection and output\n",
    "Finally, we will now project the cross attention matrix on another final linear layer `n_embd x n_embd`"
   ]
  },
  {
   "cell_type": "code",
   "execution_count": null,
   "id": "a36fb4f0-481b-4638-b376-2ca6bf0d5e70",
   "metadata": {},
   "outputs": [],
   "source": [
    "x_norm = c_proj(fa)\n",
    "x_norm.shape, x_norm"
   ]
  },
  {
   "attachments": {},
   "cell_type": "markdown",
   "id": "24d8108a-616b-4d56-a3a0-c333430b924c",
   "metadata": {},
   "source": [
    "#### Transformer - Residual (skip) connection\n",
    "![image.png](explainer_screenshots/skip_layer.png)\n",
    "\n",
    "Modern networks also use skip connections, meaning they allows for pathway to bypass around \"boxes\", passing through through gradients during the backward pass.  This attribute ensures that the impact of each layer and head is normalized against the input embeddings themselves. Recall in the diagram we had the arrow that bypassed \"masked multiheaded attention\".  Functionally this is represented as\n",
    "\n",
    "$y = f(x) + x$\n",
    "\n",
    "To achieve this we simply sum the project matrix `x` with the normalized output `x_norm`."
   ]
  },
  {
   "cell_type": "code",
   "execution_count": null,
   "id": "9c5bc275-e624-47ac-8958-735e3227b239",
   "metadata": {},
   "outputs": [],
   "source": [
    "x = x + x_norm\n",
    "x.shape, x"
   ]
  },
  {
   "cell_type": "markdown",
   "id": "c3cb3d5d-98f0-4c80-b0c0-e600c915b2c2",
   "metadata": {},
   "source": [
    "### Layer Normalization 2\n",
    "We'll run another round of norma now on the outputs of the Masked Multi-head attention and feed forward to ensure our values are not too spread apart.  This layer will run the same  the same normalization formula as before, but is it's own independent layer as it has different inputs. Recall the formula is: \n",
    "\n",
    "$y = \\frac{x - \\mathbb{E}[x]}{\\sqrt{\\operatorname{Var}[x] + \\epsilon}}\\,\\gamma + \\beta$\n",
    "\n",
    "Because we will do feed forward again for the next layer, MLP, we'll once again branch `x` for the normalization and MLP and then sum it back togehter with `x`"
   ]
  },
  {
   "cell_type": "code",
   "execution_count": null,
   "id": "bc3b130a-fb31-442b-a66e-ad44e75ab00d",
   "metadata": {},
   "outputs": [],
   "source": [
    "ln_2 = nn.LayerNorm(n_embd)"
   ]
  },
  {
   "cell_type": "code",
   "execution_count": null,
   "id": "1529dc49-c8c2-409f-ac41-97cceca40030",
   "metadata": {},
   "outputs": [],
   "source": [
    "x_norm_2 = ln_2(x)\n",
    "x_norm_2.shape, x_norm_2"
   ]
  },
  {
   "attachments": {},
   "cell_type": "markdown",
   "id": "bd73af80-ed3e-4353-8450-5f7f62da5cde",
   "metadata": {},
   "source": [
    "#### Transformer - Feed Forward (aka Multi-layer Perceptron)\n",
    "\n",
    "![image.png](explainer_screenshots/mlp.png)\n",
    "\n",
    "The feed-forward sublayer consists of two-layer mirroring a multi-layer perceptron, MLP.  These layers mix the features within each token vector but never across time. The output `x` from multi-headed attention starts as `B x T x C`.  Feed forward \n",
    "1. Calculates `4C` using a $XW^T + B$ linear layer \n",
    "2. Normalizes the data using a `tanh` based GELU layer. This layer pushes extreme values to +/- 1\n",
    "3. Projects back down to `C` with a final $XW^T + B$ linear layer.\n",
    "\n",
    "The MLP nonlinearly re-expresses each token's channel features before being aggregated across the hidden layers and passed to the output layer. "
   ]
  },
  {
   "cell_type": "markdown",
   "id": "ea9efc46-5aec-4bea-8169-7c2302385aa2",
   "metadata": {},
   "source": [
    "We'll first start by creating the 3 different layers:\n",
    "1. `mlp_fc` - Linear layer to project up to `4C`\n",
    "2. `mlp_gelu` - tanh layer\n",
    "3. `mlp_proj` - Linear layer to project down to `C`"
   ]
  },
  {
   "cell_type": "code",
   "execution_count": null,
   "id": "365dc63d-464b-4fcf-8cd5-bf57bf1dab28",
   "metadata": {},
   "outputs": [],
   "source": [
    "mlp_fc = nn.Linear(n_embd, 4 * n_embd)\n",
    "mlp_gelu = nn.GELU(approximate='tanh')\n",
    "mlp_proj = nn.Linear(4 * n_embd, n_embd)\n",
    "\n",
    "\n",
    "mlp_fc, mlp_fc.weight.shape, mlp_gelu, mlp_proj, mlp_proj.weight.shape"
   ]
  },
  {
   "cell_type": "markdown",
   "id": "6ad01ac2-6018-48bb-917c-1b2d293b056c",
   "metadata": {},
   "source": [
    "Now we'll take `x_norm_2` and every projection `C` is added with the corresponding weights in `mlp_fc` to creation our linear project up to `4c`"
   ]
  },
  {
   "cell_type": "code",
   "execution_count": null,
   "id": "f6d86c8c-1003-48c1-9617-de556aaed302",
   "metadata": {
    "scrolled": true
   },
   "outputs": [],
   "source": [
    "x_mlp = mlp_fc(x_norm_2)\n",
    "x_mlp.shape, x_mlp"
   ]
  },
  {
   "cell_type": "markdown",
   "id": "e86159a6-dbeb-48f4-9e79-1e9a74577496",
   "metadata": {},
   "source": [
    "Now we'll apply the tanh approximation (GELU - tanh) which smoothly gates each input `x_mlp`.  This shrinks negative/small values and passing large positives nearly linearly for stable, well-behaved activations.  `tanh` is applied element wise across the full `x_mlp`"
   ]
  },
  {
   "cell_type": "code",
   "execution_count": null,
   "id": "a089adf6-8301-4b09-9c7e-647bdb750041",
   "metadata": {
    "scrolled": true
   },
   "outputs": [],
   "source": [
    "x_mlp = mlp_gelu(x_mlp)\n",
    "x_mlp.shape, x_mlp"
   ]
  },
  {
   "cell_type": "markdown",
   "id": "ef4b0108-4a93-4231-bd9f-05da60815e9c",
   "metadata": {},
   "source": [
    "Finally we'll take `x_mlp` and project `4C` back down to `C` using the weights in `mlp_proj`.  Even though the layer weights are `4x16` the transpose in $XW^T + B$ allows to project back down."
   ]
  },
  {
   "cell_type": "code",
   "execution_count": null,
   "id": "fe0d6434-43d2-46c7-bd18-c6e659205b5f",
   "metadata": {},
   "outputs": [],
   "source": [
    "x_mlp = mlp_proj(x_mlp)\n",
    "x_mlp.shape, x_mlp"
   ]
  },
  {
   "cell_type": "markdown",
   "id": "13b46b76-7fef-4c2f-8bd2-a86d8da405b6",
   "metadata": {},
   "source": [
    "#### Transformer - Residual (skip) connection 2\n",
    "\n",
    "Our transformer also utilizes use skip connections for the feed forward block for passing through gradients during the backward pass.  Recall that  this is represented as\n",
    "\n",
    "$y = f(x) + x$\n",
    "\n",
    "We will again simply sum the project matrix `x` with the normalized output `x_mlp`."
   ]
  },
  {
   "cell_type": "code",
   "execution_count": null,
   "id": "b611c470-d48d-4c86-a1a3-7a0489066e13",
   "metadata": {},
   "outputs": [],
   "source": [
    "x = x_mlp + x\n",
    "\n",
    "x.shape, x"
   ]
  },
  {
   "cell_type": "markdown",
   "id": "5d9fa593-6cb1-488f-b33c-46b817b2bfe7",
   "metadata": {},
   "source": [
    "#### Transformer - Final Layer Normalization \n",
    "\n",
    "The final step in the transformer is to aggregate and normalize before calculating the final projections. This layer is similar to the previous normalization layers. This layer will run the same normalization formula as before, but is it's own independent layer as it has different inputs. Recall the formula is: \n",
    "\n",
    "$y = \\frac{x - \\mathbb{E}[x]}{\\sqrt{\\operatorname{Var}[x] + \\epsilon}}$\n",
    "\n",
    "Since this is the final layer, we will not have a residual connection so we do not need to branch `x`. "
   ]
  },
  {
   "cell_type": "code",
   "execution_count": null,
   "id": "647f8975-ce82-41ee-9b99-9fb80f4ffa0a",
   "metadata": {},
   "outputs": [],
   "source": [
    "ln_f = nn.LayerNorm(n_embd)\n",
    "ln_f"
   ]
  },
  {
   "cell_type": "code",
   "execution_count": null,
   "id": "3c5f7b20-da66-4fe6-ba7e-df19c162a124",
   "metadata": {},
   "outputs": [],
   "source": [
    "x = ln_f(x)\n",
    "x.shape, x"
   ]
  },
  {
   "cell_type": "markdown",
   "id": "4794c634-a6cf-49b9-85df-f96488b4021b",
   "metadata": {},
   "source": [
    "### Output Layers AKA Model Head."
   ]
  },
  {
   "attachments": {},
   "cell_type": "markdown",
   "id": "ec2f6bc6-edfc-4d19-ac3a-f8cb02d39ad1",
   "metadata": {},
   "source": [
    "The combination of masked multi-head attention and feed forward, along with the normalization and residual connections is considered the \"transformer\".  In practice this layer is horizontally scaled to run many layers in parallel.  Once those layers are complete during the forward pass we then start the output process that results in `logits` which is a representation of the probability of each token being the next token given the input.  \n",
    "\n",
    "This layer is also known as the model **head**, not to be confused with attention heads. This layer is called this because it is a small, task-specific module attached to a model’s shared backbone that maps hidden features to the final outputs.  In our examples case, this is a linear layer mapping the backbone to vocab logits. The benefit of this structure is that you can use the shared hidden features and train different heads for different tasks without starting from scratch. An example would be a classifier head, or policy head in RL.\n",
    "\n",
    "![image.png](explainer_screenshots/output_layer.png)\n",
    "\n",
    "For our head we want to map to to a predicted token which we'll look at as `logits`. In the process to generate `logits` we take the normalize output `x` of the transformers, then project, using a linear layer, to the vocabulary resulting in a `B, T, vocab_size` matrix known as `logits`.  \n",
    "\n",
    "In training, the `logits` are then compared with `y` to see how close the  model is to predicting the correct next token. For inference, the `logits` are then used to drive sampling which is how the next token is then derived. \n",
    "\n",
    "\n",
    "We'll start with initializing a linear projection layer."
   ]
  },
  {
   "cell_type": "code",
   "execution_count": null,
   "id": "65a9da09-0da1-433a-b276-780875c56b77",
   "metadata": {},
   "outputs": [],
   "source": [
    "lm_head = nn.Linear(n_embd, vocab_size, bias=False)\n",
    "lm_head, lm_head.weight"
   ]
  },
  {
   "cell_type": "markdown",
   "id": "9eda51be-2d33-42e4-87c7-1b12065c61b5",
   "metadata": {},
   "source": [
    "#### Output layer - LM Head aka logits\n",
    "finally we now project `x` onto the vocabulary resulting in a `B X T X vocab_size` final array `logits`.  This output correlates with the \n",
    "probabilty of each output token given the input context.  The best way to read  this is:\n",
    "\n",
    "(dimension 0) we have 2 batches B, \n",
    "(dimension 1) each batch has an example for each value between 1 and context length T \n",
    "(dimension 2) for each example we see the probability of each token in our vocabulary"
   ]
  },
  {
   "cell_type": "code",
   "execution_count": null,
   "id": "3c2b2104-0286-413f-acfd-911df164caff",
   "metadata": {},
   "outputs": [],
   "source": [
    "logits = lm_head(x)\n",
    "\n",
    "logits.shape, logits"
   ]
  },
  {
   "cell_type": "markdown",
   "id": "90c613e5-00a2-4b94-b967-d978798e8155",
   "metadata": {},
   "source": [
    "### Loss calculation\n",
    "Now we have to see how good our prediction is.  Since we haven't done training, we can expect it's pretty shitty. That said, we need to know how much. For this example we'll use cross entropy, also known as the negative log likelihood of the softmax.  Our loss calculates\n",
    "\n",
    "$$\n",
    "\\ell_i=-\\log\\big(\\mathrm{softmax}(z_i)\\_{y_i}\\big)\n",
    "= -z_{i,y_i}+\\log\\!\\sum_{c=1}^C e^{z_{i,c}},\n",
    "$$\n",
    "\n",
    "\n",
    "To calculate loss we'll pass in the calculated `logits` and our next tokens stored in `y`. The cross entropy function does not respect batches so we'll flatten the `B` dimension for both `logits` and `y`"
   ]
  },
  {
   "cell_type": "code",
   "execution_count": null,
   "id": "18b3260e-a069-4ac7-8c4a-85c9d05b437d",
   "metadata": {},
   "outputs": [],
   "source": [
    "y_flat = y.view(-1)\n",
    "y_flat.shape, y_flat"
   ]
  },
  {
   "cell_type": "code",
   "execution_count": null,
   "id": "7defc97f-68af-46dd-b4bc-617c6e1a6be1",
   "metadata": {},
   "outputs": [],
   "source": [
    "logits_flat = logits.view(-1, logits.size(-1))\n",
    "logits_flat.shape, logits_flat"
   ]
  },
  {
   "cell_type": "code",
   "execution_count": null,
   "id": "f8f4a08e-f5c3-440e-aa58-612700d882a9",
   "metadata": {},
   "outputs": [],
   "source": [
    "loss = F.cross_entropy(logits_flat, y_flat)\n",
    "loss.shape, loss"
   ]
  },
  {
   "cell_type": "code",
   "execution_count": null,
   "id": "915cd671-a2ad-4a94-ae0e-0b0dee42e54c",
   "metadata": {},
   "outputs": [],
   "source": []
  },
  {
   "cell_type": "code",
   "execution_count": null,
   "id": "feb6eb29-a031-4530-90e6-be17a5b870ad",
   "metadata": {},
   "outputs": [],
   "source": []
  },
  {
   "cell_type": "code",
   "execution_count": null,
   "id": "14312e99-04f5-499f-81e0-d12af12392e4",
   "metadata": {},
   "outputs": [],
   "source": []
  },
  {
   "cell_type": "code",
   "execution_count": null,
   "id": "87c62cca-83be-46c2-ac47-e2c80349d334",
   "metadata": {},
   "outputs": [],
   "source": []
  }
 ],
 "metadata": {
  "kernelspec": {
   "display_name": "Python 3 (ipykernel)",
   "language": "python",
   "name": "python3"
  },
  "language_info": {
   "codemirror_mode": {
    "name": "ipython",
    "version": 3
   },
   "file_extension": ".py",
   "mimetype": "text/x-python",
   "name": "python",
   "nbconvert_exporter": "python",
   "pygments_lexer": "ipython3",
   "version": "3.13.7"
  }
 },
 "nbformat": 4,
 "nbformat_minor": 5
}
