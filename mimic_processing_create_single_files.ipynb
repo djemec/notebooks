{
 "cells": [
  {
   "cell_type": "code",
   "execution_count": 1,
   "id": "452ea3e8",
   "metadata": {},
   "outputs": [],
   "source": [
    "import pandas as pd\n",
    "import os\n",
    "import sys\n",
    "import fileinput"
   ]
  },
  {
   "cell_type": "code",
   "execution_count": 2,
   "id": "71e33e7c",
   "metadata": {},
   "outputs": [],
   "source": [
    "mimic = '/Users/djemec/data/mimic/raw_disch_full.csv'\n",
    "mimic_clean = '/Users/djemec/data/mimic/raw_disch_full_clean.csv'\n",
    "mimic_out = '/Users/djemec/data/mimic/individual/'"
   ]
  },
  {
   "cell_type": "code",
   "execution_count": 3,
   "id": "10a68d6f",
   "metadata": {},
   "outputs": [],
   "source": [
    "# Read in the file\n",
    "with open(mimic, 'r') as file:\n",
    "    fd = file.read()\n",
    "\n",
    "# Replace the target string\n",
    "fd = fd.replace('\\n', '<nl>')\n",
    "fd = fd.replace('ryan<nl>', '\\n')\n",
    "\n",
    "# Write the file out again\n",
    "with open(mimic_clean, 'w') as file:\n",
    "    file.write(fd)"
   ]
  },
  {
   "cell_type": "code",
   "execution_count": 4,
   "id": "fa5d0102",
   "metadata": {},
   "outputs": [],
   "source": [
    "df = pd.read_csv(mimic_clean,delimiter='\\|\\|',engine='python',header=0, lineterminator='\\n')"
   ]
  },
  {
   "cell_type": "code",
   "execution_count": 5,
   "id": "bfbe0837",
   "metadata": {},
   "outputs": [
    {
     "data": {
      "text/html": [
       "<div>\n",
       "<style scoped>\n",
       "    .dataframe tbody tr th:only-of-type {\n",
       "        vertical-align: middle;\n",
       "    }\n",
       "\n",
       "    .dataframe tbody tr th {\n",
       "        vertical-align: top;\n",
       "    }\n",
       "\n",
       "    .dataframe thead th {\n",
       "        text-align: right;\n",
       "    }\n",
       "</style>\n",
       "<table border=\"1\" class=\"dataframe\">\n",
       "  <thead>\n",
       "    <tr style=\"text-align: right;\">\n",
       "      <th></th>\n",
       "      <th>SUBJECT_ID</th>\n",
       "      <th>HADM_ID</th>\n",
       "      <th>CHARTTIME</th>\n",
       "      <th>TEXT</th>\n",
       "    </tr>\n",
       "  </thead>\n",
       "  <tbody>\n",
       "    <tr>\n",
       "      <th>59647</th>\n",
       "      <td>93924</td>\n",
       "      <td>135672</td>\n",
       "      <td>NaN</td>\n",
       "      <td>Name:  [**Known lastname 18321**],[**Known fir...</td>\n",
       "    </tr>\n",
       "    <tr>\n",
       "      <th>59648</th>\n",
       "      <td>17782</td>\n",
       "      <td>155710</td>\n",
       "      <td>NaN</td>\n",
       "      <td>Name:  [**Known lastname 2706**], [**Known fir...</td>\n",
       "    </tr>\n",
       "    <tr>\n",
       "      <th>59649</th>\n",
       "      <td>96333</td>\n",
       "      <td>183951</td>\n",
       "      <td>NaN</td>\n",
       "      <td>Name:  [**Known lastname 18357**]-[**Known las...</td>\n",
       "    </tr>\n",
       "    <tr>\n",
       "      <th>59650</th>\n",
       "      <td>66717</td>\n",
       "      <td>169165</td>\n",
       "      <td>NaN</td>\n",
       "      <td>Name:  [**Known lastname **],[**Known firstnam...</td>\n",
       "    </tr>\n",
       "    <tr>\n",
       "      <th>59651</th>\n",
       "      <td>73790</td>\n",
       "      <td>157100</td>\n",
       "      <td>NaN</td>\n",
       "      <td>Name:  [**Known lastname 12459**],[**Known fir...</td>\n",
       "    </tr>\n",
       "  </tbody>\n",
       "</table>\n",
       "</div>"
      ],
      "text/plain": [
       "       SUBJECT_ID  HADM_ID  CHARTTIME  \\\n",
       "59647       93924   135672        NaN   \n",
       "59648       17782   155710        NaN   \n",
       "59649       96333   183951        NaN   \n",
       "59650       66717   169165        NaN   \n",
       "59651       73790   157100        NaN   \n",
       "\n",
       "                                                    TEXT  \n",
       "59647  Name:  [**Known lastname 18321**],[**Known fir...  \n",
       "59648  Name:  [**Known lastname 2706**], [**Known fir...  \n",
       "59649  Name:  [**Known lastname 18357**]-[**Known las...  \n",
       "59650  Name:  [**Known lastname **],[**Known firstnam...  \n",
       "59651  Name:  [**Known lastname 12459**],[**Known fir...  "
      ]
     },
     "execution_count": 5,
     "metadata": {},
     "output_type": "execute_result"
    }
   ],
   "source": [
    "df.tail()"
   ]
  },
  {
   "cell_type": "code",
   "execution_count": null,
   "id": "d821cec6",
   "metadata": {},
   "outputs": [],
   "source": []
  },
  {
   "cell_type": "code",
   "execution_count": 6,
   "id": "c9f4050e",
   "metadata": {},
   "outputs": [],
   "source": [
    "for index, row in df.iterrows():\n",
    "    text = row['TEXT']\n",
    "    text = text.replace('<nl>', '\\n')\n",
    "    with open(mimic_out+ f'mimic_raw_note_{index}.txt', \"w\") as f:\n",
    "        f.write(text)"
   ]
  },
  {
   "cell_type": "code",
   "execution_count": null,
   "id": "00f4c495",
   "metadata": {},
   "outputs": [],
   "source": []
  }
 ],
 "metadata": {
  "kernelspec": {
   "display_name": "Python 3 (ipykernel)",
   "language": "python",
   "name": "python3"
  },
  "language_info": {
   "codemirror_mode": {
    "name": "ipython",
    "version": 3
   },
   "file_extension": ".py",
   "mimetype": "text/x-python",
   "name": "python",
   "nbconvert_exporter": "python",
   "pygments_lexer": "ipython3",
   "version": "3.9.12"
  }
 },
 "nbformat": 4,
 "nbformat_minor": 5
}
