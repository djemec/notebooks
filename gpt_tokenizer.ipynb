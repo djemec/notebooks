{
 "cells": [
  {
   "cell_type": "code",
   "execution_count": 15,
   "id": "98e55d1f-1154-4b87-90b4-19ec7edd2877",
   "metadata": {},
   "outputs": [],
   "source": [
    "def get_stats(ids):\n",
    "    counts = {}\n",
    "    for pair in zip(ids, ids[1:]):\n",
    "        counts[pair] = counts.get(pair, 0) + 1 \n",
    "    return counts\n",
    "\n",
    "def merge (ids, pair, idx):\n",
    "    newids = []\n",
    "    i = 0\n",
    "    while i < len(ids):\n",
    "    # if we are not at the very last position AND the pair matches, replace it\n",
    "        if i < len(ids) - 1 and ids[i] == pair[0] and ids[i+1] == pair[1]:\n",
    "            newids.append(idx)\n",
    "            i += 2\n",
    "        else:\n",
    "            newids.append(ids[i])\n",
    "            i += 1\n",
    "    return newids"
   ]
  },
  {
   "cell_type": "code",
   "execution_count": 60,
   "id": "20abc24d-1f89-462f-8c92-c2fb24f5263a",
   "metadata": {},
   "outputs": [],
   "source": [
    "text = '''A<|endoftext|>\n",
    "Some initial thing🤣<|endoftext|>\n",
    "In the quiet village of Ætheria, nestled between snow-capped mountains and shimmering lakes, lived a polymath named Zoë. She was known not only for her eloquence—“Voilà!” she’d say, producing inventions from her satchel—but for her passion for languages. Her room was adorned with scrolls: Greek (Ἀθηνᾶ), Cyrillic (Москва), Hebrew (שלום), and Arabic (مرحبا).\n",
    "Each morning, Zoë would greet the world: “Bonjour! 今日は元気？”—a mix of French and Japanese. Her pet fox, 🦊, named Kitsu, responded with a joyful bark: “ワン！” On rainy days, they'd sit inside reading Borges and Bashō. Zoë whispered to herself, “雨滴穿石 (Rain drops pierce stone),” as thunder rumbled like Odin's roar ⚡.\n",
    "One day, a message arrived. Not in English, but encoded: `Διασπορά`, `علم`, `知識`, `🧬=🔓`. It bore the seal of the Council of Universal Scripts. The message: a riddle scattered across Unicode planes.\n",
    "To solve it, Zoë donned her scarf (🧣), grabbed her wand (🪄), and rode off on her electric scooter—named “∞”—across cobblestone roads. She passed signs in Esperanto (“Bonvenon!”), Hindi (“ज्ञान ही शक्ति है”), and Korean (“배움은 끝이 없다”). Everywhere she went, text surrounded her: cursive Armenian, superscript formulas (E=mc²), emoji mosaics 🎨🖼️📸, even Braille ⠠⠋⠁⠝⠞⠁⠎⠽.\n",
    "Eventually, she reached the Temple of Symbols. Inscribed on its gates: ∀𝑥 ∈ ℝ, ∃𝑦 ∈ ℤ : 𝑓(𝑥,𝑦)=❤️. Inside, the High Curator—named Lục—spoke in Vietnamese tones, \"Bạn cần hiểu mọi ngôn ngữ để mở khoá tri thức.\"\n",
    "Zoë, undeterred, began chanting characters she had memorized: “æ, œ, ß, ç, ñ, ğ, ø, ȝ, ŋ, ƿ, þ, ʒ…” The glyphs around her began to glow. Diacritics floated in the air: ẽ, ï, ũ, ǎ, ő, ś, ż. From the floor rose a projection: a giant equation dancing between Hangul (사랑), Devanagari (प्रेम), and Cuneiform (𒀭𒌓𒉌𒅗𒀀𒀭𒌓).\n",
    "The final answer was encoded in emoji: 📚 + 🧠 + 🌐 = 🔓. She whispered it aloud—and the gates opened.\n",
    "Behind them, a mural unfolded, showing humans united across scripts and tongues. From 𓂀 to 🕉, from ᚠᛇᚻ to 文字化け, from Gothic to Georgian, they danced in a circle. “Language is light,” Zoë said, as the temple illuminated with every codepoint known to Unicode.\n",
    "And so, her quest was complete, though the adventure of decoding never ends. For every symbol is a story. Every token, a truth.\n",
    "🌍🌏🌎 The End.<|endoftext|>\n",
    "\n",
    "In the kingdom of **Ætheria**, nestled between mountains called 𝓜𝓸𝓷𝓽é𝓖𝓵𝓪ç𝓲𝓪 and the emerald river known as الیاقوت, lived a linguist-adventurer named **Zoë Σ. Архиповна**. Her house, perched atop a hill, had a plaque engraved with the phrase:\n",
    "> “∀𝑥 ∈ 𝕌𝑛𝑖𝑐𝑜𝑑𝑒, ∃𝑓: 𝑥 ↦ meaning.”\n",
    "Each day began the same: ☀️ dawn, 🌸 tea, and a whispered greeting to her cat, **Ōkami (狼)**. “おはよう, little one,” she would say, petting its fur while listening to the chime of Tibetan bells 🔔 and humming a tune written in **𝄞 E minor**.\n",
    "Her garden was not ordinary. Plants were labeled in multiple scripts:\n",
    "• Basil – Βασιλικός\n",
    "• Lavender – ラベンダー\n",
    "• Ginseng – 인삼\n",
    "• Olive – زيتون\n",
    "• Cornflower – Ⲙⲉⲧⲣⲉⲟⲥ (Coptic)\n",
    "Zoë was composing a **universal translator**, a device to harmonize the world’s scripts—one that respected all linguistic heritages. Its display already rendered text in Gothic 𐌲𐌿𐍄𐌹𐍃𐌺, Linear B 𐀀𐀁𐀂𐀃, and Old Church Slavonic ⰀⰁⰂⰃ.\n",
    "One day, a letter arrived—sealed with wax embossed with the sigil 🪐. It was a challenge from the **Council of Unencoded Scripts**, urging her to decrypt the “Scroll of Silent Glyphs.” The scroll, encoded in a mix of Braille ⠃⠗⠁⠊⠇⠇⠑ and Shavian ⱵⱷⱾⱹ, demanded:\n",
    "\n",
    "> “Solve us, or lose the key to the Tower of ⵣⵓⵍⴰ.”\n",
    "She packed her bag with essential tools:\n",
    "• 📚 Books in Hindi (ज्ञान ही शक्ति है), Arabic (العلم نور), and Navajo (Yá'át'ééh).\n",
    "• 🧮 An abacus labeled with runes ᚠᚢᚦᚨ.\n",
    "• 🔭 A telescope etched with Mongolian script ᠬᠡᠯᠡᠭ.\n",
    "• 🧪 Flasks marked with chemical symbols: Na⁺, Cl⁻, and ΔH⧸rxn.\n",
    "\n",
    "Traveling by train, the platform signs read:\n",
    "| Language | Word for “Journey” |\n",
    "| -------- | ------------------ |\n",
    "| Sanskrit | यात्रा             |\n",
    "| Swahili  | Safari             |\n",
    "| Hebrew   | מסע                |\n",
    "| Greek    | Ταξίδι             |\n",
    "| Cherokee | ᏗᎦᏬᏂᏍᏙᏗᏱᎠᏁᎬ        |\n",
    "In the carriage, passengers spoke a blend of languages. An elderly woman recited the Quranic verse:\n",
    "> **بِسْمِ ٱللَّٰهِ ٱلرَّحْمَٰنِ ٱلرَّحِيمِ**\n",
    "> While a monk beside her chanted:\n",
    "> **ཨོཾ་མ་ཎི་པདྨེ་ཧཱུྃ**\n",
    "\n",
    "Zoë scribbled notes in IPA: /ˈjuː.nɪˌkoʊd/ and constructed her tokenizer using Rust comments like `// 🚧 Work in progress: tokenizer.rs`. At night, she dreamed of glyphs forming dragons 🐉 and castles 🏰 composed entirely of kanji bricks: 夢, 愛, 時, 火, 龍.\n",
    "Her journey led her to the **Crystal Archive**, guarded by an AI named **Σοφία**—rendered in 8-bit pixels 🟦🟪🟥. Sophia’s codebase contained over 143,000 Unicode characters, indexed using radical-based hashing: 部首 → 笔画 → 字典序. Sophia issued a challenge in binary:\n",
    "`01101100 01101111 01100111 01101001 01100011`\n",
    "…and then in emoji: 🧠💬➡️🌍.\n",
    "After days of decoding and rendering glyphs using WebGL, the final form of the scroll emerged:\n",
    "> “In every glyph is a soul, in every codepoint, a culture. Treat them not as bytes, but as beings.”\n",
    "To finalize her work, she wrote the closing verse in multiple scripts:\n",
    "* Latin: *Litterae vincunt silentium.*\n",
    "* Armenian: *Արտահայտությունները հավերժ են:*\n",
    "* Thai: *ตัวอักษรมีชีวิต*\n",
    "* Japanese: *文字には魂がある*\n",
    "* Korean: *문자에는 영혼이 있다*\n",
    "* Ge’ez: *ፊደል ነፍስ አለው*\n",
    "* Emoji: 📜💖🔣🌐✨\n",
    "\n",
    "Zoë activated the translator. As the display lit up, characters swirled in a spiral—glyphs from across the Unicode planes dancing like aurorae: ℵ, ∞, ß, Ж, ש, क, 글, 文, ⵜⵉⴼⵉⵏⴰ, and 𐤀𐤁𐤂𐤃𐤄.\n",
    "From her window, she watched as messages appeared in the sky:\n",
    "🦄💬 “Ú̸̩n̴̢̈́i̷̡͌c̴̘̕o̸̱̍d̵̗̿e̴̢̽ ̸̯̐i̷̠̐s̶̥̈́ ̶̖͌a̴͇̚l̸̜̊i̶̤̎v̷̲͑e̶̼̓.” 🌌📡\n",
    "\n",
    "She wept with joy.\n",
    "The next day, a courier pigeon arrived with a note written in Tengwar, reminding her that even in encoded bytes, we are all still human.<|endoftext|>\n",
    "\n",
    "In the metropolis of Cödița, nestled between high towers bearing names like \"ΛόγοςCorp\" and \"データの塔\", there thrived a secret garden. Its gates were inscribed in scripts forgotten and revered: 𓂀𓈖𓏏𓊪𓂧𓃭, ᚠᛇᚻ, ꦧꦱꦗ, and ⵣⴻⵏⵎⵉⵣ. The caretaker of this sacred place was an old engineer-poet named Farès0 ibn Yunus. He spoke in chords—some musical 🎼, others algorithmic 🧮. Every sentence he spoke contained at least three writing systems: \"Bonjour, φίλε, كيف حالك؟\"\n",
    "In this garden grew characters like flowers. The cedilla ç blossomed beside ğ and ř. The vowels ā, ē, ī, ō, ū shimmered under the morning sun ☀️, while consonants like ꞯ and ʃ whispered through the leaves. Every plant label was a codepoint: U+00E7, U+011F, U+0159, U+0101... Unicode was the soil.\n",
    "Children from around the world came to visit: Li Mei from 上海, Amara from Addis Ababa (አዲስ አበባ), João from São Paulo, Ярослав from Киев. Each brought a gift in their native tongue. One laid down a Sanskrit verse: सत्यं शिवं सुंदरं. Another drew hearts with Hangul: 사랑해. A third recited from the Torah: בְּרֵאשִׁית בָּרָא אֱלֹהִים. The garden responded in kind—projecting holograms of scrolling scripts: Ethiopic ✧ Ge'ez ✧ N'Ko ✧ Hanunó'o ✧ Mandaic ✧ Vai ✧ Deseret.\n",
    "Farès0 once told them: “Every symbol carries intent. Even emoji—💧 ≠ 😢. Even math—∑, ∞, ∂. Even logic—⊕, ⇒, ⊥. They speak, if you listen.” His cane had runes that glowed in moonlight 🌙: “𐌰𐌲𐌼𐌾𐍂𐍃𐌿𐍃.”\n",
    "The children encoded their dreams into bark and petals. The AI bee 🐝 colony (tagged with RTL script: םולש) transmitted their buzzes in Boustrophedon. By twilight, fireflies blinked UTF-16 encoded poetry: हँसी, χάος, Любовь, 無限. The pond reflected characters gently melting into each other: ſ -> s, 𝒜 -> A, 𝔾 -> G, 𝕱 -> F, and so on.<eos>\n",
    "\n",
    "<sos>A Programmer’s Introduction to Unicode March 3, 2017 · Coding · 22 Comments  Ｕｎｉｃｏｄｅ! 🅤🅝🅘🅒🅞🅓🅔‽ 🇺\\u200c🇳\\u200c🇮\\u200c🇨\\u200c🇴\\u200c🇩\\u200c🇪! 😄 The very name strikes fear and awe into the hearts of programmers worldwide. We all know we ought to “support Unicode” in our software (whatever that means—like using wchar_t for all the strings, right?). But Unicode can be abstruse, and diving into the thousand-page Unicode Standard plus its dozens of supplementary annexes, reports, and notes can be more than a little intimidating. I don’t blame programmers for still finding the whole thing mysterious, even 30 years after Unicode’s inception.  A few months ago, I got interested in Unicode and decided to spend some time learning more about it in detail. In this article, I’ll give an introduction to it from a programmer’s point of view.  I’m going to focus on the character set and what’s involved in working with strings and files of Unicode text. However, in this article I’m not going to talk about fonts, text layout/shaping/rendering, or localization in detail—those are separate issues, beyond my scope (and knowledge) here.  Diversity and Inherent Complexity The Unicode Codespace Codespace Allocation Scripts Usage Frequency Encodings UTF-8 UTF-16 Combining Marks Canonical Equivalence Normalization Forms Grapheme Clusters And More… Diversity and Inherent Complexity As soon as you start to study Unicode, it becomes clear that it represents a large jump in complexity over character sets like ASCII that you may be more familiar with. It’s not just that Unicode contains a much larger number of characters, although that’s part of it. Unicode also has a great deal of internal structure, features, and special cases, making it much more than what one might expect a mere “character set” to be. We’ll see some of that later in this article.  When confronting all this complexity, especially as an engineer, it’s hard not to find oneself asking, “Why do we need all this? Is this really necessary? Couldn’t it be simplified?”  However, Unicode aims to faithfully represent the entire world’s writing systems. The Unicode Consortium’s stated goal is “enabling people around the world to use computers in any language”. And as you might imagine, the diversity of written languages is immense! To date, Unicode supports 135 different scripts, covering some 1100 languages, and there’s still a long tail of over 100 unsupported scripts, both modern and historical, which people are still working to add.  Given this enormous diversity, it’s inevitable that representing it is a complicated project. Unicode embraces that diversity, and accepts the complexity inherent in its mission to include all human writing systems. It doesn’t make a lot of trade-offs in the name of simplification, and it makes exceptions to its own rules where necessary to further its mission.  Moreover, Unicode is committed not just to supporting texts in any single language, but also to letting multiple languages coexist within one text—which introduces even more complexity.  Most programming languages have libraries available to handle the gory low-level details of text manipulation, but as a programmer, you’ll still need to know about certain Unicode features in order to know when and how to apply them. It may take some time to wrap your head around it all, but don’t be discouraged—think about the billions of people for whom your software will be more accessible through supporting text in their language. Embrace the complexity!  The Unicode Codespace Let’s start with some general orientation. The basic elements of Unicode—its “characters”, although that term isn’t quite right—are called code points. Code points are identified by number, customarily written in hexadecimal with the prefix “U+”, such as U+0041 “A” latin capital letter a or U+03B8 “θ” greek small letter theta. Each code point also has a short name, and quite a few other properties, specified in the Unicode Character Database.  The set of all possible code points is called the codespace. The Unicode codespace consists of 1,114,112 code points. However, only 128,237 of them—about 12% of the codespace—are actually assigned, to date. There’s plenty of room for growth! Unicode also reserves an additional 137,468 code points as “private use” areas, which have no standardized meaning and are available for individual applications to define for their own purposes.  Codespace Allocation To get a feel for how the codespace is laid out, it’s helpful to visualize it. Below is a map of the entire codespace, with one pixel per code point. It’s arranged in tiles for visual coherence; each small square is 16×16 = 256 code points, and each large square is a “plane” of 65,536 code points. There are 17 planes altogether.  Map of the Unicode codespace (click to zoom)  White represents unassigned space. Blue is assigned code points, green is private-use areas, and the small red area is surrogates (more about those later). As you can see, the assigned code points are distributed somewhat sparsely, but concentrated in the first three planes.  Plane 0 is also known as the “Basic Multilingual Plane”, or BMP. The BMP contains essentially all the characters needed for modern text in any script, including Latin, Cyrillic, Greek, Han (Chinese), Japanese, Korean, Arabic, Hebrew, Devanagari (Indian), and many more.  (In the past, the codespace was just the BMP and no more—Unicode was originally conceived as a straightforward 16-bit encoding, with only 65,536 code points. It was expanded to its current size in 1996. However, the vast majority of code points in modern text belong to the BMP.)  Plane 1 contains historical scripts, such as Sumerian cuneiform and Egyptian hieroglyphs, as well as emoji and various other symbols. Plane 2 contains a large block of less-common and historical Han characters. The remaining planes are empty, except for a small number of rarely-used formatting characters in Plane 14; planes 15–16 are reserved entirely for private use.  Scripts Let’s zoom in on the first three planes, since that’s where the action is:  Map of scripts in Unicode planes 0–2 (click to zoom)  This map color-codes the 135 different scripts in Unicode. You can see how Han () and Korean () take up most of the range of the BMP (the left large square). By contrast, all of the European, Middle Eastern, and South Asian scripts fit into the first row of the BMP in this diagram.  Many areas of the codespace are adapted or copied from earlier encodings. For example, the first 128 code points of Unicode are just a copy of ASCII. This has clear benefits for compatibility—it’s easy to losslessly convert texts from smaller encodings into Unicode (and the other direction too, as long as no characters outside the smaller encoding are used).  Usage Frequency One more interesting way to visualize the codespace is to look at the distribution of usage—in other words, how often each code point is actually used in real-world texts. Below is a heat map of planes 0–2 based on a large sample of text from Wikipedia and Twitter (all languages). Frequency increases from black (never seen) through red and yellow to white.  Heat map of code point usage frequency in Unicode planes 0–2 (click to zoom)  You can see that the vast majority of this text sample lies in the BMP, with only scattered usage of code points from planes 1–2. The biggest exception is emoji, which show up here as the several bright squares in the bottom row of plane 1.  Encodings We’ve seen that Unicode code points are abstractly identified by their index in the codespace, ranging from U+0000 to U+10FFFF. But how do code points get represented as bytes, in memory or in a file?  The most convenient, computer-friendliest (and programmer-friendliest) thing to do would be to just store the code point index as a 32-bit integer. This works, but it consumes 4 bytes per code point, which is sort of a lot. Using 32-bit ints for Unicode will cost you a bunch of extra storage, memory, and performance in bandwidth-bound scenarios, if you work with a lot of text.  Consequently, there are several more-compact encodings for Unicode. The 32-bit integer encoding is officially called UTF-32 (UTF = “Unicode Transformation Format”), but it’s rarely used for storage. At most, it comes up sometimes as a temporary internal representation, for examining or operating on the code points in a string.  Much more commonly, you’ll see Unicode text encoded as either UTF-8 or UTF-16. These are both variable-length encodings, made up of 8-bit or 16-bit units, respectively. In these schemes, code points with smaller index values take up fewer bytes, which saves a lot of memory for typical texts. The trade-off is that processing UTF-8/16 texts is more programmatically involved, and likely slower.  UTF-8 In UTF-8, each code point is stored using 1 to 4 bytes, based on its index value.  UTF-8 uses a system of binary prefixes, in which the high bits of each byte mark whether it’s a single byte, the beginning of a multi-byte sequence, or a continuation byte; the remaining bits, concatenated, give the code point index. This table shows how it works:  UTF-8 (binary)\\tCode point (binary)\\tRange 0xxxxxxx\\txxxxxxx\\tU+0000–U+007F 110xxxxx 10yyyyyy\\txxxxxyyyyyy\\tU+0080–U+07FF 1110xxxx 10yyyyyy 10zzzzzz\\txxxxyyyyyyzzzzzz\\tU+0800–U+FFFF 11110xxx 10yyyyyy 10zzzzzz 10wwwwww\\txxxyyyyyyzzzzzzwwwwww\\tU+10000–U+10FFFF A handy property of UTF-8 is that code points below 128 (ASCII characters) are encoded as single bytes, and all non-ASCII code points are encoded using sequences of bytes 128–255. This has a couple of nice consequences. First, any strings or files out there that are already in ASCII can also be interpreted as UTF-8 without any conversion. Second, lots of widely-used string programming idioms—such as null termination, or delimiters (newlines, tabs, commas, slashes, etc.)—will just work on UTF-8 strings. ASCII bytes never occur inside the encoding of non-ASCII code points, so searching byte-wise for a null terminator or a delimiter will do the right thing.  Thanks to this convenience, it’s relatively simple to extend legacy ASCII programs and APIs to handle UTF-8 strings. UTF-8 is very widely used in the Unix/Linux and Web worlds, and many programmers argue UTF-8 should be the default encoding everywhere.  However, UTF-8 isn’t a drop-in replacement for ASCII strings in all respects. For instance, code that iterates over the “characters” in a string will need to decode UTF-8 and iterate over code points (or maybe grapheme clusters—more about those later), not bytes. When you measure the “length” of a string, you’ll need to think about whether you want the length in bytes, the length in code points, the width of the text when rendered, or something else.  UTF-16 The other encoding that you’re likely to encounter is UTF-16. It uses 16-bit words, with each code point stored as either 1 or 2 words.  Like UTF-8, we can express the UTF-16 encoding rules in the form of binary prefixes:  UTF-16 (binary)\\tCode point (binary)\\tRange xxxxxxxxxxxxxxxx\\txxxxxxxxxxxxxxxx\\tU+0000–U+FFFF 110110xxxxxxxxxx 110111yyyyyyyyyy\\txxxxxxxxxxyyyyyyyyyy + 0x10000\\tU+10000–U+10FFFF A more common way that people talk about UTF-16 encoding, though, is in terms of code points called “surrogates”. All the code points in the range U+D800–U+DFFF—or in other words, the code points that match the binary prefixes 110110 and 110111 in the table above—are reserved specifically for UTF-16 encoding, and don’t represent any valid characters on their own. They’re only meant to occur in the 2-word encoding pattern above, which is called a “surrogate pair”. Surrogate code points are illegal in any other context! They’re not allowed in UTF-8 or UTF-32 at all.  Historically, UTF-16 is a descendant of the original, pre-1996 versions of Unicode, in which there were only 65,536 code points. The original intention was that there would be no different “encodings”; Unicode was supposed to be a straightforward 16-bit character set. Later, the codespace was expanded to make room for a long tail of less-common (but still important) Han characters, which the Unicode designers didn’t originally plan for. Surrogates were then introduced, as—to put it bluntly—a kludge, allowing 16-bit encodings to access the new code points.  Today, Javascript uses UTF-16 as its standard string representation: if you ask for the length of a string, or iterate over it, etc., the result will be in UTF-16 words, with any code points outside the BMP expressed as surrogate pairs. UTF-16 is also used by the Microsoft Win32 APIs; though Win32 supports either 8-bit or 16-bit strings, the 8-bit version unaccountably still doesn’t support UTF-8—only legacy code-page encodings, like ANSI. This leaves UTF-16 as the only way to get proper Unicode support in Windows. (Update: in Win10 version 1903, they finally added UTF-8 support to the 8-bit APIs! 😊)  By the way, UTF-16’s words can be stored either little-endian or big-endian. Unicode has no opinion on that issue, though it does encourage the convention of putting U+FEFF zero width no-break space at the top of a UTF-16 file as a byte-order mark, to disambiguate the endianness. (If the file doesn’t match the system’s endianness, the BOM will be decoded as U+FFFE, which isn’t a valid code point.)  Combining Marks In the story so far, we’ve been focusing on code points. But in Unicode, a “character” can be more complicated than just an individual code point!  Unicode includes a system for dynamically composing characters, by combining multiple code points together. This is used in various ways to gain flexibility without causing a huge combinatorial explosion in the number of code points.  In European languages, for example, this shows up in the application of diacritics to letters. Unicode supports a wide range of diacritics, including acute and grave accents, umlauts, cedillas, and many more. All these diacritics can be applied to any letter of any alphabet—and in fact, multiple diacritics can be used on a single letter.  If Unicode tried to assign a distinct code point to every possible combination of letter and diacritics, things would rapidly get out of hand. Instead, the dynamic composition system enables you to construct the character you want, by starting with a base code point (the letter) and appending additional code points, called “combining marks”, to specify the diacritics. When a text renderer sees a sequence like this in a string, it automatically stacks the diacritics over or under the base letter to create a composed character.  For example, the accented character “Á” can be expressed as a string of two code points: U+0041 “A” latin capital letter a plus U+0301 “◌́” combining acute accent. This string automatically gets rendered as a single character: “Á”.  Now, Unicode does also include many “precomposed” code points, each representing a letter with some combination of diacritics already applied, such as U+00C1 “Á” latin capital letter a with acute or U+1EC7 “ệ” latin small letter e with circumflex and dot below. I suspect these are mostly inherited from older encodings that were assimilated into Unicode, and kept around for compatibility. In practice, there are precomposed code points for most of the common letter-with-diacritic combinations in European-script languages, so they don’t use dynamic composition that much in typical text.  Still, the system of combining marks does allow for an arbitrary number of diacritics to be stacked on any base character. The reductio-ad-absurdum of this is Zalgo text, which works by ͖͟ͅr͞aṋ̫̠̖͈̗d͖̻̹óm̪͙͕̗̝ļ͇̰͓̳̫ý͓̥̟͍ ̕s̫t̫̱͕̗̰̼̘͜a̼̩͖͇̠͈̣͝c̙͍k̖̱̹͍͘i̢n̨̺̝͇͇̟͙ģ̫̮͎̻̟ͅ ̕n̼̺͈͞u̮͙m̺̭̟̗͞e̞͓̰̤͓̫r̵o̖ṷs҉̪͍̭̬̝̤ ̮͉̝̞̗̟͠d̴̟̜̱͕͚i͇̫̼̯̭̜͡ḁ͙̻̼c̲̲̹r̨̠̹̣̰̦i̱t̤̻̤͍͙̘̕i̵̜̭̤̱͎c̵s ͘o̱̲͈̙͖͇̲͢n͘ ̜͈e̬̲̠̩ac͕̺̠͉h̷̪ ̺̣͖̱ḻ̫̬̝̹ḙ̙̺͙̭͓̲t̞̞͇̲͉͍t̷͔̪͉̲̻̠͙e̦̻͈͉͇r͇̭̭̬͖,̖́ ̜͙͓̣̭s̘̘͈o̱̰̤̲ͅ ̛̬̜̙t̼̦͕̱̹͕̥h̳̲͈͝ͅa̦t̻̲ ̻̟̭̦̖t̛̰̩h̠͕̳̝̫͕e͈̤̘͖̞͘y҉̝͙ ̷͉͔̰̠o̞̰v͈͈̳̘͜er̶f̰͈͔ḻ͕̘̫̺̲o̲̭͙͠ͅw̱̳̺ ͜t̸h͇̭͕̳͍e̖̯̟̠ ͍̞̜͔̩̪͜ļ͎̪̲͚i̝̲̹̙̩̹n̨̦̩̖ḙ̼̲̼͢ͅ ̬͝s̼͚̘̞͝p͙̘̻a̙c҉͉̜̤͈̯̖i̥͡n̦̠̱͟g̸̗̻̦̭̮̟ͅ ̳̪̠͖̳̯̕a̫͜n͝d͡ ̣̦̙ͅc̪̗r̴͙̮̦̹̳e͇͚̞͔̹̫͟a̙̺̙ț͔͎̘̹ͅe̥̩͍ a͖̪̜̮͙̹n̢͉̝ ͇͉͓̦̼́a̳͖̪̤̱p̖͔͔̟͇͎͠p̱͍̺ę̲͎͈̰̲̤̫a̯͜r̨̮̫̣̘a̩̯͖n̹̦̰͎̣̞̞c̨̦̱͔͎͍͖e̬͓͘ ̤̰̩͙̤̬͙o̵̼̻̬̻͇̮̪f̴ ̡̙̭͓͖̪̤“̸͙̠̼c̳̗͜o͏̼͙͔̮r̞̫̺̞̥̬ru̺̻̯͉̭̻̯p̰̥͓̣̫̙̤͢t̳͍̳̖ͅi̶͈̝͙̼̙̹o̡͔n̙̺̹̖̩͝ͅ”̨̗͖͚̩.̯͓  A few other places where dynamic character composition shows up in Unicode:  Vowel-pointing notation in Arabic and Hebrew. In these languages, words are normally spelled with some of their vowels left out. They then have diacritic notation to indicate the vowels (used in dictionaries, language-teaching materials, children’s books, and such). These diacritics are expressed with combining marks.  A Hebrew example, with niqqud:\\tאֶת דַלְתִּי הֵזִיז הֵנִיעַ, קֶטֶב לִשְׁכַּתִּי יָשׁוֹד Normal writing (no niqqud):\\tאת דלתי הזיז הניע, קטב לשכתי ישוד Devanagari, the script used to write Hindi, Sanskrit, and many other South Asian languages, expresses certain vowels as combining marks attached to consonant letters. For example, “ह” + “\\u200bि” = “हि” (“h” + “i” = “hi”). Korean characters stand for syllables, but they are composed of letters called jamo that stand for the vowels and consonants in the syllable. While there are code points for precomposed Korean syllables, it’s also possible to dynamically compose them by concatenating their jamo. For example, “ᄒ” + “ᅡ” + “ᆫ” = “한” (“h” + “a” + “n” = “han”). Canonical Equivalence In Unicode, precomposed characters exist alongside the dynamic composition system. A consequence of this is that there are multiple ways to express “the same” string—different sequences of code points that result in the same user-perceived characters. For example, as we saw earlier, we can express the character “Á” either as the single code point U+00C1, or as the string of two code points U+0041 U+0301.  Another source of ambiguity is the ordering of multiple diacritics in a single character. Diacritic order matters visually when two diacritics apply to the same side of the base character, e.g. both above: “ǡ” (dot, then macron) is different from “ā̇” (macron, then dot). However, when diacritics apply to different sides of the character, e.g. one above and one below, then the order doesn’t affect rendering. Moreover, a character with multiple diacritics might have one of the diacritics precomposed and others expressed as combining marks.  For example, the Vietnamese letter “ệ” can be expressed in five different ways:  Fully precomposed: U+1EC7 “ệ” Partially precomposed: U+1EB9 “ẹ” + U+0302 “◌̂” Partially precomposed: U+00EA “ê” + U+0323 “◌̣” Fully decomposed: U+0065 “e” + U+0323 “◌̣” + U+0302 “◌̂” Fully decomposed: U+0065 “e” + U+0302 “◌̂” + U+0323 “◌̣” Unicode refers to set of strings like this as “canonically equivalent”. Canonically equivalent strings are supposed to be treated as identical for purposes of searching, sorting, rendering, text selection, and so on. This has implications for how you implement operations on text. For example, if an app has a “find in file” operation and the user searches for “ệ”, it should, by default, find occurrences of any of the five versions of “ệ” above!  Normalization Forms To address the problem of “how to handle canonically equivalent strings”, Unicode defines several normalization forms: ways of converting strings into a canonical form so that they can be compared code-point-by-code-point (or byte-by-byte).  The “NFD” normalization form fully decomposes every character down to its component base and combining marks, taking apart any precomposed code points in the string. It also sorts the combining marks in each character according to their rendered position, so e.g. diacritics that go below the character come before the ones that go above the character. (It doesn’t reorder diacritics in the same rendered position, since their order matters visually, as previously mentioned.)  The “NFC” form, conversely, puts things back together into precomposed code points as much as possible. If an unusual combination of diacritics is called for, there may not be any precomposed code point for it, in which case NFC still precomposes what it can and leaves any remaining combining marks in place (again ordered by rendered position, as in NFD).  There are also forms called NFKD and NFKC. The “K” here refers to compatibility decompositions, which cover characters that are “similar” in some sense but not visually identical. However, I’m not going to cover that here.  Grapheme Clusters As we’ve seen, Unicode contains various cases where a thing that a user thinks of as a single “character” might actually be made up of multiple code points under the hood. Unicode formalizes this using the notion of a grapheme cluster: a string of one or more code points that constitute a single “user-perceived character”.  UAX #29 defines the rules for what, precisely, qualifies as a grapheme cluster. It’s approximately “a base code point followed by any number of combining marks”, but the actual definition is a bit more complicated; it accounts for things like Korean jamo, and emoji ZWJ sequences.  The main thing grapheme clusters are used for is text editing: they’re often the most sensible unit for cursor placement and text selection boundaries. Using grapheme clusters for these purposes ensures that you can’t accidentally chop off some diacritics when you copy-and-paste text, that left/right arrow keys always move the cursor by one visible character, and so on.  Another place where grapheme clusters are useful is in enforcing a string length limit—say, on a database field. While the true, underlying limit might be something like the byte length of the string in UTF-8, you wouldn’t want to enforce that by just truncating bytes. At a minimum, you’d want to “round down” to the nearest code point boundary; but even better, round down to the nearest grapheme cluster boundary. Otherwise, you might be corrupting the last character by cutting off a diacritic, or interrupting a jamo sequence or ZWJ sequence.  And More… There’s much more that could be said about Unicode from a programmer’s perspective! I haven’t gotten into such fun topics as case mapping, collation, compatibility decompositions and confusables, Unicode-aware regexes, or bidirectional text. Nor have I said anything yet about implementation issues—how to efficiently store and look-up data about the sparsely-assigned code points, or how to optimize UTF-8 decoding, string comparison, or NFC normalization. Perhaps I’ll return to some of those things in future posts.  Unicode is a fascinating and complex system. It has a many-to-one mapping between bytes and code points, and on top of that a many-to-one (or, under some circumstances, many-to-many) mapping between code points and “characters”. It has oddball special cases in every corner. But no one ever claimed that representing all written languages was going to be easy, and it’s clear that we’re never going back to the bad old days of a patchwork of incompatible encodings.  Further reading:  The Unicode Standard UTF-8 Everywhere Manifesto Dark corners of Unicode by Eevee ICU (International Components for Unicode)—C/C++/Java libraries implementing many Unicode algorithms and related things Python 3 Unicode Howto Google Noto Fonts—set of fonts intended to cover all assigned code points<|endoftext|>\n",
    "'''"
   ]
  },
  {
   "cell_type": "code",
   "execution_count": 61,
   "id": "f3c84375-27dd-4214-a0db-11bca8e1f8b2",
   "metadata": {},
   "outputs": [
    {
     "data": {
      "text/plain": [
       "(30963, 33689, 191)"
      ]
     },
     "execution_count": 61,
     "metadata": {},
     "output_type": "execute_result"
    }
   ],
   "source": [
    "tokens = text.encode('utf-8')\n",
    "tokens = list(map(int,tokens))\n",
    "\n",
    "len(text), len(tokens), len(set(tokens))"
   ]
  },
  {
   "cell_type": "code",
   "execution_count": 62,
   "id": "19fa2ca5-872c-4a0f-b1d2-e0b7a96eac44",
   "metadata": {},
   "outputs": [
    {
     "name": "stdout",
     "output_type": "stream",
     "text": [
      "merging (101, 32) into a new token 256\n",
      "merging (105, 110) into a new token 257\n",
      "merging (115, 32) into a new token 258\n",
      "merging (116, 104) into a new token 259\n",
      "merging (101, 114) into a new token 260\n",
      "merging (44, 32) into a new token 261\n",
      "merging (100, 32) into a new token 262\n",
      "merging (116, 32) into a new token 263\n",
      "merging (226, 128) into a new token 264\n",
      "merging (99, 111) into a new token 265\n",
      "merging (97, 110) into a new token 266\n",
      "merging (111, 114) into a new token 267\n",
      "merging (101, 110) into a new token 268\n",
      "merging (97, 114) into a new token 269\n",
      "merging (46, 32) into a new token 270\n",
      "merging (257, 103) into a new token 271\n",
      "merging (101, 262) into a new token 272\n",
      "merging (259, 256) into a new token 273\n",
      "merging (265, 100) into a new token 274\n",
      "merging (121, 32) into a new token 275\n"
     ]
    }
   ],
   "source": [
    "vocab_size = 276\n",
    "num_merges = vocab_size - 256\n",
    "ids = list(tokens)\n",
    "\n",
    "merges = {}\n",
    "for i in range(num_merges):\n",
    "    stats = get_stats(ids)\n",
    "    pair = max(stats, key=stats.get)\n",
    "    idx = 256+i\n",
    "    print(f'merging {pair} into a new token {idx}')\n",
    "    ids = merge(ids, pair, idx)\n",
    "    merges[pair] = idx\n",
    "    "
   ]
  },
  {
   "cell_type": "code",
   "execution_count": 63,
   "id": "9e352255-3f1b-4fe4-8c65-84bfa4987c5d",
   "metadata": {},
   "outputs": [
    {
     "data": {
      "text/plain": [
       "(33689, 27159, 1.240435951250046)"
      ]
     },
     "execution_count": 63,
     "metadata": {},
     "output_type": "execute_result"
    }
   ],
   "source": [
    "len(tokens), len(ids), len(tokens)/len(ids)"
   ]
  },
  {
   "cell_type": "markdown",
   "id": "09647fc7-a272-4f21-be7c-edacd9614aa5",
   "metadata": {},
   "source": [
    "## decodingvocab = {idx: bytes([idx]) for idx in range(256)}\n",
    "for (p0, p1), idx in merges.items():\n",
    "    vocab[idx] = vocab[p0] + vocab[p1]\n",
    "\n",
    "def decode(ids):\n",
    "  # given ids (list of integers), return Python string\n",
    "  tokens = b\"\".join(vocab[idx] for idx in ids)\n",
    "  text = tokens.decode(\"utf-8\", errors=\"replace\")\n",
    "  return text\n",
    "\n",
    "print(decode([128]))"
   ]
  },
  {
   "cell_type": "code",
   "execution_count": 64,
   "id": "cf11b243-fb2f-46e1-9a59-43908275b81c",
   "metadata": {},
   "outputs": [
    {
     "name": "stdout",
     "output_type": "stream",
     "text": [
      "�\n"
     ]
    }
   ],
   "source": [
    "vocab = {idx: bytes([idx]) for idx in range(256)}\n",
    "for (p0, p1), idx in merges.items():\n",
    "    vocab[idx] = vocab[p0] + vocab[p1]\n",
    "\n",
    "def decode(ids):\n",
    "  # given ids (list of integers), return Python string\n",
    "  tokens = b''.join(vocab[idx] for idx in ids)\n",
    "  text = tokens.decode('utf-8', errors='replace')\n",
    "  return text\n",
    "\n",
    "print(decode([128]))"
   ]
  },
  {
   "cell_type": "code",
   "execution_count": 65,
   "id": "23828116-1935-42c3-bf28-c29c8d593a3f",
   "metadata": {},
   "outputs": [
    {
     "name": "stdout",
     "output_type": "stream",
     "text": [
      "[]\n"
     ]
    }
   ],
   "source": [
    "def encode(text):\n",
    "  # given a string, return list of integers (the tokens)\n",
    "  tokens = list(text.encode('utf-8'))\n",
    "  while len(tokens) >= 2:\n",
    "    stats = get_stats(tokens)\n",
    "    pair = min(stats, key=lambda p: merges.get(p, float('inf')))\n",
    "    if pair not in merges:\n",
    "      break # nothing else can be merged\n",
    "    idx = merges[pair]\n",
    "    tokens = merge(tokens, pair, idx)\n",
    "  return tokens\n",
    "\n",
    "print(encode(''))"
   ]
  },
  {
   "cell_type": "code",
   "execution_count": 66,
   "id": "c61a8d6b-5784-4a8a-98cf-04ccadf1967d",
   "metadata": {},
   "outputs": [
    {
     "name": "stdout",
     "output_type": "stream",
     "text": [
      "hello world\n"
     ]
    }
   ],
   "source": [
    "print(decode(encode('hello world')))"
   ]
  },
  {
   "cell_type": "markdown",
   "id": "7dcf6f31-1052-4fb4-bcc5-f6821b8bb489",
   "metadata": {},
   "source": [
    "### GPT-2 tokenizer"
   ]
  },
  {
   "cell_type": "code",
   "execution_count": 67,
   "id": "193fcfff-df66-4ecf-bc11-3ff6cd9fde2c",
   "metadata": {},
   "outputs": [],
   "source": [
    "import tiktoken"
   ]
  },
  {
   "cell_type": "code",
   "execution_count": 68,
   "id": "83d623eb-350a-435c-81b0-715816e7b5d5",
   "metadata": {},
   "outputs": [
    {
     "name": "stdout",
     "output_type": "stream",
     "text": [
      "[32, 27, 91, 437, 1659, 5239, 91, 29, 198, 4366, 4238, 1517, 8582, 97, 96, 27, 91, 437, 1659, 5239, 91, 29, 198, 818, 262, 5897, 7404, 286, 6184, 228, 490, 544, 11, 16343, 992, 1022, 6729, 12, 66, 6320, 12269, 290, 34493, 278, 24768, 11, 5615, 257, 7514, 11018]\n"
     ]
    }
   ],
   "source": [
    "# does not merge spaces\n",
    "enc = tiktoken.get_encoding('gpt2')\n",
    "print(enc.encode(text, disallowed_special=())[:50])"
   ]
  },
  {
   "cell_type": "code",
   "execution_count": 69,
   "id": "f453786e-433c-4fe5-8fcb-72f5386a8a7b",
   "metadata": {},
   "outputs": [
    {
     "name": "stdout",
     "output_type": "stream",
     "text": [
      "[32, 27, 91, 8862, 728, 428, 91, 397, 8538, 2926, 3245, 9468, 97, 96, 27, 91, 8862, 728, 428, 91, 397, 644, 279, 11594, 14458, 315, 1717, 228, 700, 689, 11, 89777, 1990, 12056, 1824, 5795, 24405, 323, 76461, 287, 44236, 11, 12439, 264, 46033, 589, 7086, 45903, 12456, 13]\n"
     ]
    }
   ],
   "source": [
    "# gpt-4 tokenizer, merges spaces\n",
    "enc_gpt4 = tiktoken.get_encoding('cl100k_base')\n",
    "print(enc_gpt4.encode(text, disallowed_special=())[:50])"
   ]
  },
  {
   "cell_type": "markdown",
   "id": "2c60ad99-6faa-4973-a5ee-bf31137ba70c",
   "metadata": {},
   "source": [
    "### SentencePiece \n",
    "\n",
    "used by llama and mistral"
   ]
  },
  {
   "cell_type": "code",
   "execution_count": 72,
   "id": "8684b12e-1670-4e30-9273-9044649051c7",
   "metadata": {},
   "outputs": [],
   "source": [
    "import sentencepiece as spm"
   ]
  },
  {
   "cell_type": "code",
   "execution_count": null,
   "id": "3ec39dda-bbfb-4070-b9ac-56dd210918ec",
   "metadata": {},
   "outputs": [],
   "source": []
  }
 ],
 "metadata": {
  "kernelspec": {
   "display_name": "Python 3 (ipykernel)",
   "language": "python",
   "name": "python3"
  },
  "language_info": {
   "codemirror_mode": {
    "name": "ipython",
    "version": 3
   },
   "file_extension": ".py",
   "mimetype": "text/x-python",
   "name": "python",
   "nbconvert_exporter": "python",
   "pygments_lexer": "ipython3",
   "version": "3.12.0"
  }
 },
 "nbformat": 4,
 "nbformat_minor": 5
}
