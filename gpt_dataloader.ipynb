{
 "cells": [
  {
   "cell_type": "markdown",
   "id": "29d74ebc-4ac8-4da5-8e15-025b93d29940",
   "metadata": {},
   "source": [
    "### Download, tokenize, and split datasets\n",
    "\n",
    "\n",
    "1. Wikitext - `load_dataset(\"iohadrubin/wikitext-103-raw-v1\")`\n",
    "2. Fineweb - `load_dataset(\"HuggingFaceFW/fineweb-edu\", name=\"sample-10BT\", split=\"train\", streaming=True)`\n",
    "3. Slimpajama `load_dataset(\"cerebras/SlimPajama-627B\")` ~switchted to 6B"
   ]
  },
  {
   "cell_type": "code",
   "execution_count": 1,
   "id": "1a72bbc8-7764-4eb3-a0e7-e62bb40e9975",
   "metadata": {},
   "outputs": [],
   "source": [
    "from datasets import load_dataset\n",
    "from pathlib import Path\n",
    "from tqdm import tqdm\n",
    "import tiktoken\n",
    "import numpy as np\n",
    "import os\n",
    "import torch"
   ]
  },
  {
   "cell_type": "code",
   "execution_count": 2,
   "id": "00dc9c22-02a1-45e0-9d7c-7b485298ab8d",
   "metadata": {},
   "outputs": [
    {
     "data": {
      "text/plain": [
       "PosixPath('/Users/djemec/data/gpt_train_data/tokenized')"
      ]
     },
     "execution_count": 2,
     "metadata": {},
     "output_type": "execute_result"
    }
   ],
   "source": [
    "test = Path(\"~\").expanduser() / 'data/gpt_train_data/tokenized'\n",
    "test"
   ]
  },
  {
   "cell_type": "code",
   "execution_count": 2,
   "id": "64af27dc-b282-4af8-b9ce-356b54e43f92",
   "metadata": {},
   "outputs": [],
   "source": [
    "tok_path = Path('/Users/djemec/data/gpt_train_data/tokenized')"
   ]
  },
  {
   "cell_type": "markdown",
   "id": "de66d918-51ce-4bc1-9a30-973410d452c5",
   "metadata": {},
   "source": [
    "### Setup tokenizer"
   ]
  },
  {
   "cell_type": "code",
   "execution_count": 3,
   "id": "76e80b0d-eaeb-462d-afff-1f0095957adb",
   "metadata": {},
   "outputs": [],
   "source": [
    "enc = tiktoken.get_encoding('cl100k_base')"
   ]
  },
  {
   "cell_type": "code",
   "execution_count": 6,
   "id": "15ee9fee-a071-4bb2-b1f7-8c127068c052",
   "metadata": {},
   "outputs": [
    {
     "data": {
      "text/plain": [
       "100276"
      ]
     },
     "execution_count": 6,
     "metadata": {},
     "output_type": "execute_result"
    }
   ],
   "source": [
    "enc.max_token_value"
   ]
  },
  {
   "cell_type": "code",
   "execution_count": 7,
   "id": "04ac4a91-37d3-4efa-8401-01a361b67ac7",
   "metadata": {},
   "outputs": [
    {
     "data": {
      "text/plain": [
       "{'<|endoftext|>': 100257,\n",
       " '<|fim_prefix|>': 100258,\n",
       " '<|fim_middle|>': 100259,\n",
       " '<|fim_suffix|>': 100260,\n",
       " '<|endofprompt|>': 100276}"
      ]
     },
     "execution_count": 7,
     "metadata": {},
     "output_type": "execute_result"
    }
   ],
   "source": [
    "enc._special_tokens"
   ]
  },
  {
   "cell_type": "code",
   "execution_count": 3,
   "id": "f1f87755-e270-4d3c-9fba-8d0956b3dad7",
   "metadata": {},
   "outputs": [],
   "source": [
    "# init the tokenizer\n",
    "enc = tiktoken.get_encoding('cl100k_base')\n",
    "eot = enc._special_tokens['<|endoftext|>'] # end of text token\n",
    "\n",
    "def tokenize(doc):\n",
    "    # tokenizes a single document and returns a numpy array of uint16 tokens\n",
    "    tokens = [eot] # the special <|endoftext|> token delimits all documents\n",
    "    tokens.extend(enc.encode_ordinary(doc['text']))\n",
    "    tokens_np = np.array(tokens)\n",
    "    assert (0 <= tokens_np).all() and (tokens_np < 2**16).all(), \"token dictionary too large for uint16\"\n",
    "    tokens_np_uint16 = tokens_np.astype(np.uint32)\n",
    "    return tokens_np_uint16"
   ]
  },
  {
   "cell_type": "code",
   "execution_count": 4,
   "id": "5c5a6342-e73a-4d31-98e4-a18fa497eb1c",
   "metadata": {},
   "outputs": [],
   "source": [
    "def write_datafile(dataset, split, tokens_np, path, shard_index):\n",
    "    filename = path / f'{dataset}_{split}_{shard_index:06d}'\n",
    "    np.save(filename, tokens_np)"
   ]
  },
  {
   "cell_type": "code",
   "execution_count": 5,
   "id": "3ee10542-1ef7-417a-aecd-5e5bc382e25e",
   "metadata": {},
   "outputs": [],
   "source": [
    "def tokenize_dataset(data_loader, dataset_name, split, shard_size=int(1e8)):\n",
    "    path = tok_path / f'{dataset_name}'\n",
    "    path.mkdir(parents=True, exist_ok=True)\n",
    "    shard_index = 0\n",
    "    # preallocate buffer to hold current shard\n",
    "    all_tokens_np = np.empty((shard_size,), dtype=np.uint16)\n",
    "    token_count = 0\n",
    "    progress_bar = None\n",
    "    \n",
    "    for example in data_loader:\n",
    "        tokens = tokenize(example)\n",
    "        if token_count + len(tokens) < shard_size:\n",
    "            # simply append tokens to current shard\n",
    "            all_tokens_np[token_count:token_count+len(tokens)] = tokens\n",
    "            token_count += len(tokens)\n",
    "            # update progress bar\n",
    "            if progress_bar is None:\n",
    "                progress_bar = tqdm(total=shard_size, unit='tokens', desc=f'{dataset_name}_{split} | Shard {shard_index}')\n",
    "            progress_bar.update(len(tokens))\n",
    "        else:\n",
    "            # write the current shard and start a new one\n",
    "            # split the document into whatever fits in this shard; the remainder goes to next one\n",
    "            remainder = shard_size - token_count\n",
    "            progress_bar.update(remainder)\n",
    "            all_tokens_np[token_count:token_count+remainder] = tokens[:remainder]\n",
    "            # write the file\n",
    "            write_datafile(dataset_name, split, all_tokens_np, path, shard_index)\n",
    "            # reset \n",
    "            shard_index += 1\n",
    "            # populate the next shard with the leftovers of the current doc\n",
    "            all_tokens_np[0:len(tokens)-remainder] = tokens[remainder:]\n",
    "            token_count = len(tokens)-remainder\n",
    "            #reset progress bar \n",
    "            progress_bar.close()\n",
    "            progress_bar = tqdm(total=shard_size, unit='tokens', desc=f'{dataset_name}_{split} | Shard {shard_index}')\n",
    "            progress_bar.update(token_count)\n",
    "    \n",
    "    # write any remaining tokens as the last shard\n",
    "    if token_count != 0:\n",
    "        all_tokens_np = all_tokens_np[0:token_count]\n",
    "        write_datafile(dataset_name, split, all_tokens_np, path, shard_index)\n",
    "    \n",
    "    \n",
    "        "
   ]
  },
  {
   "cell_type": "code",
   "execution_count": 6,
   "id": "e792b7b7-e9da-4f3c-aeb4-c83c96de6141",
   "metadata": {},
   "outputs": [],
   "source": [
    "def load_tokens(filename):\n",
    "    npt = np.load(filename)\n",
    "    npt = npt.astype(np.int32) # added after video\n",
    "    ptt = torch.tensor(npt, dtype=torch.long)\n",
    "    return ptt"
   ]
  },
  {
   "cell_type": "markdown",
   "id": "f83869f0-cb45-47c7-83d2-69c9ab0c9586",
   "metadata": {},
   "source": [
    "#### Wikitext"
   ]
  },
  {
   "cell_type": "code",
   "execution_count": null,
   "id": "496bc694-d90c-4c8a-a87b-ab6d96b3f2f1",
   "metadata": {},
   "outputs": [],
   "source": [
    "wt_tr = load_dataset('iohadrubin/wikitext-103-raw-v1', split='train', streaming=True)\n",
    "tokenize_dataset(wt_tr, 'wikitext-103', 'train')"
   ]
  },
  {
   "cell_type": "code",
   "execution_count": null,
   "id": "46e7272c-589c-4355-a470-7a88bc0ca578",
   "metadata": {},
   "outputs": [],
   "source": [
    "wt_ts = load_dataset('iohadrubin/wikitext-103-raw-v1', split='test', streaming=True)\n",
    "tokenize_dataset(wt_ts, 'wikitext-103', 'test')"
   ]
  },
  {
   "cell_type": "code",
   "execution_count": null,
   "id": "7fe32e06-3b71-40e9-b393-14f6661d1fa3",
   "metadata": {},
   "outputs": [],
   "source": [
    "wt_val = load_dataset('iohadrubin/wikitext-103-raw-v1', split='validation', streaming=True)\n",
    "tokenize_dataset(wt_val, 'wikitext-103', 'val')"
   ]
  },
  {
   "cell_type": "markdown",
   "id": "1fe6ae6f-befa-451f-922a-7fc474090c36",
   "metadata": {},
   "source": [
    "## Fineweb"
   ]
  },
  {
   "cell_type": "code",
   "execution_count": null,
   "id": "cc70f461-2945-4d98-9b56-a037b72222b3",
   "metadata": {},
   "outputs": [],
   "source": [
    "fw_tr = load_dataset('HuggingFaceFW/fineweb-edu', name='sample-10BT', split='train', streaming=True)"
   ]
  },
  {
   "cell_type": "code",
   "execution_count": null,
   "id": "85a477f9-5461-4f25-ba4c-2dc10340917e",
   "metadata": {},
   "outputs": [],
   "source": [
    "tokenize_dataset(fw_tr, 'fineweb-edu', 'train')"
   ]
  },
  {
   "cell_type": "markdown",
   "id": "f685a343-0768-464c-8c78-709372092349",
   "metadata": {},
   "source": [
    "## SlimPajama"
   ]
  },
  {
   "cell_type": "code",
   "execution_count": null,
   "id": "fad1c755-9dc0-492b-b8f9-754021bf0922",
   "metadata": {},
   "outputs": [],
   "source": [
    "# switched to 6B set that's sampled\n",
    "sp_tr = load_dataset('DKYoon/SlimPajama-6B', split='train', streaming=True)"
   ]
  },
  {
   "cell_type": "code",
   "execution_count": null,
   "id": "778f6fe1-cb7c-40d6-a31b-548d0eb6da55",
   "metadata": {},
   "outputs": [],
   "source": [
    "tokenize_dataset(sp_tr, 'slimpajama-6B', 'train')"
   ]
  },
  {
   "cell_type": "code",
   "execution_count": null,
   "id": "a639d5f5-efac-4aa7-a700-f9fe0d4cfb50",
   "metadata": {},
   "outputs": [],
   "source": [
    "sp_ts = load_dataset('DKYoon/SlimPajama-6B', split='test', streaming=True)\n",
    "tokenize_dataset(sp_ts, 'slimpajama-6B', 'test')"
   ]
  },
  {
   "cell_type": "code",
   "execution_count": null,
   "id": "e745913f-1796-4b68-96a6-0921977efb3f",
   "metadata": {},
   "outputs": [],
   "source": [
    "sp_val = load_dataset('DKYoon/SlimPajama-6B', split='validation', streaming=True)\n",
    "tokenize_dataset(sp_val, 'slimpajama-6B', 'val')"
   ]
  },
  {
   "cell_type": "markdown",
   "id": "916b8d69-abed-4364-aa2a-abefc014f017",
   "metadata": {},
   "source": [
    "## Decoding"
   ]
  },
  {
   "cell_type": "code",
   "execution_count": 10,
   "id": "46179704-7aa5-48de-be43-e94752848f9e",
   "metadata": {},
   "outputs": [],
   "source": [
    "path = tok_path / 'slimpajama-6B' / 'slimpajama-6B_train_000005.npy'"
   ]
  },
  {
   "cell_type": "code",
   "execution_count": 11,
   "id": "aa2594be-b62c-4b54-8886-71fc810a256d",
   "metadata": {},
   "outputs": [],
   "source": [
    "decoding_toks = load_tokens(path)\n"
   ]
  },
  {
   "cell_type": "code",
   "execution_count": 20,
   "id": "a198c712-3d00-41a4-8e15-9d99c066fc62",
   "metadata": {},
   "outputs": [
    {
     "data": {
      "text/plain": [
       "torch.Size([100000000])"
      ]
     },
     "execution_count": 20,
     "metadata": {},
     "output_type": "execute_result"
    }
   ],
   "source": [
    "decoding_toks.shape"
   ]
  },
  {
   "cell_type": "code",
   "execution_count": 27,
   "id": "f2e3134e-7a0c-4034-a8cf-e5ca1f6b4cc6",
   "metadata": {},
   "outputs": [
    {
     "data": {
      "text/plain": [
       "'en Kräfte hinter den Plattenbewegungen und der Stellung der Kontinente in der Erdentwicklung.\\n\\nSchriften \\n The geologic evolution of the Tibetan plateau, American Scientist, 77, 1989, 350–360.\\n The geologic history and structure of the Himalaya, American Scientist, 74, 1986, 144–154.\\n The structure of mountain ranges, Scientific American, Juli 1986.\\n Continental tectonics in the aftermath of plate tectonics, Nature, Band 335, 1988, S. 131–137.\\n mit Tapponnier: The collision between India and Eurasia, Scientific American, April 1977.\\n mit P. England: Late Cenozoic uplift of mountain ranges and global climate change: chicken or egg?, Nature, 346, 1990, S. 29–34.\\n mit Tapponnier: Cenozoic tectonics of Asia: Effect of a continental collision: Science, Band 189, 1975, S. 419–425.\\n mit Tapponnier: Active tectonics of Tibet: Journal of Geophysical Research B: Solid Earth, Band 83, 1978, S. 5361–5375.\\n mit Tapponnier: A possible dependence of tectonic strength on the age of the crust in Asia: Earth and Planetary Science Letters, Band 52, 1981, S. 107–114.\\n mit Tapponnier: Active faulting and Cenozoic tectonics of the Tien Shan, Mongolia and Baykal regions: Journal Geophysical Research, Band 84, 1979, B7, S. 3425–3459.\\n mit Tapponnier: Slip-line field theory and large-scale continental tectonics, Nature, 264, 1976, S. 319–324.\\n mit Tanya Atwater: Relative motion of hot spots in the mantle, Nature, 246, 1973, 288–291.\\n mit Valentin Semenovich Burtman: Geological and geophysical evidence for deep subduction of continental crust beneath the Pamir, Geological Society of America 1993.\\n\\nQuellen \\n Lebensdaten nach American Men and Women of Science, Thomson Gale 2004\\n\\nWeblinks \\n \\n Homepage Peter Molnar\\n\\nEinzelnachweise \\n\\nGeologe (20. Jahrhundert)\\nHochschullehrer (Massachusetts Institute of Technology)\\nHochschullehrer (University of Colorado at Boulder)\\nUS-Amerikaner\\nGeboren 1943\\nGestorben 2022\\nMann<|endoftext|>Learn more about leaks, bedwetting and continence care in these articles. If you experience incontinence, make sure to get a proper diagnosis from your doctor.\\nWhat causes bedwetting and nocturia?\\nBedwetting, or nocturnal enuresis, is involuntary urination while asleep after the age at which staying dry at night can be expected. Nocturia is the need to get up to void frequently during the night.\\nUrinary incontinence is a term that includes all involuntary leakage of urine. There are several different types, for example stress urinary incontinence, mixed urinary incontinence, urge urinary incontinence, and more.\\nStress incontinence, or stress urinary incontinence (SUI) means that you have leaks when you laugh, sneeze, cough, or during other types of effort.\\nDid you know that if you are experiencing bladder weakness, you are also at greater risk of Urinary Tract Infections (UTIs)? There are many different reasons for this, but the good thing is that there are things you can do to prevent an infection.<|endoftext|>the hazards of data mining in healthcare\\nA hacker with access to such a database could use face-detection software to crosscheck the scans with a Web site where users post photos of themselves. We conclude that there are many pitfalls in the use of data mining in healthcare and more work is needed to show evidence of its utility in facilitating healthcare decision-making for healthcare providers, managers, and policy makers and more evidence is needed on data mining\\'s overall impact on healthcare services and patient care. Occupational Health Hazards in Mining. Many of those I interviewed anticipated a situation where patients could decide whether to opt into data mining of their health records. Have a question about our comment policies? \"I imagine that would save 10,000 lives in the first year.\". We conclude that there are many pitfalls in the use of data mining in healthcare and more work is needed to show evidence of its utility in facilitating healthcare decision-making for healthcare providers, … Photo Credit: Jim Kaskade via Compfight cc. Shaking up industries is part of Google\\'s DNA. At the same time, people die driving every year and we still choose to drive cars, or most of us do. Digitalization is changing healthcare today. Thank you to Megan Clark, a remote researcher from University of Queensland, Brisbane, Australia, for her writeup of one of the most insidious hazards in mine-work: inhaling dust that kills you slowly. \"Imagine you had the ability to search people\\'s medical records in the U.S.,\" Page said in another interview this summer. The end result is being able to run a scan for five minutes on a laptop and having a better understanding of a tumor. \"The goal in health care is not to protect privacy, the goal is to save lives. In fact, this is the very type of analytical capability that many providers will need to develop to effectively … Data Mining An Overview Data size are generally growing from day to day. 2017; 238:80-83 (ISSN: 0926-9630) Househ M; Aldosari B. A Google spokeswoman declined to offer an explanation of Page\\'s numbers, or make him available for comment. During the 1990s and early 2000\\'s, data mining was a topic of great interest to healthcare researchers, as data mining showed some promise in the use of its predictive techniques to help model the healthcare system and improve the delivery of healthcare services. The average person might spend a few hours a year with their physician, during which data about their health (blood pressure, alcohol consumption, weight, etc.) If health records are ever going to be data mined, it\\'ll happen when consumers are convinced the perks outweigh the costs. This sounds dry, but it\\'s the way successful retailers and Internet companies make their money. \"It would be great if when the patient walked in our Bluetooth sensors picked up their phone and it pushed in all their exercise and diet history, and then there were analytics that were performed in real time,\" said Thomas Graf, chief medical officer at Geisinger Health System. Little has been written about the limitations and challenges of data mining use in healthcare. If Page can soften a country\\'s fears about sharing our health data — which ends up saving lives — does the end justifies his means of fuzzy math? From the mid-1990s, data mining methods have been used to explore and find patterns and relationships in healthcare data. Page\\'s numbers sound impressive, but are speculative and unfounded, according to many in the medical industry. Before data mining became widely available, insurance claims auditors studied individual documents, but did not have sufficient time to review them closely enough to find the possible warning signs of insurance fraud. Data mining has been used intensively and extensively by many organizations. If more medical images made their way into databases such as BraTumIA, those services would get even better. Healthcare, however, has always been slow to incorporate the latest research into everyday practice. \"It\\'s not an irrational fear. Mining hazards database The Chief Executive Mining Hazards Database is a database of information about hazards associated with mining operations and methods of controlling those hazards. However, mining in South Africa has the legacy of silica exposure, silicosis and tuberculosis, which contribute substantially to mortality and morbidity of miners. Big data blues: The dangers of data mining Big data might be big business, but overzealous data mining can seriously destroy your brand. Unleashing the modern power of computers, data crunching and artificial intelligence could revolutionize health care, improving and extending lives. Stud Health Technol Inform. For data mining to succeed would also require recruiting top data scientists to health care, which isn\\'t easy given the demand in the hot field. However, experts argue that this is a risk worth taking.\"There will be criminals. The Role of Big Data Mining in Healthcare Applications. Hazard Identification at the Mining Site: We would like to briefly discuss the topic of hazard identification at the start of a job…How is this done and what are the responses we might expect to find? TECHNOLOGYis playing an integral role in health care worldwide as predictive analytics has become increasingly useful in operational management, personal medicine, and epidemiology. making to this socio-economic real world health hazard. How would a safety officer best communicate during the inspection? Our results show that the limitations of data mining in healthcare include reliability of medical data, data sharing between healthcare organizations, inappropriate modelling leading to inaccurate predictions. \"There\\'s tremendous opportunity if we start taking individualized genomic data and health histories and assuming you can perfectly de-identify it, my gosh, if you can mine that and look for patterns between genomic sequences and types of illnesses and effects of treatment on those illnesses you could potentially do a tremendous amount for society and the health of our individuals,\" said Christopher Jaeger, Sutter Health\\'s chief medical information officer. Underground mining, by its nature, presents a range of health and safety hazards that are different from those in other sectors. Even if you have an error in the computer this error is consistent over time. Getting measurements right is crucial as physicians determine the best treatment plan for a patient. \"Data mining is accomplished by building models,\" explains Oracle on its website. An optimist might remember Page\\'s assertion that Google is a company devoted to solving \"huge problems for hundreds of millions of people,\" and offer him the benefit of the doubt. \"Usually when I see someone put a number on it and throw around saving lives it usually means one, they aren\\'t usually a clinician or someone who provides care, or No. Predictive analytics uses historical patterns to determine future outcomes. This article explores data mining techniques in health care. The Hazards of Data Mining in Healthcare. This post was brought to you by IBM for MSPs and opinions are my own. There will be people who are bad actors. We conclude that there are many pitfalls in the use of data mining in healthcare and more work is needed to show evidence of its utility in facilitating healthcare decision-making for healthcare providers, … Still, there are some early examples that hint at what could be done. We conclude that there are many pitfalls in the use of data mining in healthcare and more work is needed to show evidence of its utility in facilitating healthcare decision-making for healthcare providers, … Academicians are using data-mining approaches like decision trees, clusters, neural networks, and time series to publish research. But as users saw the utility of the feed, the tradeoff in privacy became acceptable. The most important news stories of the day, curated by Post editors and delivered every morning. Efforts are also ongoing to rely on data mining to cut down on instances of health insurance fraud. To a cynic, Page is a shrewd businessman twisting facts to shape the national dialogue so that he can profit from absorbing our health data into the Google cloud, where his world-class engineers will find ways to make money off all of that information. In one other instance where Page has used an unsubstantiated health care statistic, he told Time Magazine last year that solving cancer would only \"add about three years to people\\'s average life expectancy.\" That\\'s a figure the American Cancer Society and National Cancer Institute had never heard of before. It\\'s a risk every person has to decide where they fall on the line.\". While they universally agree that data mining — the examination and analysis of huge batches of information — could invigorate health care, they … Others are introduced through complex mining activities and processes, which bring potential hazards into the underground environment including hazards from mobile equipment such as large vehicles that may limit visibility for the driver. To read more on this topic, visit IBM\\'s PivotPoint. \"Health care has been pretty archaic. But what if health data we think is anonymous gets identified or hacked? text of Open Access publications. In fact, data mining in healthcare today remains, for the most part, an academic exercise with only a few pragmatic success stories. \"It\\'s hard,\" said John Weinstein, chair of bioinformatics and computational biology at MD Anderson Cancer Center. Digitalization and innovation of new techniques reduce human efforts and make data easily assessable. Included in the database are references to the safety alerts, recognised standards and external publications that relate to the control of the hazards. 2 it\\'s someone who really knows better, but is trying to grab a headline,\" said Nicholas Marko, the department head of data science at the Geisinger Medical Center. It\\'s the kind of potential Google chief executive Larry Page hinted at when he told the New York Times earlier this year that \"we\\'d probably save 100,000 lives next year,\" if we data mined health care data. \"Why would someone who is really really good at analyzing data come to work for a health care organization and make X dollars when they could go to Google and make 10X dollars?\" Marko added. More information — and the comparison of that information to other patients — should lead to better treatments. Data mining holds incredible potential for healthcare services due to the exponential growth in the number of electronic health records. The data experts have a belief that almost 30% of the overall expenditure cost of healthcare can be reduced by using data mining. The program uses those as a guide to teach itself to identify different parts of future brain scans as a tumor or not. We need to have that as starting point,\" said David Castro, director of the Center for Data Innovation. \"Is the doctor treating me based on the last couple patients he saw, or is he treating me based on the rigorous analysis of millions of patents and finding the 5,000 that are actually just like me, and treating me in a much more accurate way?\". Imagine if your doctor could compare your physical health, diet and lifestyle to a thousand Americans with similar characteristics, and realize that you need treatment to prevent heart failure next month. The core idea behind data mining is that through the use of appropriate technologies we can identify patterns of behaviour, in customers, employees, suppliers, machinery and in fact any aspect of the organisation provided data has been captured. It\\'s incredibly popular Newsfeed — which funnels the latest information about friends into a feed — was initially met with uproar by users concerned about their privacy. What if an analysis of your genome could help a physician give you a customized cancer treatment that saves your life? \"We need the innovation of people from outside health care to come in and take a look and challenge this industry, and yes with data mining there\\'s a great world of possibility.\". You have Data mining holds great potential for the healthcare industry to enable health systems to systematically use data and analytics to identify inefficiencies and best practices that improve care and reduce costs. 2. In healthcare, data mining is becoming increasingly popular, if not increasingly essential. Data mining and Big Data analytics are helping to realize the goals of diagnosing, treating, helping, and healing all patients in need of healthcare, with the end goal of this domain being improved Health Care Output (HCO), or the quality of care that healthcare can provide to end users (i.e. The threat of being sued deters health organizations from sharing data and embracing the full potential of data mining. Data Mining Data Mining is the process of extracting information from large data sets through using algorithms and Techniques drawn from the field of Statistics, Machine Learning and Data Base Management Systems. This is the purpose of healthcare data analytics: using data-driven findings to predict and solve a problem before it is too late, but also assess methods and treatments faster, keep better track of inventory, involve patients more in their own health, and empower them with the tools to do so. Technically, data mining is the process of finding correlations or patterns among dozens of fields in large relational databases. But fear of litigation, privacy concerns, regulations and the challenge of collecting and standardizing data all stand in the way of realizing this health care utopia. 18 Big Data Applications In Healthcare . The type of data allegedly gathered and analyzed by Accretive could potentially be used for nefarious purposes including shunting poorer, sicker patients into a second-class care system, but it could also be used to identify those patients for whom special attention could most effectively improve outcomes. This is the first-ever Guest Post on GeoMika, a request that forced me to invent a Guest Post Policy! … The computer program — called BraTumIA — is capable of a 3D analysis of the tumor\\'s volume, which better measures whether it\\'s shrinking or growing. However, it was soon discovered that mining healthcare data had many challenges relating to the veracity of healthcare data and limitations around predictive modelling leading to failures of data mining projects. Examples of healthcare data mining application. This is done by analyzing data from different perspectives and finding connections and relationships between seemingly unrelated information. Previously Doctors and physicians hold patient information in the paper where the data was quite difficult to hold. This could be a win/win overall. For example, data mining can help hea … \"You really have to battle with Silicon Valley and the Boston academic scene.\". I. Using data mining, the healthcare industry can be very effective in such fields as: medical research, pharmaceuticals, medical devices, genetics, hospital management, and health care insurance, etc. While section 3.0 discuss the various data mining algorithms used in healthcare. patients). This applies particularly to traumatic injury hazards, ergonomic hazards and noise. Interviews with more than a dozen health care professionals and data scientists found no evidence backing Page\\'s specific claims. From the mid-1990s, data mining methods have been used to explore and find patterns and relationships in healthcare data. By signing up you agree to our Terms of Use and Privacy Policy, Share your feedback by emailing the author. Mining remains an important industrial sector in many parts of the world and although substantial progress has been made in the control of occupational health hazards, there remains room for further risk reduction. In this review, opportunities, challenges and solutions for this health-data revolution are discussed. \"A model uses an algorithm to act on a set of data. In this review paper, we explore some of the limitations and challenges in the use of data mining techniques in healthcare. August 2018; DOI: 10.1109/ICRITO.2018.8748434. This article will delve into the benefits for predictive analytics in the health sector, the possible biases inherent in developing algorithms (as well as logic), and the new sources of risks emerging due to a lack of industry assurance and absence of clea… Review our. At some point something is going to get out,\" Graf said. If I had access to such a database I could give you a list of people in Facebook with names of who has a brain tumor,\" cautioned Bjoern Menze, a computer science professor at TU Munchen who researches medical imaging. Massive amounts of patient data being shared during the data mining process increases patient concerns that their personal information could fall into the wrong hands. Will new ethical codes be enough to allay consumers\\' fears? As a guest user you are not logged in or recognized by your IP address. With improved access to a considerable amount of patient data, healthcare firms are now in a position to maximize the performance and quality of their businesses with the help of data mining. Posted on October 21, 2013 by Mika. Much has been written on the positive impacts of data mining on healthcare practice relating to issues of best practice, fraud detection, chronic disease management, and general healthcare decision making. [2] Keywords-Data mining, Fluoride affected people, Clustering, K-means, Skeletal. In particular, it discusses data mining and its application in areas where people are affected severely by using the under- ground drinking water which consist of high levels of fluoride in Krishnagiri District, Tamil Nadu State, India. \"The computer has the ability to be more consistent and more objective over time. This leads to better patient outcomes, while containing costs. Researchers at the University of Bern in Switzerland have built a computer program to better measure the size of brain tumors. Big data analytics of medical information allows diagnostics, therapy and development of personalized medicines, to provide unprecedented treatment. Its self-driving car project could in theory eliminate the 1.24 million fatalities a year on global roads. There will be people who are bad actors. The Incredible Potential and Dangers of Data Mining Health Records 6 Ways Big Data Will Shape Online Marketing in 2015 How Companies are Mining Data to Mitigate Risks. Our results show that the limitations of data mining in healthcare include reliability of medical data, data sharing between healthcare organizations, inappropriate modelling leading to inaccurate predictions. But due to the complexity of healthcare and a … The notion of automatic discovery refers to the execution of data mining models.\" \"Data mining methods are suitable for large data sets and can be more readily automated. As with all information technologies data mining benefits offer an opportunity to increase the efficiency and effectiveness of an organisation. 34 Data mining in healthcare: decision making and precision Thanks to this technique, it is possible to predict trends and behavior of patients or diseases. The need to understand large, complex, information enriched data sets has now increased in all the varied fields of technology, business and science. \"When the doc walked in the room they can say \\'Oh, looks like you\\'re exercising at 80 percent of what we were talking about.\\' \". Electronic health records are dynamically turning out to be more popular among healthcare establishments. Our results show that the limitations of data mining in healthcare include reliability of medical data, data sharing between healthcare organizations, inappropriate modelling leading to inaccurate predictions. When you tend to represent the data in a graphical form, there are increased chances of reaching a conclusion which was previously hidden. Studies in Health Technology and Informatics, Volume 238: Informatics Empowers Healthcare Transformation. Here\\'s how the program works. A tax benefit might even be given to encourage involvement. The world has already seen dramatic changes to privacy norms as services such as Facebook grow in popularity.\\nBiology Paper 2020 Hsc Answer Key, Swords To Plowshares Commander Legends, Best Hook Size For Bass, Healthy Costco Haul 2020, Does Moe\\'s Have Shrimp, Aamc Core Competencies Residency, Properties Of An Element, Setting Up An Email Address With Company Name, Where To Buy Elderberry Syrup Near Me,\\n2020 the hazards of data mining in healthcare<|endoftext|>Honda, M., Tsuchimochi, H., Hitachi, K. & Ohno, S., 01-01-2019, In : Journal of Cellular Physiology.\\nLi, X., Rehman, S. U., Yamaguchi, H., Hitachi, K., Tsuchida, K., Yamaguchi, T., Sunohara, Y., Matsumoto, H. & Komatsu, S., 15-06-2018, In : Journal of Proteomics. 181, p. 238-248 11 p.<|endoftext|>Patrick Phillips, chief executive officer of the Urban Land Institute provides this commentary on land use in New Orleans five years after Hurricane Katrina left its mark on the city.\\nThe consensus is that, on the whole, New Orleans is on the rebound.\\nand, while still significant, a decline in the number of vacant properties.\\nNew Orleans Mayor Mitch Landrieu recently announced plans for more than 100 new public projects that will total nearly $640 million, including construction on the first portion of a $30 million riverfront park; recreational facilities, and community centers.\\nThe proposed new medical research facility, plus the decision by a wind turbine blade manufacturer to locate in New Orleans are just two examples of how the area\\'s economy is evolving beyond the traditional sectors of tourism, ports, oil and gas.\\nThe city can keep its momentum going through careful consideration of how and where it grows, so that it continues to become more accessible to residents and workers of a variety of incomes, age groups and household composition; and more responsive to growing consumer demand for energy-efficient and environmentally conscious places to live and work.\\nThis means sticking with a comprehensive strategy for development (and redevelopment) that conserves land and reduces the need to drive ─ emphasizing development that integrates housing in a variety of price ranges, is close to employment and shopping, and is connected by transit.\\nEarlier this year, the Center for Neighborhood Technology released new data measuring location costs for more than 330 metro areas across the United States, including combined housing and transportation expenses, miles traveled for local trips, and vehicle carbon emissions. The housing-transportation burden for the metro area remains high, totaling at least 45 percent of the income for the vast majority of residents.\\nWhile those in the inner core drive less than 12,000 miles per year, those in the neighborhoods from just outside the core to the outlying edges drive 16,000 miles, even 18,000-plus miles per year for work and errands (nearly twice the national average), according to the center\\'s data. While 14 percent of downtown residents use public transit, the percentage drops to 1 percent or less for the suburbs. And, not surprisingly, the households farthest from major employment nodes have the highest carbon emissions. What this shows is the impact of sprawl in the suburbs, even in close-in suburbs, and even in a city with distinct land constraints.\\nAs New Orleans continues the rebuilding process, how its suburbs grow is pivotal. Suburban growth in the 21st century does not have to be sprawl, not in New Orleans or other urban areas. In metro areas across the United States, the suburbs are where the growth will be, and in the suburbs, less land will have to be used to accommodate more people.\\nThe need for more housing that is close to jobs, and the link between land use, driving, and environmental preservation all make a strong case for changing development patterns throughout urban regions, in the outlying areas as well as urban cores. In many ways, New Orleans is a city like no other, but in this regard, it is no different.\\nPatrick Phillips, a longtime member of the Urban Land Institute (ULI) and a ULI trustee, has a career in the economic analysis of real estate and land use that spans more than 20 years. Prior to taking the position as the top staff executive at ULI, he was president and chief executive officer of ERA AECOM (formerly Economics Research Associates). ULI, which currently has more than 150 employees and a budget of nearly $53 million, is headquartered in Washington, D.C.<|endoftext|>The tracing track included a 620metre gradient, starting at Puy Saint Vincent 1600 and finishing near the station upstream of Le Cret.\\nThat was a Senior-only race, the men\\'s team left a few minutes past 9 am, then it was the turn of the women\\'s team.\\nJust after the word \\'go\\', the group stretched out, pulled by Kilian. At mid-race, Kilian was firmly in the lead, chased by the German Anton Palzer and by the Swiss Werner Marti, with Marc Pinsach Rubiola and Damiano Lenzi just slightly lagging behind. In the last straight stretch, the Spanish turned back a couple of times to make sure he was still ahead of Palzer. Kilian reached the finishing line with a time of 25\\'30\\'\\', with Anton Palzer lagging behind by just five seconds. Werner Marti confirms his third place with 25\\'53\\'\\'. Marc Pinsach Rubiola takes fourth place and the Italian Damino Lenzi comes fifth.\\nIn the women\\'s category, Laetitia Roux brings home the third gold medal of the weekend. In this challenge too, the French girl had not run so fast since the start, she stepped up a gear just before the last stretch with the finishing line looming ahead. For most of the race, Roux climbed up alongside the Swiss Victoria Kreuzer, followed by a very young Axelle Mollaret and by Claudia Galicia Cotrina.\\nThe princess of Puy Saint Vincent wins with 30\\'26\\'\\', Victoria Kreuzer is second, just seventeen seconds later. Axelle Mollaret climbs the first step of the podium, while Claudia Galicia Cotrina and the Italian Katia Tomatis are fourth and fifth, respectively.\\nThe next Scarpa ISMF World Cup will take place to coincide with the Font Blanca, in Andorra, on 24 and 25 January.<|endoftext|>Last year Eviction Lab debuted what\\'s thought to be the nation\\'s largest eviction database, revealing that U.S. property owners had submitted at least 2.3 million eviction filings in 2016. For housing experts from Louisiana to Virginia, it provided the evidence to confirm what they long suspected: Black renters disproportionately bore the brunt of the eviction crisis.\\nEviction Lab found that nine of the 10 highest-evicting large U.S. cities were not only located in the South but also had populations that were at least 30 percent black.\\nMoreover, the top 25 entries in its ranking of mid-sized cities — including East Point, Ga., pop. 35,000; Warner Robins, Ga., pop. 74,900; and Gulfport, Miss., pop. 71,800 — experienced an eviction rate at least four times higher than the national average of 2.3 percent.\\n\"If you\\'ve read about the housing crisis, it seems located in New York and San Francisco, but the eviction crisis is happening in cities with a fairly low cost of living like North Charleston, South Carolina, and Tulsa, Oklahoma,\" said Matthew Desmond, a professor of sociology at Princeton and the author of the Pulitzer Prize-winning book Evicted.\\nAs some southern legislatures kick off their 2019 sessions this month, many state lawmakers are considering a new slate of bills to curb the larger affordable housing crisis. Following the launch of Eviction Lab\\'s database, local advocates intend to further raise awareness of the consequences of eviction, a process that can start with a single missed rent payment.\\nNot only do evicted people face barriers to new housing, studies suggest evictions also are linked to worse health and educational outcomes, according to research respectively from Desmond and the Urban Institute. With evictions often clustered in lower-income black neighborhoods, entire communities can face the fallout of a churn of new neighbors that severs close-knit social networks.\\nThis status quo is often protected and nurtured by politicians and property owners. Landlords in Mississippi routinely file for eviction as a legal way to collect rent, according to an investigation last year by Mississippi Today.\\nMeanwhile, some lawmakers in the Republican-controlled Georgia statehouse have stymied proposals to strengthen tenant rights.\\nFrom 2012 to 2016, Republican state Rep. Wendell Willard, then the chairman of the influential House Judiciary Committee, received at least $30,000 from various companies with ties to the housing industry, based on a Stateline review of campaign contributions. No bill to bolster tenant rights advanced out of his committee.\\nThe former chairman of the Georgia Senate Judiciary Committee, Republican Josh McKoon, didn\\'t grant a hearing to a bill that would have forced landlords to fix \"unsafe or unhealthy conditions\" in rental units such as mold growth, pest infestation and tainted water.\\nMcKoon says the committee under his leadership granted hearings to any lawmaker who requested one, but that lawmakers sometimes file legislation \"to have a broader conversation\" about an issue.\\nArmed with data and heightened public awareness, in part thanks to Desmond\\'s book Evicted released two years ago, some housing advocates are pursuing changes in law with a renewed energy to decrease evictions, increase affordable housing and reduce disparities that exist for black renters in the South.\\nWhile eviction rates have spiked in states like South Carolina, according to Eviction Lab data, Georgia and Virginia have seen their rates trend downward since the Great Recession.\\nBut if the federal government shutdown lasts much longer, housing experts fear evictions could spike nationwide because landlords who rent to low-income tenants might not be able to get rental assistance from the Department of Housing and Urban Development.\\nEvictions are the latest in a long line of housing policies that have disproportionately harmed black Americans. Over the past century, well-documented discriminatory practices like redlining, restrictive covenants and predatory lending have denied black people the opportunity to buy homes.\\nDiscouraged from homeownership — and the accompanying wealth-building benefits — many black people rented instead. In 2015, the African-American homeownership rate was about 42 percent, more than 20 points lower than the rate for all groups, according to the U.S. Census Bureau. But a 2018 study found that black people are more likely to pay higher rents than white people in the same areas.\\nAnd a Cleveland State University researcher surveying rental agreement laws found that no southern state had a suite of laws protecting tenants over landlords.\\nEvery week, attorney Jesse McCoy sees this play out inside eviction court in Durham, North Carolina. The tenants, he said, are mostly black. Many make honest pleas to a judge about their life\\'s circumstances — which almost always lack legal standing.\\nMcCoy thinks many of those same tenants would have legitimate grievances, from roach infestations to black mold, that might yield a favorable outcome. But without consulting counsel, he said, they rarely raise legal arguments.\\n\"If you don\\'t understand rights, you can\\'t advocate for yourself,\" said Sue Berkowitz, director of the SC Appleseed Legal Justice Center, an organization that helps clients in South Carolina, a state with an eviction rate of 8.9 percent, nearly four times the national average.\\nHousing attorneys throughout the South think that tenants facing an eviction case could have better outcomes in court if they were guaranteed the right to counsel — a right now ensured in select cities such as New York. Residents of Warner Robins, like the rest of Georgia, aren\\'t guaranteed this right — a factor that has contributed to the city having an eviction rate that\\'s nearly five times the national average.\\n\"An eviction — even a filing — follows you around,\" said Elora Raymond, an assistant professor of city planning and real estate development at Clemson University. \"If you get evictions filed against you in Georgia, and move to California, you still have that history.\\nVirginia Poverty Law Center attorney Christine Marra said tenants who have had rental applications denied are less likely to find safe or affordable housing.\\nIn some cases, those renters often can find housing only farther from where they lived before, potentially impacting other family issues, such as a child\\'s academic performance. And health care researchers have found that evictions are linked to higher rates of depression, stress and suicide.\\nGarland Nellom, a 51-year-old mother of three who faced eviction in New Jersey, said she moved to Georgia four years ago after her youngest son, who had asthma and an allergy to the mold she later discovered in their apartment, died. He was 11 years old. Nellom found an apartment in College Park, Georgia, for $745 a month.\\nSoon, she noticed problems including rodents and mold. She withheld her rent in protest — a practice that in some northeastern and western states can be done legally to force serious repairs from a neglectful landlord, but in Georgia can be grounds for eviction. Her landlord took legal action.\\nThey ultimately settled the dispute, thanks to a lawyer Nellom had secured through the Atlanta Volunteer Lawyers Foundation, and she stayed. This past summer she left for good upon finding exposed wire in her laundry room, which had flooded once again. Given her spotty housing record, landlords wanted her to pay a higher security deposit, which she was unable to do living on disability.\\nFaced with the scope of the eviction crisis, advocates are lobbying for changes to address housing disparities throughout the South.\\nIn North Carolina, McCoy has helped oversee Durham\\'s eviction diversion program, which pairs Duke law students with unrepresented tenants facing eviction.\\nSouth Carolina state Rep. Marvin Pendarvis, a Democrat from North Charleston, is pushing a bill to approve \"repair and deduct,\" a practice allowed in many states, in which tenants front the costs of repairs if a landlord doesn\\'t fix the issue, and deduct that amount from a future rent payment.\\nAnd in Virginia, which is home to some of the nation\\'s highest eviction rates, a coalition of lawyers, researchers and activists last year launched the Campaign to Reduce Evictions.\\nThe group has drafted more than 30 proposed changes that would make it easier for tenants to understand the court process for evictions, increase tenant legal rights trainings, pump $20 million into the state\\'s housing trust fund and expand the state\\'s low-income housing tax credit.\\nIn response to news reports about Virginia\\'s high evictions rate, National Apartment Association President Robert Pinnegar recently claimed that \"misunderstandings\" about evictions have unfairly cast landlords in a negative light.\\nHousing advocates further recognize that changes can only be effective if they also address the shortage of affordable housing affecting many southern cities.\\nSome officials have recognized the need: Atlanta Democratic Mayor Keisha Lance Bottoms has vowed to put $1 billion toward more affordable housing. But low-income housing developers say additional funds or tax credits are needed to build new units.\\nPolicies like inclusionary zoning — requiring developers to make a fixed percentage of rental units affordable in new developments — have received a mixed reception across the South.\\nShort of a universal housing voucher program, something that Desmond has called for, the Princeton professor thinks states could reduce evictions by making smaller policy changes, such as providing additional legal support, wraparound services, short-term financial assistance or better record keeping.\\nUntil tenant rights and affordable housing supplies improve, many experts say black southerners like Hicks will remain vulnerable to eviction. Hicks showed up over 30 minutes late to her Dec. 18 court date. Weary and worried, she said she experienced more traffic than usual.\\nIn a letter to the judge, Hicks explained that she hadn\\'t slept well because one of her autistic sons had tried to open the upstairs windows of their house late that night. But the judge, offering no explanation, denied Hicks\\' request to stay longer in her brick split-level.\\nAccording to court records, Hicks\\' landlord could have filed for a writ of possession immediately to regain possession of the house. So Hicks called apartment complexes and family members hours away in case she needed to relocate fast.\\nShe desperately wanted a place nearby to keep her boys in the same special-needs program at Banneker High School. But no one she called had immediate availability. She felt disheartened.\\nThe day after New Year\\'s, Hicks was finishing up packing her house, thankful the county marshals hadn\\'t yet been called to place her possessions on the curb. Her landlord had let her stay through the holidays, but wanted her out in just a few days\\' time. She didn\\'t know where her family would go next. But one thing was certain: She couldn\\'t stay there.\\nThis article first appeared in Stateline, an initiative of The Pew Charitable Trusts.<|endoftext|>After a wonderful weekend Donovan got up tired on Monday morning. He wanted to go back to sleep. A spot of muscle tension in his back just between his shoulder blades kept him awake and irritable. He had slept well, and enjoyed hanging out with his friends the last two days. Everything went well. He had been comfortable and content, so why was this ache troubling him now?\\nAs Donovan recalled his sense of fulfillment with the company he kept over the weekend he found himself experiencing a mixture of feelings. On the one hand he was thrilled that he had gone with the flow and not worried about what each person might think of him, strategizing every move twenty steps into the future. He had never felt so at ease and unselfconscious as over the last two days. The other feeling was one of trepidation, anxiety and stress. Could he trust this experience to be the way forward? Was it possible that he missed some clue or sign that would give him a warning of the dangers awaiting him when he got back in the same crowd?\\nThe feeling of trepidation was strong and stressful. As he felt it the sore spot between his shoulder blades started to throb with tension and pain. It was like a warning that he needed to be vigilant again. Donovan saw an image of himself standing up straight, eagle eyed and fully alert to his surroundings so that he knew exactly what was going on. It reminded him of how he had felt throughout his childhood up to the last few weeks.\\nThe journal Rheumatology reported in 2010 that early life stress in childhood has a \"lifelong impact\" on the neuroendocrine system which attempts to cope with chronic and persistent stress leading to chronic back pain in adulthood. As a child Donovan had to be fully responsible for himself so that he survived and could adapt to whatever came his way. Adults around him didn\\'t include him in their thoughts and actions, so he had to \\'carry\\' himself into their world by being prematurely grown up. He had to shoulder that burden of care for himself when he wasn\\'t ready, able or developed enough to do it right. He was scared of \\'missing things\\' and suffering negative consequences, like losing a chance to spend time with his father. If he had been he wouldn\\'t have had to spend hours alone in the dark waiting for his mother to pick him up from school because he would have known that she had planned but not told him that she was in the beauty parlor!\\nDonovan certainly had a lot of uncertainty leading to chronic stress as a child. His relationships were based on fear of being forgotten and uncared for. Clinical Psychiatry News, 2002 reports that adults with chronic pain like Donovan have fearful attachments, mistrust others, suffer low self-esteem, and are anxious a lot of the time.\\nDonovan\\'s upper back muscles held his head upright so he could see, hear and anticipate everything that was necessary for him to take care of himself while his parents got on with their own lives. He trusted those back and neck muscles not to let him down. He couldn\\'t afford to \\'slump over\\' and end up alone, afraid and helpless. Those muscles were his internal emotional eyes keeping him safe.\\nThose childlike vigilant eyes and ears were under stress. The emotional strain put pressure on his back and neck muscles that for so long had been his only reliable protective mechanism.\\nThings inevitably went wrong and that would scare him. Like the time a stranger\\'s dog bit him and he had to drag himself to a crabby neighbor for help. Like the time when he had no lunch money and had to eat scraps from the school cafeteria.\\nHe would dread the future, stressing about his ability to stay on top of things so that nothing bad happened. Donovan had lived with the stress of having to care for himself without ever having the experience of the pure joy of connection, of being himself and getting lost in the moment.\\nNow for the first time in his life he felt good with people. He began to trust that they liked him and he could relax his vigilance. He had worked hard to get to this point in his therapy and was beginning to reap the rewards. The nagging stress related ache in between his shoulder blades was the fly in the ointment.\\nThe old fear of being alone and uncared for returned in the form of the stressful back muscle ache. Donovan\\'s muscle ache made him question his ability to stay safe if he let down his guard. Familiar relationship stress washed over him, depriving him of sleep and making him exhausted.\\nHow can Donovan deal with his muscle ache echoing his past and stay in the present?\\nDonovan can tune into the evidence of the present rather than the fear of the past. He can do a mental check to calculate how many times if at all any of his close friends abandoned him, lied to him or forgot about him. As he does so, he will feel more secure and his stress levels will decrease.\\nDonovan can trust in his ability to tell the difference between his need to safeguard himself from irresponsible adults in his childhood and the reliable friends he has now. Relationship stress will be reduced and his aches will lessen.\\nDonovan can allow himself to relax his future based thinking that causes relationship stress by staying in the comfort and security of his genuinely warm friends in the present, eliminating the need for his back muscles to hold him up and keep him safe.\\nDisclaimer: this article is for informational and educational purposes only. Dr. Raymond is not responsible for any emotional reactions you may have after reading the article or using any of the suggestions contained within it. Interaction with this article does not constitute a therapeutic relationship with Dr. Raymond.<|endoftext|>\\'use strict\\';\\n\\nfunction define(name, value) {\\n    Object.defineProperty(exports, name, {\\n        value: value,\\n        enumerable: true\\n    });\\n}\\n\\ndefine(\"parseErrorMsg\", \"Could not decode request: JSON parsing failed\");<|endoftext|>UncleBob\\'s Treehouse\\nBob Wallace on Lots of Stuff\\nThe Curve of Binding Energy\\nThe Curve of Binding Energy is the name of a book by John McPhee, that was assigned to me in a college journalism class. It was the first time I had heard about Project Orion.\\n\"Project Orion was a study of a spacecraft intended to be directly propelled by a series of explosions of atomic bombs behind the craft (nuclear pulse propulsion). Early versions of this vehicle were proposed to take off from the ground with significant associated nuclear fallout; later versions were presented for use only in space.\\n\"A 1955 Los Alamos Laboratory document states (without offering references) that general proposals were first made by Stanislaw Ulam in 1946, and that preliminary calculations were made by F. Reines and Ulam in a Los Alamos memorandum dated 1947. The actual project, initiated in 1958, was led by Ted Taylor at General Atomics and physicist Freeman Dyson, who at Taylor\\'s request took a year away from the Institute for Advanced Study in Princeton to work on the project.\\n\"The Orion concept offered high thrust and high specific impulse, or propellant efficiency, at the same time. The unprecedented extreme power requirements for doing so would be met by nuclear explosions, of such power relative to the vehicle\\'s mass as to be survived only by using external detonations without attempting to contain them in internal structures. As a qualitative comparison, traditional chemical rockets—such as the Saturn V that took the Apollo program to the Moon—produce high thrust with low specific impulse, whereas electric ion engines produce a small amount of thrust very efficiently. Orion would have offered performance greater than the most advanced conventional or nuclear rocket engines then under consideration. Supporters of Project Orion felt that it had potential for cheap interplanetary travel, but it lost political approval over concerns with fallout from its propulsion.\\n\"The Partial Test Ban Treaty of 1963 is generally acknowledged to have ended the project. However, from Project Longshot to Project Daedalus, Mini-Mag Orion, and other proposals which reach engineering analysis at the level of considering thermal power dissipation, the principle of external nuclear pulse propulsion to maximize survivable power has remained common among serious concepts for interstellar flight without external power beaming and for very high-performance interplanetary flight. Such later proposals have tended to modify the basic principle by envisioning equipment driving detonation of much smaller fission or fusion pellets, although in contrast Project Orion\\'s larger nuclear pulse units (nuclear bombs) were based on less speculative technology.\"\\nIn other words, atomic bombs were dropped though a hole in the bottom of the craft, exploded, the explosion pressed against a pusher-plate, the craft went up, another was dropped, and so on (the Coke company was consulted on how to drop cans though a hole).\\nWeight was not a problem. Basically the material for entire cities could have been lofted into orbit.\\nInstead, we went the wrong way, putting tiny little payloads into orbit with wasteful, gigantic liquid-fueled rockets.\\nThere'"
      ]
     },
     "execution_count": 27,
     "metadata": {},
     "output_type": "execute_result"
    }
   ],
   "source": [
    "enc.decode(decoding_toks[:10000].tolist())"
   ]
  },
  {
   "cell_type": "code",
   "execution_count": null,
   "id": "95a69386-4cd3-4dcb-82b5-0cb823f67ebc",
   "metadata": {},
   "outputs": [],
   "source": []
  }
 ],
 "metadata": {
  "kernelspec": {
   "display_name": "Python 3 (ipykernel)",
   "language": "python",
   "name": "python3"
  },
  "language_info": {
   "codemirror_mode": {
    "name": "ipython",
    "version": 3
   },
   "file_extension": ".py",
   "mimetype": "text/x-python",
   "name": "python",
   "nbconvert_exporter": "python",
   "pygments_lexer": "ipython3",
   "version": "3.12.0"
  }
 },
 "nbformat": 4,
 "nbformat_minor": 5
}
