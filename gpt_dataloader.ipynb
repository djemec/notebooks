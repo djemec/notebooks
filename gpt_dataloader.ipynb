{
 "cells": [
  {
   "cell_type": "markdown",
   "id": "29d74ebc-4ac8-4da5-8e15-025b93d29940",
   "metadata": {},
   "source": [
    "### Download, tokenize, and split datasets\n",
    "\n",
    "\n",
    "1. Fineweb - https://huggingface.co/datasets/HuggingFaceFW/fineweb-edu\n",
    "2. "
   ]
  },
  {
   "cell_type": "code",
   "execution_count": null,
   "id": "4082e551-d663-4378-aafa-ae845148dfc6",
   "metadata": {},
   "outputs": [],
   "source": []
  },
  {
   "cell_type": "code",
   "execution_count": null,
   "id": "f8358777-a66b-4ff3-8f1d-1c13c2dd1ed2",
   "metadata": {},
   "outputs": [],
   "source": []
  }
 ],
 "metadata": {
  "kernelspec": {
   "display_name": "Python 3 (ipykernel)",
   "language": "python",
   "name": "python3"
  },
  "language_info": {
   "codemirror_mode": {
    "name": "ipython",
    "version": 3
   },
   "file_extension": ".py",
   "mimetype": "text/x-python",
   "name": "python",
   "nbconvert_exporter": "python",
   "pygments_lexer": "ipython3",
   "version": "3.12.0"
  }
 },
 "nbformat": 4,
 "nbformat_minor": 5
}
