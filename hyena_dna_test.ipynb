{
 "cells": [
  {
   "cell_type": "code",
   "execution_count": 1,
   "id": "6186c6c1-c25e-4894-9348-a573c23c1dc3",
   "metadata": {},
   "outputs": [],
   "source": [
    "import json\n",
    "import os\n",
    "import subprocess\n",
    "import torch\n",
    "# import transformers\n",
    "from transformers import PreTrainedModel\n",
    "import re\n",
    "from standalone_hyenadna import HyenaDNAModel\n",
    "from standalone_hyenadna import CharacterTokenizer\n"
   ]
  },
  {
   "cell_type": "code",
   "execution_count": 2,
   "id": "ab1d5977-570e-4d15-a8da-43aeb9a0cd8e",
   "metadata": {},
   "outputs": [],
   "source": [
    "# helper 1\n",
    "def inject_substring(orig_str):\n",
    "    \"\"\"Hack to handle matching keys between models trained with and without\n",
    "    gradient checkpointing.\"\"\"\n",
    "\n",
    "    # modify for mixer keys\n",
    "    pattern = r\"\\.mixer\"\n",
    "    injection = \".mixer.layer\"\n",
    "\n",
    "    modified_string = re.sub(pattern, injection, orig_str)\n",
    "\n",
    "    # modify for mlp keys\n",
    "    pattern = r\"\\.mlp\"\n",
    "    injection = \".mlp.layer\"\n",
    "\n",
    "    modified_string = re.sub(pattern, injection, modified_string)\n",
    "\n",
    "    return modified_string\n",
    "\n",
    "# helper 2\n",
    "def load_weights(scratch_dict, pretrained_dict, checkpointing=False):\n",
    "    \"\"\"Loads pretrained (backbone only) weights into the scratch state dict.\"\"\"\n",
    "\n",
    "    # loop thru state dict of scratch\n",
    "    # find the corresponding weights in the loaded model, and set it\n",
    "\n",
    "    # need to do some state dict \"surgery\"\n",
    "    for key, value in scratch_dict.items():\n",
    "        if 'backbone' in key:\n",
    "            # the state dicts differ by one prefix, '.model', so we add that\n",
    "            key_loaded = 'model.' + key\n",
    "            # breakpoint()\n",
    "            # need to add an extra \".layer\" in key\n",
    "            if checkpointing:\n",
    "                key_loaded = inject_substring(key_loaded)\n",
    "            try:\n",
    "                scratch_dict[key] = pretrained_dict[key_loaded]\n",
    "            except:\n",
    "                raise Exception('key mismatch in the state dicts!')\n",
    "\n",
    "    # scratch_dict has been updated\n",
    "    return scratch_dict\n"
   ]
  },
  {
   "cell_type": "code",
   "execution_count": 3,
   "id": "99f1d5f3-a952-409f-950e-a759e995fdfa",
   "metadata": {},
   "outputs": [],
   "source": [
    "class HyenaDNAPreTrainedModel(PreTrainedModel):\n",
    "    \"\"\"\n",
    "    An abstract class to handle weights initialization and a simple interface for downloading and loading pretrained\n",
    "    models.\n",
    "    \"\"\"\n",
    "    base_model_prefix = \"hyenadna\"\n",
    "\n",
    "    def __init__(self, config):\n",
    "        pass\n",
    "\n",
    "    def forward(self, input_ids, **kwargs):\n",
    "        return self.model(input_ids, **kwargs)\n",
    "\n",
    "    @classmethod\n",
    "    def from_pretrained(cls,\n",
    "                        path,\n",
    "                        model_name,\n",
    "                        download=False,\n",
    "                        config=None,\n",
    "                        device='cpu',\n",
    "                        use_head=False,\n",
    "                        n_classes=2,\n",
    "                      ):\n",
    "        # first check if it is a local path\n",
    "        pretrained_model_name_or_path = os.path.join(path, model_name)\n",
    "        if os.path.isdir(pretrained_model_name_or_path) and download == False:\n",
    "            if config is None:\n",
    "                config = json.load(open(os.path.join(pretrained_model_name_or_path, 'config.json')))\n",
    "        else:\n",
    "            hf_url = f'https://huggingface.co/LongSafari/{model_name}'\n",
    "\n",
    "            subprocess.run(f'rm -rf {pretrained_model_name_or_path}', shell=True)\n",
    "            command = f'mkdir -p {path} && cd {path} && git lfs install && git clone {hf_url}'\n",
    "            subprocess.run(command, shell=True)\n",
    "\n",
    "            if config is None:\n",
    "                config = json.load(open(os.path.join(pretrained_model_name_or_path, 'config.json')))\n",
    "\n",
    "        scratch_model = HyenaDNAModel(**config, use_head=use_head, n_classes=n_classes)  # the new model format\n",
    "        loaded_ckpt = torch.load(\n",
    "            os.path.join(pretrained_model_name_or_path, 'weights.ckpt'),\n",
    "            map_location=torch.device(device)\n",
    "        )\n",
    "\n",
    "        # need to load weights slightly different if using gradient checkpointing\n",
    "        if config.get(\"checkpoint_mixer\", False):\n",
    "            checkpointing = config[\"checkpoint_mixer\"] == True or config[\"checkpoint_mixer\"] == True\n",
    "        else:\n",
    "            checkpointing = False\n",
    "\n",
    "        # grab state dict from both and load weights\n",
    "        state_dict = load_weights(scratch_model.state_dict(), loaded_ckpt['state_dict'], checkpointing=checkpointing)\n",
    "\n",
    "        # scratch model has now been updated\n",
    "        scratch_model.load_state_dict(state_dict)\n",
    "        print(\"Loaded pretrained weights ok!\")\n",
    "        return scratch_model"
   ]
  },
  {
   "cell_type": "markdown",
   "id": "e59db40c-40c0-4f0d-9463-7fe4d4ab65ac",
   "metadata": {},
   "source": [
    "# Inference (450k to 1M tokens)!\n",
    "\n",
    "If all you're interested in is getting embeddings on long DNA sequences\n",
    "(inference), then we can do that right here in Colab!\n",
    "\n",
    "[source](https://github.com/HazyResearch/hyena-dna/blob/main/huggingface.py)"
   ]
  },
  {
   "cell_type": "code",
   "execution_count": 4,
   "id": "15de1ea8-c58a-4993-8ea4-16e5617ae9bc",
   "metadata": {},
   "outputs": [],
   "source": [
    "import json\n",
    "import os\n",
    "import subprocess\n",
    "# import transformers\n",
    "from transformers import PreTrainedModel"
   ]
  },
  {
   "cell_type": "code",
   "execution_count": 5,
   "id": "226541c7-1c68-4f00-a177-0bcfe0a8c06c",
   "metadata": {},
   "outputs": [],
   "source": [
    "'''\n",
    "this selects which backbone to use, and grabs weights/ config from HF\n",
    "4 options:\n",
    "  'hyenadna-tiny-1k-seqlen'   # fine-tune on colab ok\n",
    "  'hyenadna-small-32k-seqlen'\n",
    "  'hyenadna-medium-160k-seqlen'  # inference only on colab\n",
    "  'hyenadna-medium-450k-seqlen'  # inference only on colab\n",
    "  'hyenadna-large-1m-seqlen'  # inference only on colab\n",
    "'''\n",
    "\n",
    "# you only need to select which model to use here, we'll do the rest!\n",
    "pretrained_model_name = 'hyenadna-small-32k-seqlen'\n",
    "\n",
    "max_lengths = {\n",
    "    'hyenadna-tiny-1k-seqlen': 1024,\n",
    "    'hyenadna-small-32k-seqlen': 32768,\n",
    "    'hyenadna-medium-160k-seqlen': 160000,\n",
    "    'hyenadna-medium-450k-seqlen': 450000,  # T4 up to here\n",
    "    'hyenadna-large-1m-seqlen': 1_000_000,  # only A100 (paid tier)\n",
    "}\n",
    "\n",
    "max_length = max_lengths[pretrained_model_name]  # auto selects"
   ]
  },
  {
   "cell_type": "code",
   "execution_count": 6,
   "id": "202d380a-54e8-42bf-8d9b-a61ca001ca62",
   "metadata": {},
   "outputs": [
    {
     "name": "stdout",
     "output_type": "stream",
     "text": [
      "Using device: cpu\n"
     ]
    }
   ],
   "source": [
    "## Configs\n",
    "\n",
    "# data settings:\n",
    "use_padding = True\n",
    "rc_aug = False  # reverse complement augmentation\n",
    "add_eos = False  # add end of sentence token\n",
    "\n",
    "# we need these for the decoder head, if using\n",
    "use_head = False\n",
    "n_classes = 2  # not used for embeddings only\n",
    "\n",
    "# you can override with your own backbone config here if you want,\n",
    "# otherwise we'll load the HF one in None\n",
    "backbone_cfg = None\n",
    "\n",
    "device = 'cuda' if torch.cuda.is_available() else 'cpu'\n",
    "print(\"Using device:\", device)"
   ]
  },
  {
   "cell_type": "markdown",
   "id": "e8dc00d1-96b3-4ef6-95a8-abf050755439",
   "metadata": {},
   "source": [
    "### Load Model"
   ]
  },
  {
   "cell_type": "code",
   "execution_count": 7,
   "id": "a73ef398-d533-468d-a974-e0da91d1cbb9",
   "metadata": {},
   "outputs": [
    {
     "name": "stdout",
     "output_type": "stream",
     "text": [
      "Updated Git hooks.\n",
      "Git LFS initialized.\n"
     ]
    },
    {
     "name": "stderr",
     "output_type": "stream",
     "text": [
      "Cloning into 'hyenadna-small-32k-seqlen'...\n"
     ]
    },
    {
     "name": "stdout",
     "output_type": "stream",
     "text": [
      "Loaded pretrained weights ok!\n"
     ]
    }
   ],
   "source": [
    "model = HyenaDNAPreTrainedModel.from_pretrained(\n",
    "    './checkpoints',\n",
    "    pretrained_model_name,\n",
    "    download=True,\n",
    "    config=backbone_cfg,\n",
    "    device=device,\n",
    "    use_head=use_head,\n",
    "    n_classes=n_classes,\n",
    ")\n"
   ]
  },
  {
   "cell_type": "markdown",
   "id": "73b913e2-06cc-44ff-9f14-071c1895f43b",
   "metadata": {},
   "source": [
    "### Load Tokenizer"
   ]
  },
  {
   "cell_type": "code",
   "execution_count": 8,
   "id": "65cea102-cd8c-45cc-917d-7a6f16b8854a",
   "metadata": {},
   "outputs": [],
   "source": [
    "# create tokenizer\n",
    "tokenizer = CharacterTokenizer(\n",
    "    characters=['A', 'C', 'G', 'T', 'N'],  # add DNA characters\n",
    "    model_max_length=max_length,\n",
    ")"
   ]
  },
  {
   "cell_type": "markdown",
   "id": "8f32c0e3-d9c4-4129-a241-982965b56e30",
   "metadata": {},
   "source": [
    "### Load Data"
   ]
  },
  {
   "cell_type": "code",
   "execution_count": 41,
   "id": "fe4e131e-8a45-4c10-97be-bd5ad306d67b",
   "metadata": {},
   "outputs": [],
   "source": [
    "import pandas as pd\n",
    "from tqdm.auto import tqdm\n",
    "from torch.utils.data import DataLoader, TensorDataset"
   ]
  },
  {
   "cell_type": "code",
   "execution_count": 38,
   "id": "2ef86227-e539-4946-834c-e0f545c3296a",
   "metadata": {},
   "outputs": [],
   "source": [
    "data_path = '/Users/djemec/data/mammal_ref/ref_genome/'\n",
    "example_ref = data_path + 'GCF_017591425.1_NIBS_Ocur_1.0_genomic.fna.gz'\n",
    "\n",
    "out_path = '/Users/djemec/data/gptomics/mam_predict/'\n",
    "raw_examples = out_path + 'raw_examples/'\n",
    "bpe_path = out_path + 'bpe_mammal/'"
   ]
  },
  {
   "cell_type": "code",
   "execution_count": 11,
   "id": "de382d4b-2f92-44ed-9f07-0394628f269b",
   "metadata": {},
   "outputs": [],
   "source": [
    "def str_from_file(file_path):\n",
    "    with open(file_path, 'r', encoding='utf-8') as file:  # Open the file\n",
    "        data = file.read()  # Read all the contents into a string\n",
    "    return data.strip().replace('\\n','')\n",
    "\n",
    "def load_csvs_from_folder(folder_path):\n",
    "    all_files = [os.path.join(folder_path, file) for file in os.listdir(folder_path) if file.endswith('.csv')]\n",
    "    df_list = [pd.read_csv(file) for file in all_files]\n",
    "    combined_df = pd.concat(df_list, ignore_index=True)\n",
    "    return combined_df"
   ]
  },
  {
   "cell_type": "code",
   "execution_count": 20,
   "id": "f6f7d704-9763-4c37-aebf-dbf0c65cb60e",
   "metadata": {},
   "outputs": [
    {
     "name": "stdout",
     "output_type": "stream",
     "text": [
      "number of examples 170446\n"
     ]
    },
    {
     "data": {
      "text/html": [
       "<div>\n",
       "<style scoped>\n",
       "    .dataframe tbody tr th:only-of-type {\n",
       "        vertical-align: middle;\n",
       "    }\n",
       "\n",
       "    .dataframe tbody tr th {\n",
       "        vertical-align: top;\n",
       "    }\n",
       "\n",
       "    .dataframe thead th {\n",
       "        text-align: right;\n",
       "    }\n",
       "</style>\n",
       "<table border=\"1\" class=\"dataframe\">\n",
       "  <thead>\n",
       "    <tr style=\"text-align: right;\">\n",
       "      <th></th>\n",
       "      <th>filename</th>\n",
       "      <th>section</th>\n",
       "      <th>example</th>\n",
       "      <th>n_per</th>\n",
       "    </tr>\n",
       "  </thead>\n",
       "  <tbody>\n",
       "    <tr>\n",
       "      <th>0</th>\n",
       "      <td>GCF_900094665.2_CAROLI_EIJ_v1.1_genomic.fna.gz</td>\n",
       "      <td>&gt;NC_034570.1 Mus caroli chromosome 1, CAROLI_E...</td>\n",
       "      <td>TGGAAATGACAATTTTCTGGGGTTTAATAATTTAAAGTAAGTTTTA...</td>\n",
       "      <td>0.0000</td>\n",
       "    </tr>\n",
       "    <tr>\n",
       "      <th>1</th>\n",
       "      <td>GCF_900094665.2_CAROLI_EIJ_v1.1_genomic.fna.gz</td>\n",
       "      <td>&gt;NC_034570.1 Mus caroli chromosome 1, CAROLI_E...</td>\n",
       "      <td>GTGTGCACCAGCATAACTGGCTAAAAGTCTTCTGGGATGCAGATGC...</td>\n",
       "      <td>0.0000</td>\n",
       "    </tr>\n",
       "    <tr>\n",
       "      <th>2</th>\n",
       "      <td>GCF_900094665.2_CAROLI_EIJ_v1.1_genomic.fna.gz</td>\n",
       "      <td>&gt;NC_034570.1 Mus caroli chromosome 1, CAROLI_E...</td>\n",
       "      <td>ttgctttttttctttctttctactttattttgagaaaaagcCCAGT...</td>\n",
       "      <td>0.0000</td>\n",
       "    </tr>\n",
       "    <tr>\n",
       "      <th>3</th>\n",
       "      <td>GCF_900094665.2_CAROLI_EIJ_v1.1_genomic.fna.gz</td>\n",
       "      <td>&gt;NC_034570.1 Mus caroli chromosome 1, CAROLI_E...</td>\n",
       "      <td>CACACTAAAGATGCTCAAGCTAGCCACACTCTATAACATACTCTGT...</td>\n",
       "      <td>0.0375</td>\n",
       "    </tr>\n",
       "    <tr>\n",
       "      <th>4</th>\n",
       "      <td>GCF_900094665.2_CAROLI_EIJ_v1.1_genomic.fna.gz</td>\n",
       "      <td>&gt;NC_034570.1 Mus caroli chromosome 1, CAROLI_E...</td>\n",
       "      <td>GAAAAGTTCCAGTTCTTAAGCAGATTTTTGATCAATCAATCTAAAC...</td>\n",
       "      <td>0.0000</td>\n",
       "    </tr>\n",
       "  </tbody>\n",
       "</table>\n",
       "</div>"
      ],
      "text/plain": [
       "                                         filename  \\\n",
       "0  GCF_900094665.2_CAROLI_EIJ_v1.1_genomic.fna.gz   \n",
       "1  GCF_900094665.2_CAROLI_EIJ_v1.1_genomic.fna.gz   \n",
       "2  GCF_900094665.2_CAROLI_EIJ_v1.1_genomic.fna.gz   \n",
       "3  GCF_900094665.2_CAROLI_EIJ_v1.1_genomic.fna.gz   \n",
       "4  GCF_900094665.2_CAROLI_EIJ_v1.1_genomic.fna.gz   \n",
       "\n",
       "                                             section  \\\n",
       "0  >NC_034570.1 Mus caroli chromosome 1, CAROLI_E...   \n",
       "1  >NC_034570.1 Mus caroli chromosome 1, CAROLI_E...   \n",
       "2  >NC_034570.1 Mus caroli chromosome 1, CAROLI_E...   \n",
       "3  >NC_034570.1 Mus caroli chromosome 1, CAROLI_E...   \n",
       "4  >NC_034570.1 Mus caroli chromosome 1, CAROLI_E...   \n",
       "\n",
       "                                             example   n_per  \n",
       "0  TGGAAATGACAATTTTCTGGGGTTTAATAATTTAAAGTAAGTTTTA...  0.0000  \n",
       "1  GTGTGCACCAGCATAACTGGCTAAAAGTCTTCTGGGATGCAGATGC...  0.0000  \n",
       "2  ttgctttttttctttctttctactttattttgagaaaaagcCCAGT...  0.0000  \n",
       "3  CACACTAAAGATGCTCAAGCTAGCCACACTCTATAACATACTCTGT...  0.0375  \n",
       "4  GAAAAGTTCCAGTTCTTAAGCAGATTTTTGATCAATCAATCTAAAC...  0.0000  "
      ]
     },
     "execution_count": 20,
     "metadata": {},
     "output_type": "execute_result"
    }
   ],
   "source": [
    "mam_df = load_csvs_from_folder(raw_examples)\n",
    "\n",
    "print(f'number of examples {len(mam_df)}')\n",
    "mam_df.head()"
   ]
  },
  {
   "cell_type": "code",
   "execution_count": 21,
   "id": "52171677-d202-43e8-8ca2-018147056527",
   "metadata": {},
   "outputs": [
    {
     "data": {
      "text/html": [
       "<div>\n",
       "<style scoped>\n",
       "    .dataframe tbody tr th:only-of-type {\n",
       "        vertical-align: middle;\n",
       "    }\n",
       "\n",
       "    .dataframe tbody tr th {\n",
       "        vertical-align: top;\n",
       "    }\n",
       "\n",
       "    .dataframe thead th {\n",
       "        text-align: right;\n",
       "    }\n",
       "</style>\n",
       "<table border=\"1\" class=\"dataframe\">\n",
       "  <thead>\n",
       "    <tr style=\"text-align: right;\">\n",
       "      <th></th>\n",
       "      <th>filename</th>\n",
       "      <th>section</th>\n",
       "      <th>example</th>\n",
       "      <th>n_per</th>\n",
       "      <th>species</th>\n",
       "      <th>contig</th>\n",
       "    </tr>\n",
       "  </thead>\n",
       "  <tbody>\n",
       "    <tr>\n",
       "      <th>0</th>\n",
       "      <td>GCF_900094665.2_CAROLI_EIJ_v1.1_genomic.fna.gz</td>\n",
       "      <td>&gt;NC_034570.1 Mus caroli chromosome 1, CAROLI_E...</td>\n",
       "      <td>TGGAAATGACAATTTTCTGGGGTTTAATAATTTAAAGTAAGTTTTA...</td>\n",
       "      <td>0.0000</td>\n",
       "      <td>CAROLI EIJ v1.1</td>\n",
       "      <td>chromosome 1</td>\n",
       "    </tr>\n",
       "    <tr>\n",
       "      <th>1</th>\n",
       "      <td>GCF_900094665.2_CAROLI_EIJ_v1.1_genomic.fna.gz</td>\n",
       "      <td>&gt;NC_034570.1 Mus caroli chromosome 1, CAROLI_E...</td>\n",
       "      <td>GTGTGCACCAGCATAACTGGCTAAAAGTCTTCTGGGATGCAGATGC...</td>\n",
       "      <td>0.0000</td>\n",
       "      <td>CAROLI EIJ v1.1</td>\n",
       "      <td>chromosome 1</td>\n",
       "    </tr>\n",
       "    <tr>\n",
       "      <th>2</th>\n",
       "      <td>GCF_900094665.2_CAROLI_EIJ_v1.1_genomic.fna.gz</td>\n",
       "      <td>&gt;NC_034570.1 Mus caroli chromosome 1, CAROLI_E...</td>\n",
       "      <td>ttgctttttttctttctttctactttattttgagaaaaagcCCAGT...</td>\n",
       "      <td>0.0000</td>\n",
       "      <td>CAROLI EIJ v1.1</td>\n",
       "      <td>chromosome 1</td>\n",
       "    </tr>\n",
       "    <tr>\n",
       "      <th>3</th>\n",
       "      <td>GCF_900094665.2_CAROLI_EIJ_v1.1_genomic.fna.gz</td>\n",
       "      <td>&gt;NC_034570.1 Mus caroli chromosome 1, CAROLI_E...</td>\n",
       "      <td>CACACTAAAGATGCTCAAGCTAGCCACACTCTATAACATACTCTGT...</td>\n",
       "      <td>0.0375</td>\n",
       "      <td>CAROLI EIJ v1.1</td>\n",
       "      <td>chromosome 1</td>\n",
       "    </tr>\n",
       "    <tr>\n",
       "      <th>4</th>\n",
       "      <td>GCF_900094665.2_CAROLI_EIJ_v1.1_genomic.fna.gz</td>\n",
       "      <td>&gt;NC_034570.1 Mus caroli chromosome 1, CAROLI_E...</td>\n",
       "      <td>GAAAAGTTCCAGTTCTTAAGCAGATTTTTGATCAATCAATCTAAAC...</td>\n",
       "      <td>0.0000</td>\n",
       "      <td>CAROLI EIJ v1.1</td>\n",
       "      <td>chromosome 1</td>\n",
       "    </tr>\n",
       "  </tbody>\n",
       "</table>\n",
       "</div>"
      ],
      "text/plain": [
       "                                         filename  \\\n",
       "0  GCF_900094665.2_CAROLI_EIJ_v1.1_genomic.fna.gz   \n",
       "1  GCF_900094665.2_CAROLI_EIJ_v1.1_genomic.fna.gz   \n",
       "2  GCF_900094665.2_CAROLI_EIJ_v1.1_genomic.fna.gz   \n",
       "3  GCF_900094665.2_CAROLI_EIJ_v1.1_genomic.fna.gz   \n",
       "4  GCF_900094665.2_CAROLI_EIJ_v1.1_genomic.fna.gz   \n",
       "\n",
       "                                             section  \\\n",
       "0  >NC_034570.1 Mus caroli chromosome 1, CAROLI_E...   \n",
       "1  >NC_034570.1 Mus caroli chromosome 1, CAROLI_E...   \n",
       "2  >NC_034570.1 Mus caroli chromosome 1, CAROLI_E...   \n",
       "3  >NC_034570.1 Mus caroli chromosome 1, CAROLI_E...   \n",
       "4  >NC_034570.1 Mus caroli chromosome 1, CAROLI_E...   \n",
       "\n",
       "                                             example   n_per          species  \\\n",
       "0  TGGAAATGACAATTTTCTGGGGTTTAATAATTTAAAGTAAGTTTTA...  0.0000  CAROLI EIJ v1.1   \n",
       "1  GTGTGCACCAGCATAACTGGCTAAAAGTCTTCTGGGATGCAGATGC...  0.0000  CAROLI EIJ v1.1   \n",
       "2  ttgctttttttctttctttctactttattttgagaaaaagcCCAGT...  0.0000  CAROLI EIJ v1.1   \n",
       "3  CACACTAAAGATGCTCAAGCTAGCCACACTCTATAACATACTCTGT...  0.0375  CAROLI EIJ v1.1   \n",
       "4  GAAAAGTTCCAGTTCTTAAGCAGATTTTTGATCAATCAATCTAAAC...  0.0000  CAROLI EIJ v1.1   \n",
       "\n",
       "         contig  \n",
       "0  chromosome 1  \n",
       "1  chromosome 1  \n",
       "2  chromosome 1  \n",
       "3  chromosome 1  \n",
       "4  chromosome 1  "
      ]
     },
     "execution_count": 21,
     "metadata": {},
     "output_type": "execute_result"
    }
   ],
   "source": [
    "def extract_species(string):\n",
    "    spec = string\n",
    "    # remove GCF prefix\n",
    "    spec = re.sub(r'GCF_\\d+\\.\\d+_', '', spec)\n",
    "    # remove suffix\n",
    "    spec = re.sub(r'.fna.gz', '', spec)\n",
    "    spec = re.sub(r'_genomic', '', spec)\n",
    "    spec = re.sub(r'_genome_assembly', '', spec)\n",
    "\n",
    "    #readability\n",
    "    spec = re.sub(r'_', ' ', spec)\n",
    "    spec = re.sub(r'-', ' ', spec)\n",
    "\n",
    "    return spec\n",
    "\n",
    "mam_df['species'] = mam_df.filename.apply(extract_species)\n",
    "\n",
    "def extract_contig(string):\n",
    "    #by string \n",
    "    match = re.search(r'(chromosome|chr)\\s([a-zA-Z0-9]+),', string, re.IGNORECASE)\n",
    "    if match:\n",
    "        return match.group(0)[:-1]\n",
    "    \n",
    "    base = string.split(',')[1].strip()\n",
    "    if base == 'complete genome':\n",
    "        return 'complete genome'\n",
    "    base = string.split(',')[1].strip().split(' ')\n",
    "    if len(base) >= 2:\n",
    "        return str(base[1])\n",
    "    else:\n",
    "        return ''\n",
    "\n",
    "mam_df['contig'] = mam_df.section.apply(lambda i: extract_contig(i))\n",
    "\n",
    "\n",
    "mam_df.head()"
   ]
  },
  {
   "cell_type": "code",
   "execution_count": 22,
   "id": "48730668-d672-4cf6-8832-9a94adee6d5f",
   "metadata": {},
   "outputs": [
    {
     "name": "stdout",
     "output_type": "stream",
     "text": [
      "Dropping 4516 rows for having N content over 0.05.\n"
     ]
    },
    {
     "data": {
      "text/html": [
       "<div>\n",
       "<style scoped>\n",
       "    .dataframe tbody tr th:only-of-type {\n",
       "        vertical-align: middle;\n",
       "    }\n",
       "\n",
       "    .dataframe tbody tr th {\n",
       "        vertical-align: top;\n",
       "    }\n",
       "\n",
       "    .dataframe thead th {\n",
       "        text-align: right;\n",
       "    }\n",
       "</style>\n",
       "<table border=\"1\" class=\"dataframe\">\n",
       "  <thead>\n",
       "    <tr style=\"text-align: right;\">\n",
       "      <th></th>\n",
       "      <th>labels_raw</th>\n",
       "      <th>sequence</th>\n",
       "    </tr>\n",
       "  </thead>\n",
       "  <tbody>\n",
       "    <tr>\n",
       "      <th>0</th>\n",
       "      <td>CAROLI EIJ v1.1</td>\n",
       "      <td>TGGAAATGACAATTTTCTGGGGTTTAATAATTTAAAGTAAGTTTTA...</td>\n",
       "    </tr>\n",
       "    <tr>\n",
       "      <th>1</th>\n",
       "      <td>CAROLI EIJ v1.1</td>\n",
       "      <td>GTGTGCACCAGCATAACTGGCTAAAAGTCTTCTGGGATGCAGATGC...</td>\n",
       "    </tr>\n",
       "    <tr>\n",
       "      <th>2</th>\n",
       "      <td>CAROLI EIJ v1.1</td>\n",
       "      <td>ttgctttttttctttctttctactttattttgagaaaaagcCCAGT...</td>\n",
       "    </tr>\n",
       "    <tr>\n",
       "      <th>3</th>\n",
       "      <td>CAROLI EIJ v1.1</td>\n",
       "      <td>CACACTAAAGATGCTCAAGCTAGCCACACTCTATAACATACTCTGT...</td>\n",
       "    </tr>\n",
       "    <tr>\n",
       "      <th>4</th>\n",
       "      <td>CAROLI EIJ v1.1</td>\n",
       "      <td>GAAAAGTTCCAGTTCTTAAGCAGATTTTTGATCAATCAATCTAAAC...</td>\n",
       "    </tr>\n",
       "  </tbody>\n",
       "</table>\n",
       "</div>"
      ],
      "text/plain": [
       "        labels_raw                                           sequence\n",
       "0  CAROLI EIJ v1.1  TGGAAATGACAATTTTCTGGGGTTTAATAATTTAAAGTAAGTTTTA...\n",
       "1  CAROLI EIJ v1.1  GTGTGCACCAGCATAACTGGCTAAAAGTCTTCTGGGATGCAGATGC...\n",
       "2  CAROLI EIJ v1.1  ttgctttttttctttctttctactttattttgagaaaaagcCCAGT...\n",
       "3  CAROLI EIJ v1.1  CACACTAAAGATGCTCAAGCTAGCCACACTCTATAACATACTCTGT...\n",
       "4  CAROLI EIJ v1.1  GAAAAGTTCCAGTTCTTAAGCAGATTTTTGATCAATCAATCTAAAC..."
      ]
     },
     "execution_count": 22,
     "metadata": {},
     "output_type": "execute_result"
    }
   ],
   "source": [
    "n_per_threshold = 0.050\n",
    "print(f'Dropping {len(mam_df[mam_df.n_per >= n_per_threshold])} rows for having N content over {n_per_threshold}.')\n",
    "\n",
    "# drop rows and only copy two over\n",
    "ex_df = mam_df[mam_df.n_per < n_per_threshold][['species','example']].copy()\n",
    "\n",
    "# drop mam_df from memory\n",
    "del mam_df\n",
    "\n",
    "# cleanup the example column\n",
    "ex_df['example'] = ex_df.example.str.strip()\n",
    "\n",
    "# rename columns\n",
    "ex_df.columns = ['labels_raw','sequence']\n",
    "\n",
    "ex_df.head()"
   ]
  },
  {
   "cell_type": "code",
   "execution_count": 23,
   "id": "06e2ed3e-28b4-4af4-85aa-bf539f694f29",
   "metadata": {},
   "outputs": [
    {
     "name": "stdout",
     "output_type": "stream",
     "text": [
      "{'Asia NLE v1': 0, 'CAROLI EIJ v1.1': 1, 'GRCh38.p14': 2, 'GRCm39': 3, 'HMol V2': 4, 'Kamilah GGO v0': 5, 'Mhudiblu PPA v0': 6, 'NHGRI mPanTro3 v1.1 hic.freeze pri': 7, 'NHGRI mPonAbe1 v1.1 hic.freeze pri': 8, 'NHGRI mPonPyg2 v1.1 hic.freeze pri': 9, 'NIBS Ocur 1.0': 10, 'PAHARI EIJ v1.1': 11, 'Rrattus CSIRO v1': 12, 'mRatBN7.2': 13}\n"
     ]
    },
    {
     "data": {
      "text/html": [
       "<div>\n",
       "<style scoped>\n",
       "    .dataframe tbody tr th:only-of-type {\n",
       "        vertical-align: middle;\n",
       "    }\n",
       "\n",
       "    .dataframe tbody tr th {\n",
       "        vertical-align: top;\n",
       "    }\n",
       "\n",
       "    .dataframe thead th {\n",
       "        text-align: right;\n",
       "    }\n",
       "</style>\n",
       "<table border=\"1\" class=\"dataframe\">\n",
       "  <thead>\n",
       "    <tr style=\"text-align: right;\">\n",
       "      <th></th>\n",
       "      <th>labels_raw</th>\n",
       "      <th>sequence</th>\n",
       "      <th>labels</th>\n",
       "    </tr>\n",
       "  </thead>\n",
       "  <tbody>\n",
       "    <tr>\n",
       "      <th>0</th>\n",
       "      <td>CAROLI EIJ v1.1</td>\n",
       "      <td>TGGAAATGACAATTTTCTGGGGTTTAATAATTTAAAGTAAGTTTTA...</td>\n",
       "      <td>1</td>\n",
       "    </tr>\n",
       "    <tr>\n",
       "      <th>1</th>\n",
       "      <td>CAROLI EIJ v1.1</td>\n",
       "      <td>GTGTGCACCAGCATAACTGGCTAAAAGTCTTCTGGGATGCAGATGC...</td>\n",
       "      <td>1</td>\n",
       "    </tr>\n",
       "    <tr>\n",
       "      <th>2</th>\n",
       "      <td>CAROLI EIJ v1.1</td>\n",
       "      <td>ttgctttttttctttctttctactttattttgagaaaaagcCCAGT...</td>\n",
       "      <td>1</td>\n",
       "    </tr>\n",
       "    <tr>\n",
       "      <th>3</th>\n",
       "      <td>CAROLI EIJ v1.1</td>\n",
       "      <td>CACACTAAAGATGCTCAAGCTAGCCACACTCTATAACATACTCTGT...</td>\n",
       "      <td>1</td>\n",
       "    </tr>\n",
       "    <tr>\n",
       "      <th>4</th>\n",
       "      <td>CAROLI EIJ v1.1</td>\n",
       "      <td>GAAAAGTTCCAGTTCTTAAGCAGATTTTTGATCAATCAATCTAAAC...</td>\n",
       "      <td>1</td>\n",
       "    </tr>\n",
       "  </tbody>\n",
       "</table>\n",
       "</div>"
      ],
      "text/plain": [
       "        labels_raw                                           sequence  labels\n",
       "0  CAROLI EIJ v1.1  TGGAAATGACAATTTTCTGGGGTTTAATAATTTAAAGTAAGTTTTA...       1\n",
       "1  CAROLI EIJ v1.1  GTGTGCACCAGCATAACTGGCTAAAAGTCTTCTGGGATGCAGATGC...       1\n",
       "2  CAROLI EIJ v1.1  ttgctttttttctttctttctactttattttgagaaaaagcCCAGT...       1\n",
       "3  CAROLI EIJ v1.1  CACACTAAAGATGCTCAAGCTAGCCACACTCTATAACATACTCTGT...       1\n",
       "4  CAROLI EIJ v1.1  GAAAAGTTCCAGTTCTTAAGCAGATTTTTGATCAATCAATCTAAAC...       1"
      ]
     },
     "execution_count": 23,
     "metadata": {},
     "output_type": "execute_result"
    }
   ],
   "source": [
    "uniq_lbl = sorted(set(ex_df.labels_raw))\n",
    "label_to_index = {value: idx for idx, value in enumerate(uniq_lbl)}\n",
    "print(label_to_index)\n",
    "ex_df['labels'] = ex_df.labels_raw.apply(lambda l: label_to_index[l])\n",
    "\n",
    "ex_df.head()"
   ]
  },
  {
   "cell_type": "markdown",
   "id": "53c101f8-fc1e-4482-8144-689a4c089725",
   "metadata": {},
   "source": [
    "### Test a sequence"
   ]
  },
  {
   "cell_type": "code",
   "execution_count": 31,
   "id": "fdd80c40-a743-4778-b19a-9e958f1a8184",
   "metadata": {},
   "outputs": [
    {
     "data": {
      "text/plain": [
       "'TGGAAATGACAATTTTCTGGGGTTTAATAATTTAAAGTAAGTTTTAGACCCACTCTAGGAAAGAAAGCCTGATGCATCATATAAATGGACAGCAGTGTGTAAgccaaaaatagaaaagaaatttaattttttcttttaagaaacagAGCCTTCTATTTAACAGGATAAAGAGGCTTACTAGTGAACTTTGTGAATGTTAAAGTTGACAAAAATGATACCCATatgtttgttctggttttgtctttATGAAGTTAAGATTTATCGAACTAAAATTCTGGTTGGAAAGAATGTTAGTTACTTGCTTTGTCCCTgaatgacaaataaaataaaataaaataaaggaggaCATGACCGCTCCCAAAGTACAGAGAGTTTTATTGCAGATACAAGGGAGAGACCAGGCTGACTATGGCCCCAGACTAAACTGAACTGTGAgaggagtgagagggagggagagcaagagaggagccaGGGAACAAGAGGGGGCAGCCTGGGCTAAGAGCCAGCCTGGGTAAAGTAGCCAAAATGGCTGGGTTCTATAGGGatcaggctgggggagggaaggggaagcctAGCCCCTGGGGGTGGAGGCTGGAGTGAGGGGGGCTGTGCTGGGAGTAGGTTCTGAGGCATGCTGGGAGAGGCCCCAGGTACTGCGTGAGACCAGCCTCAGGGATGAGACCAAAAAGTCCCGACTCTCTATGTCCTACCTGGCActctgcacagacacacagacacacacacacagagaaatgaacaACTCAGAAACACCACTCTTAAGCTTATAGGCTTAATTTTCAGGAACCCACTCTGAATTAACTCTGAGAGATAATTATATTTCActttattaaaaaagaattcGCATTGGTGGTTCTTACACAGCTGACTAAAAAACCTAAAGACAGGCCTCCGGAAGAAACTGGAGGCAACTTCCCACTGACAAAGTTCTAAAACAGgctgagggaaggggagggagcagagggagaggggagggggaggggagaaaggaagagggaaggaggaagagaagaaacaagaggaggaagaggaggtgagaaTAGAGACCCAAGGTTCCAAAGGCAGTTTGGGGAGCTAAAGCACACTGtaagagaattctcaaatgaaaagAGTAAATATGTATACTTAACAGCCCTCCAGAGCTGCTTTGTCTAAAGACTCCTCATAGGCCCACAACACAACTAGGAGAAAGATGAAAACCTGACCCACCCCCACTACTCTAATCAGATTCCAATTTGATTCCACCTCTGTCTAAAGACCAGTGATGCCTTTCTCTTCAACACTAAAGGTTGTCCCACAGGGGCACCCCACTCTGAGTTGGAGGAATGGCATGCTTCGCACAACAGACCAACCTAGATAAGGGTCTTTATGCAAACAACAAGCCCACACACTGGAGGAGAATAAACTTAGAAAAACCAGATTGGTCCGATTTAAGCAATAACAGTACTAACGACTTCAGACCACCTTGGGGGGCCAGAACTGCTCTAACTGTGCATGTTCCAGCTCCCTGCCCAGTCCTCCTCTATTTAAACCTGCATCCCATGCGGGAACCCTGATGAGGACCTTGGGGTCACTAGACCCTTTATCTGTTTCTCTTCCCAGTGTGGCCGCTgatgttttgtttctcctttctgcCCTTCAACTTTTACTGGCATATACTGGAAGGCCCTACCGGCCAAGCAGGCAGGCTTGGGAGGGAAGGGAGTCCTGACTTTTGCCCTAAAAGTCCAGTTACAAACAATCTCTACCAAGAACAGACAGGCAAACGCTCATAAAAATACCAGCTGTCTCCACTTCCTCTACATTAGCCTCCGTGTGAGACAGCTGGAAGGGCTGTTAAATCCACAATCGCAGACTCTTCTCTCCAGAAATGCTACTTCTCCAGGCGAGAGGGGAGGCCTGAGATCTGCTGAGGTTTTCCCTGTCATGTGGAAGCTGGAAGGCCACAGACCATCCATCCACTCAGAAGAGGCCAACATTGT'"
      ]
     },
     "execution_count": 31,
     "metadata": {},
     "output_type": "execute_result"
    }
   ],
   "source": [
    "# pull out the first example\n",
    "dna_seq = ex_df.sequence[0]\n",
    "dna_seq"
   ]
  },
  {
   "cell_type": "code",
   "execution_count": 52,
   "id": "c9b23bc0-265c-4df4-ab3f-254918173988",
   "metadata": {},
   "outputs": [],
   "source": [
    "def hyena_embed(sequence):\n",
    "    # tokenize\n",
    "    tok_seq = tokenizer(sequence)\n",
    "    tok_seq = tok_seq[\"input_ids\"]  # grab ids\n",
    "\n",
    "    # place on device, convert to tensor\n",
    "    tok_seq = torch.LongTensor(tok_seq).unsqueeze(0)  # unsqueeze for batch dim\n",
    "    tok_seq = tok_seq.to(device)\n",
    "    \n",
    "    with torch.inference_mode():\n",
    "        embeddings = model(tok_seq)\n",
    "\n",
    "    return embeddings"
   ]
  },
  {
   "cell_type": "code",
   "execution_count": 53,
   "id": "2a87e210-a5ed-446e-8d84-70e8869ee84f",
   "metadata": {},
   "outputs": [
    {
     "data": {
      "text/plain": [
       "tensor([[[-0.7127,  0.6789,  0.2612,  ..., -2.1606,  0.5249,  1.0987],\n",
       "         [-0.2605,  0.6501, -0.9796,  ..., -1.1980,  1.0538,  2.1562],\n",
       "         [ 0.0924,  0.8900, -0.5685,  ..., -1.3519,  1.1949,  2.5591],\n",
       "         ...,\n",
       "         [-0.3191,  0.4715, -0.6948,  ..., -1.4375,  1.6862,  2.3110],\n",
       "         [-0.9599,  0.6181, -0.3071,  ..., -1.3796,  1.7013,  1.7353],\n",
       "         [-0.5913,  1.0730, -1.3255,  ..., -1.2581,  2.0096,  1.5729]]])"
      ]
     },
     "execution_count": 53,
     "metadata": {},
     "output_type": "execute_result"
    }
   ],
   "source": [
    "# prep model and forward\n",
    "model.to(device)\n",
    "model.eval()\n",
    "hyena_embed(dna_seq)"
   ]
  },
  {
   "cell_type": "code",
   "execution_count": 54,
   "id": "546a52fd-683d-46ff-84b8-0b7b7e80ba55",
   "metadata": {},
   "outputs": [],
   "source": [
    "sampled_df = ex_df.sample(n=1000, random_state=42).copy()"
   ]
  },
  {
   "cell_type": "code",
   "execution_count": 68,
   "id": "0aad2901-723c-4077-babf-82948b112fbf",
   "metadata": {},
   "outputs": [
    {
     "data": {
      "application/vnd.jupyter.widget-view+json": {
       "model_id": "828b0676454649ecbe6e522f89558a29",
       "version_major": 2,
       "version_minor": 0
      },
      "text/plain": [
       "  0%|          | 0/1000 [00:00<?, ?it/s]"
      ]
     },
     "metadata": {},
     "output_type": "display_data"
    },
    {
     "data": {
      "text/html": [
       "<div>\n",
       "<style scoped>\n",
       "    .dataframe tbody tr th:only-of-type {\n",
       "        vertical-align: middle;\n",
       "    }\n",
       "\n",
       "    .dataframe tbody tr th {\n",
       "        vertical-align: top;\n",
       "    }\n",
       "\n",
       "    .dataframe thead th {\n",
       "        text-align: right;\n",
       "    }\n",
       "</style>\n",
       "<table border=\"1\" class=\"dataframe\">\n",
       "  <thead>\n",
       "    <tr style=\"text-align: right;\">\n",
       "      <th></th>\n",
       "      <th>labels_raw</th>\n",
       "      <th>sequence</th>\n",
       "      <th>labels</th>\n",
       "      <th>hyena</th>\n",
       "    </tr>\n",
       "  </thead>\n",
       "  <tbody>\n",
       "    <tr>\n",
       "      <th>91595</th>\n",
       "      <td>NHGRI mPonAbe1 v1.1 hic.freeze pri</td>\n",
       "      <td>AAATTGTCATGATCAAGTATAAACTATTAGAAGGAAACAAATGAAA...</td>\n",
       "      <td>8</td>\n",
       "      <td>[[[-0.7126597, 0.6789453, 0.2611758, -0.923249...</td>\n",
       "    </tr>\n",
       "    <tr>\n",
       "      <th>100542</th>\n",
       "      <td>NHGRI mPonAbe1 v1.1 hic.freeze pri</td>\n",
       "      <td>cacatcgtaaaggagtttctgacaatgcttctgttttgtttttatg...</td>\n",
       "      <td>8</td>\n",
       "      <td>[[[-0.7126602, 0.6789465, 0.26118058, -0.92324...</td>\n",
       "    </tr>\n",
       "    <tr>\n",
       "      <th>114581</th>\n",
       "      <td>PAHARI EIJ v1.1</td>\n",
       "      <td>ACAGGCCTTCTGTTTGAAGCAGTTTTATCCACCTGGTTCTGGAGGG...</td>\n",
       "      <td>11</td>\n",
       "      <td>[[[-0.7126611, 0.67894554, 0.26117802, -0.9232...</td>\n",
       "    </tr>\n",
       "    <tr>\n",
       "      <th>87817</th>\n",
       "      <td>Mhudiblu PPA v0</td>\n",
       "      <td>aggtgtagatgtttccatcttcatacagatagcggtgtagatatta...</td>\n",
       "      <td>6</td>\n",
       "      <td>[[[-0.7126601, 0.6789436, 0.26117998, -0.92324...</td>\n",
       "    </tr>\n",
       "    <tr>\n",
       "      <th>143956</th>\n",
       "      <td>NIBS Ocur 1.0</td>\n",
       "      <td>ctgcttccttcctgttcctCCCACCGACTAGGGGAGGAAAGCAGAC...</td>\n",
       "      <td>10</td>\n",
       "      <td>[[[-0.71266127, 0.67894554, 0.2611779, -0.9232...</td>\n",
       "    </tr>\n",
       "  </tbody>\n",
       "</table>\n",
       "</div>"
      ],
      "text/plain": [
       "                                labels_raw  \\\n",
       "91595   NHGRI mPonAbe1 v1.1 hic.freeze pri   \n",
       "100542  NHGRI mPonAbe1 v1.1 hic.freeze pri   \n",
       "114581                     PAHARI EIJ v1.1   \n",
       "87817                      Mhudiblu PPA v0   \n",
       "143956                       NIBS Ocur 1.0   \n",
       "\n",
       "                                                 sequence  labels  \\\n",
       "91595   AAATTGTCATGATCAAGTATAAACTATTAGAAGGAAACAAATGAAA...       8   \n",
       "100542  cacatcgtaaaggagtttctgacaatgcttctgttttgtttttatg...       8   \n",
       "114581  ACAGGCCTTCTGTTTGAAGCAGTTTTATCCACCTGGTTCTGGAGGG...      11   \n",
       "87817   aggtgtagatgtttccatcttcatacagatagcggtgtagatatta...       6   \n",
       "143956  ctgcttccttcctgttcctCCCACCGACTAGGGGAGGAAAGCAGAC...      10   \n",
       "\n",
       "                                                    hyena  \n",
       "91595   [[[-0.7126597, 0.6789453, 0.2611758, -0.923249...  \n",
       "100542  [[[-0.7126602, 0.6789465, 0.26118058, -0.92324...  \n",
       "114581  [[[-0.7126611, 0.67894554, 0.26117802, -0.9232...  \n",
       "87817   [[[-0.7126601, 0.6789436, 0.26117998, -0.92324...  \n",
       "143956  [[[-0.71266127, 0.67894554, 0.2611779, -0.9232...  "
      ]
     },
     "execution_count": 68,
     "metadata": {},
     "output_type": "execute_result"
    }
   ],
   "source": [
    "# prep model and forward\n",
    "model.to(device)\n",
    "model.eval()\n",
    "\n",
    "tqdm.pandas()\n",
    "\n",
    "sampled_df['hyena'] = sampled_df.sequence.progress_apply(lambda i: hyena_embed(i).numpy())\n",
    "\n",
    "sampled_df.head()"
   ]
  },
  {
   "cell_type": "markdown",
   "id": "8c4f94d9-4dd0-47a3-a446-323408b38f51",
   "metadata": {},
   "source": [
    "### Classify Mammals"
   ]
  },
  {
   "cell_type": "code",
   "execution_count": 72,
   "id": "82abd0b4-a8b5-4b69-80da-dbe2d4a2b3ff",
   "metadata": {},
   "outputs": [],
   "source": [
    "from sklearn.ensemble import RandomForestClassifier\n",
    "from sklearn.metrics import roc_auc_score, f1_score, confusion_matrix, accuracy_score\n",
    "from sklearn.metrics import precision_score, recall_score\n",
    "from sklearn.model_selection import train_test_split\n",
    "\n",
    "import seaborn as sns\n",
    "import numpy as np"
   ]
  },
  {
   "cell_type": "code",
   "execution_count": 73,
   "id": "f622165e-2a0c-47b3-8183-cf74fc8d95a9",
   "metadata": {},
   "outputs": [],
   "source": [
    "def get_scores_mc(y,yhat):\n",
    "    print('accuracy: ', round(accuracy_score(y,yhat),4))\n",
    "    print('precision: ', round(precision_score(y,yhat,average='macro'),4))\n",
    "    print('recall: ', round(recall_score(y,yhat,average='macro'),4))\n",
    "    print('f1: ', round(f1_score(y,yhat,average='macro'),4))\n",
    "    print('confusion matrix:\\n', confusion_matrix(y,yhat))"
   ]
  },
  {
   "cell_type": "code",
   "execution_count": 74,
   "id": "e72e07c3-1676-48a0-812e-9791bd3d8069",
   "metadata": {},
   "outputs": [
    {
     "ename": "ValueError",
     "evalue": "all the input array dimensions except for the concatenation axis must match exactly, but along dimension 1, the array at index 0 has size 2002 and the array at index 7 has size 1472",
     "output_type": "error",
     "traceback": [
      "\u001b[0;31m---------------------------------------------------------------------------\u001b[0m",
      "\u001b[0;31mValueError\u001b[0m                                Traceback (most recent call last)",
      "Cell \u001b[0;32mIn[74], line 2\u001b[0m\n\u001b[1;32m      1\u001b[0m y \u001b[38;5;241m=\u001b[39m sampled_df\u001b[38;5;241m.\u001b[39mlabels\n\u001b[0;32m----> 2\u001b[0m X_bow \u001b[38;5;241m=\u001b[39m \u001b[43mnp\u001b[49m\u001b[38;5;241;43m.\u001b[39;49m\u001b[43mvstack\u001b[49m\u001b[43m(\u001b[49m\u001b[43msampled_df\u001b[49m\u001b[38;5;241;43m.\u001b[39;49m\u001b[43mhyena\u001b[49m\u001b[43m)\u001b[49m\n\u001b[1;32m      4\u001b[0m \u001b[38;5;28mprint\u001b[39m(X_bow\u001b[38;5;241m.\u001b[39mshape,y\u001b[38;5;241m.\u001b[39mshape)\n",
      "File \u001b[0;32m~/opt/anaconda3/envs/general/lib/python3.12/site-packages/numpy/core/shape_base.py:289\u001b[0m, in \u001b[0;36mvstack\u001b[0;34m(tup, dtype, casting)\u001b[0m\n\u001b[1;32m    287\u001b[0m \u001b[38;5;28;01mif\u001b[39;00m \u001b[38;5;129;01mnot\u001b[39;00m \u001b[38;5;28misinstance\u001b[39m(arrs, \u001b[38;5;28mlist\u001b[39m):\n\u001b[1;32m    288\u001b[0m     arrs \u001b[38;5;241m=\u001b[39m [arrs]\n\u001b[0;32m--> 289\u001b[0m \u001b[38;5;28;01mreturn\u001b[39;00m \u001b[43m_nx\u001b[49m\u001b[38;5;241;43m.\u001b[39;49m\u001b[43mconcatenate\u001b[49m\u001b[43m(\u001b[49m\u001b[43marrs\u001b[49m\u001b[43m,\u001b[49m\u001b[43m \u001b[49m\u001b[38;5;241;43m0\u001b[39;49m\u001b[43m,\u001b[49m\u001b[43m \u001b[49m\u001b[43mdtype\u001b[49m\u001b[38;5;241;43m=\u001b[39;49m\u001b[43mdtype\u001b[49m\u001b[43m,\u001b[49m\u001b[43m \u001b[49m\u001b[43mcasting\u001b[49m\u001b[38;5;241;43m=\u001b[39;49m\u001b[43mcasting\u001b[49m\u001b[43m)\u001b[49m\n",
      "\u001b[0;31mValueError\u001b[0m: all the input array dimensions except for the concatenation axis must match exactly, but along dimension 1, the array at index 0 has size 2002 and the array at index 7 has size 1472"
     ]
    }
   ],
   "source": [
    "y = sampled_df.labels\n",
    "X_bow = np.vstack(sampled_df.hyena)\n",
    "\n",
    "print(X_bow.shape,y.shape)"
   ]
  },
  {
   "cell_type": "code",
   "execution_count": null,
   "id": "f2063b62-d9c9-450e-a18f-2dc49d75d6c9",
   "metadata": {},
   "outputs": [],
   "source": [
    "X_train,X_test,y_train,y_test = train_test_split(X_bow, y, test_size=0.2)"
   ]
  },
  {
   "cell_type": "code",
   "execution_count": null,
   "id": "4c29482a-c92e-4b10-852c-2c57e09c05a7",
   "metadata": {},
   "outputs": [],
   "source": [
    "model = RandomForestClassifier(n_jobs=-1)\n",
    "model.fit(X_train,y_train)\n",
    "\n",
    "yhat = model.predict(X_test)\n",
    "\n",
    "get_scores_mc(y_test,yhat)"
   ]
  },
  {
   "cell_type": "code",
   "execution_count": null,
   "id": "f7601416-3742-4a81-a7d8-3d04ef577249",
   "metadata": {},
   "outputs": [],
   "source": [
    "cm = confusion_matrix(y_test,yhat)"
   ]
  },
  {
   "cell_type": "code",
   "execution_count": null,
   "id": "91d8bc00-4ee8-485d-9c22-1db269817908",
   "metadata": {},
   "outputs": [],
   "source": [
    "class_names = [label for label, pos in sorted(label_to_index.items(), key=lambda item: item[1])]\n",
    "\n",
    "# Normalize the rows of the confusion matrix\n",
    "cm_normalized = cm.astype('float') / cm.sum(axis=1)[:, np.newaxis]\n",
    "\n",
    "# Create a heatmap\n",
    "plt.figure(figsize=(20, 10))\n",
    "sns.heatmap(cm_normalized, annot=True, fmt='.2f', cmap='Blues', \n",
    "            xticklabels=class_names, yticklabels=class_names)\n",
    "\n",
    "# Add labels and title\n",
    "plt.xlabel('Predicted')\n",
    "plt.ylabel('True')\n",
    "plt.title('Confusion Matrix')\n",
    "\n",
    "# Rotate x-axis labels\n",
    "plt.xticks(rotation=90)\n",
    "\n",
    "# Show the plot\n",
    "plt.show()"
   ]
  }
 ],
 "metadata": {
  "kernelspec": {
   "display_name": "Python 3 (ipykernel)",
   "language": "python",
   "name": "python3"
  },
  "language_info": {
   "codemirror_mode": {
    "name": "ipython",
    "version": 3
   },
   "file_extension": ".py",
   "mimetype": "text/x-python",
   "name": "python",
   "nbconvert_exporter": "python",
   "pygments_lexer": "ipython3",
   "version": "3.12.0"
  }
 },
 "nbformat": 4,
 "nbformat_minor": 5
}
