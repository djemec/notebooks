{
 "cells": [
  {
   "cell_type": "code",
   "execution_count": 2,
   "id": "d9a5bf47-ed7a-4f67-ae51-67a9344175ce",
   "metadata": {},
   "outputs": [],
   "source": [
    "import numpy as np"
   ]
  },
  {
   "cell_type": "markdown",
   "id": "43a68f9a-b468-4901-9986-3631ee5ecdc0",
   "metadata": {
    "jp-MarkdownHeadingCollapsed": true
   },
   "source": [
    "## Start with the first array"
   ]
  },
  {
   "cell_type": "code",
   "execution_count": 42,
   "id": "2f2d8db5-1dde-4965-b805-1a70a2e7c613",
   "metadata": {},
   "outputs": [
    {
     "data": {
      "text/plain": [
       "array([[1, 2, 1],\n",
       "       [3, 8, 1],\n",
       "       [0, 4, 1]])"
      ]
     },
     "execution_count": 42,
     "metadata": {},
     "output_type": "execute_result"
    }
   ],
   "source": [
    "A = np.array([[1,2,1], [3,8,1], [0,4,1]])  \n",
    "A"
   ]
  },
  {
   "cell_type": "markdown",
   "id": "f61b7e11-ad64-49d9-ab73-c9b3a833c8d9",
   "metadata": {
    "jp-MarkdownHeadingCollapsed": true
   },
   "source": [
    "## first pivot point subtraction"
   ]
  },
  {
   "cell_type": "code",
   "execution_count": 43,
   "id": "6cd2d39b-fbc3-41b4-bace-96ce3ed93a98",
   "metadata": {},
   "outputs": [
    {
     "data": {
      "text/plain": [
       "array([[ 1,  0,  0],\n",
       "       [-3,  1,  0],\n",
       "       [ 0,  0,  1]])"
      ]
     },
     "execution_count": 43,
     "metadata": {},
     "output_type": "execute_result"
    }
   ],
   "source": [
    "E_21 = np.array([[1,0,0], [-3,1,0], [0,0,1]])  \n",
    "E_21"
   ]
  },
  {
   "cell_type": "code",
   "execution_count": 45,
   "id": "2eda9563-ab24-479d-aa2a-6a00d5272a06",
   "metadata": {},
   "outputs": [
    {
     "data": {
      "text/plain": [
       "array([[ 1,  2,  1],\n",
       "       [ 0,  2, -2],\n",
       "       [ 0,  4,  1]])"
      ]
     },
     "execution_count": 45,
     "metadata": {},
     "output_type": "execute_result"
    }
   ],
   "source": [
    "U_1 = E_21.dot(A)\n",
    "U_1"
   ]
  },
  {
   "cell_type": "markdown",
   "id": "44afe189-8f85-4fd4-9ee1-560284435a45",
   "metadata": {
    "jp-MarkdownHeadingCollapsed": true
   },
   "source": [
    "## Elimination matrix Second pivot point"
   ]
  },
  {
   "cell_type": "code",
   "execution_count": 46,
   "id": "81be98eb-8b5b-439f-a5bb-6e03c5a86b18",
   "metadata": {},
   "outputs": [
    {
     "data": {
      "text/plain": [
       "array([[ 1,  0,  0],\n",
       "       [ 0,  1,  0],\n",
       "       [ 0, -2,  1]])"
      ]
     },
     "execution_count": 46,
     "metadata": {},
     "output_type": "execute_result"
    }
   ],
   "source": [
    "E_32 = np.array([[1,0,0], [0,1,0], [0,-2,1]])  \n",
    "E_32"
   ]
  },
  {
   "cell_type": "code",
   "execution_count": 47,
   "id": "4b080f8f-edf5-4065-aac3-fca144b22e89",
   "metadata": {},
   "outputs": [
    {
     "data": {
      "text/plain": [
       "array([[ 1,  2,  1],\n",
       "       [ 0,  2, -2],\n",
       "       [ 0,  0,  5]])"
      ]
     },
     "execution_count": 47,
     "metadata": {},
     "output_type": "execute_result"
    }
   ],
   "source": [
    "U = E_32.dot(U_1)\n",
    "U"
   ]
  },
  {
   "cell_type": "markdown",
   "id": "28b32478-7e45-4ac2-b227-98b5f188e708",
   "metadata": {
    "jp-MarkdownHeadingCollapsed": true
   },
   "source": [
    "## Put together\n",
    "`E_32 * E_31 * A = U`\n",
    "\n",
    "`E = E_32 * E31`"
   ]
  },
  {
   "cell_type": "code",
   "execution_count": 49,
   "id": "464f9943-8060-4dd7-86dd-7ff894064b52",
   "metadata": {},
   "outputs": [
    {
     "data": {
      "text/plain": [
       "array([[ 1,  0,  0],\n",
       "       [-3,  1,  0],\n",
       "       [ 6, -2,  1]])"
      ]
     },
     "execution_count": 49,
     "metadata": {},
     "output_type": "execute_result"
    }
   ],
   "source": [
    "E = E_32.dot(E_21)\n",
    "E"
   ]
  },
  {
   "cell_type": "code",
   "execution_count": 50,
   "id": "b3d7da94-1020-48e2-9b0e-6b7ffab8efdf",
   "metadata": {},
   "outputs": [
    {
     "data": {
      "text/plain": [
       "array([[ 1,  2,  1],\n",
       "       [ 0,  2, -2],\n",
       "       [ 0,  0,  5]])"
      ]
     },
     "execution_count": 50,
     "metadata": {},
     "output_type": "execute_result"
    }
   ],
   "source": [
    "E.dot(A)"
   ]
  },
  {
   "cell_type": "markdown",
   "id": "5c61634d-4039-41ba-963f-22d202d79be9",
   "metadata": {},
   "source": [
    "### Another example"
   ]
  },
  {
   "cell_type": "code",
   "execution_count": 52,
   "id": "6946e2ee-925e-4a27-94c7-a6a4aa618004",
   "metadata": {},
   "outputs": [
    {
     "data": {
      "text/plain": [
       "array([[  2,   5,   1],\n",
       "       [  0, -14,  -2],\n",
       "       [  0,   7,   4]])"
      ]
     },
     "execution_count": 52,
     "metadata": {},
     "output_type": "execute_result"
    }
   ],
   "source": [
    "A = np.array([[2,5,1], [4,-4,0], [0,7,4]])  \n",
    "E_21 = np.array([[1,0,0], [-2,1,0], [0,0,1]])  \n",
    "\n",
    "u_mid = E_21.dot(A)\n",
    "u_mid"
   ]
  },
  {
   "cell_type": "markdown",
   "id": "22f7d4c0-8be8-4a0e-ae0a-5a27d1e2a533",
   "metadata": {},
   "source": []
  },
  {
   "cell_type": "code",
   "execution_count": 53,
   "id": "cac46f16-88a8-4832-9523-04730fd24dae",
   "metadata": {},
   "outputs": [
    {
     "data": {
      "text/plain": [
       "array([[  2,   5,   1],\n",
       "       [  0, -14,  -2],\n",
       "       [  0,   0,   6]])"
      ]
     },
     "execution_count": 53,
     "metadata": {},
     "output_type": "execute_result"
    }
   ],
   "source": [
    "E_32 = np.array([[1,0,0], [0,1,0], [0,1,2]])  \n",
    "\n",
    "u = E_32.dot(u_mid)\n",
    "u"
   ]
  },
  {
   "cell_type": "code",
   "execution_count": 54,
   "id": "52732610-9eed-4e3a-b3f6-42545f51f14d",
   "metadata": {},
   "outputs": [
    {
     "data": {
      "text/plain": [
       "array([[ 1,  0,  0],\n",
       "       [-2,  1,  0],\n",
       "       [-2,  1,  2]])"
      ]
     },
     "execution_count": 54,
     "metadata": {},
     "output_type": "execute_result"
    }
   ],
   "source": [
    "E_32.dot(E_21)"
   ]
  },
  {
   "cell_type": "markdown",
   "id": "d659fad7-e4c2-4bcc-ae51-d5ed9633a699",
   "metadata": {
    "jp-MarkdownHeadingCollapsed": true
   },
   "source": [
    "## Multiplication"
   ]
  },
  {
   "cell_type": "code",
   "execution_count": 57,
   "id": "722bda04-f8cd-492e-8813-f2eaf5c1a45b",
   "metadata": {},
   "outputs": [
    {
     "data": {
      "text/plain": [
       "array([[4],\n",
       "       [2],\n",
       "       [3]])"
      ]
     },
     "execution_count": 57,
     "metadata": {},
     "output_type": "execute_result"
    }
   ],
   "source": [
    "A = np.array([[4],[2],[3]]) \n",
    "A"
   ]
  },
  {
   "cell_type": "code",
   "execution_count": 58,
   "id": "81a43c3d-d9bf-4526-a974-1e03a7877afb",
   "metadata": {},
   "outputs": [
    {
     "data": {
      "text/plain": [
       "array([[1, 8, 2]])"
      ]
     },
     "execution_count": 58,
     "metadata": {},
     "output_type": "execute_result"
    }
   ],
   "source": [
    "B = np.array([[1,8,2]])  \n",
    "B"
   ]
  },
  {
   "cell_type": "code",
   "execution_count": 59,
   "id": "f9e829b8-cb53-43da-a268-221bb0b3f8cf",
   "metadata": {},
   "outputs": [
    {
     "data": {
      "text/plain": [
       "array([[ 4, 32,  8],\n",
       "       [ 2, 16,  4],\n",
       "       [ 3, 24,  6]])"
      ]
     },
     "execution_count": 59,
     "metadata": {},
     "output_type": "execute_result"
    }
   ],
   "source": [
    "A.dot(B)"
   ]
  },
  {
   "cell_type": "code",
   "execution_count": 66,
   "id": "27776cb4-d00d-4c61-9a19-bf65a2fbd40d",
   "metadata": {},
   "outputs": [
    {
     "data": {
      "text/plain": [
       "array([[26]])"
      ]
     },
     "execution_count": 66,
     "metadata": {},
     "output_type": "execute_result"
    }
   ],
   "source": [
    "B.dot(A)"
   ]
  },
  {
   "cell_type": "markdown",
   "id": "763f88ed-b0e7-4ce1-8205-5c2a75a15604",
   "metadata": {},
   "source": [
    "### Blocks"
   ]
  },
  {
   "cell_type": "code",
   "execution_count": 69,
   "id": "d84b9392-c6c5-4320-8a61-584b38109340",
   "metadata": {},
   "outputs": [
    {
     "data": {
      "text/plain": [
       "(array([[0, 3, 8, 5, 7, 8],\n",
       "        [1, 3, 7, 1, 4, 5],\n",
       "        [0, 2, 4, 0, 1, 3],\n",
       "        [6, 6, 3, 1, 7, 5],\n",
       "        [0, 3, 6, 2, 3, 7],\n",
       "        [8, 6, 3, 2, 2, 4]]),\n",
       " array([[2, 2, 8, 4, 3, 7],\n",
       "        [5, 1, 6, 7, 4, 5],\n",
       "        [3, 2, 7, 8, 8, 7],\n",
       "        [0, 8, 6, 7, 3, 8],\n",
       "        [6, 4, 1, 5, 8, 2],\n",
       "        [1, 1, 8, 1, 8, 0]]))"
      ]
     },
     "execution_count": 69,
     "metadata": {},
     "output_type": "execute_result"
    }
   ],
   "source": [
    "Q = np.random.randint(0, 9, size=(6,6))\n",
    "P = np.random.randint(0, 9, size=(6,6))\n",
    "Q, P"
   ]
  },
  {
   "cell_type": "code",
   "execution_count": 76,
   "id": "ca0cca6b-63ae-4b24-a2c4-0a13d46c96cd",
   "metadata": {},
   "outputs": [
    {
     "data": {
      "text/plain": [
       "array([[ 89,  95, 175, 163, 211, 125],\n",
       "       [ 67,  48, 125, 113, 146,  87],\n",
       "       [ 31,  17,  65,  54,  72,  40],\n",
       "       [ 98,  65, 158, 137, 165, 115],\n",
       "       [ 58,  50, 131, 105, 146,  79],\n",
       "       [ 71,  56, 167, 126, 126, 127]])"
      ]
     },
     "execution_count": 76,
     "metadata": {},
     "output_type": "execute_result"
    }
   ],
   "source": [
    "C = Q.dot(P)\n",
    "C"
   ]
  },
  {
   "cell_type": "code",
   "execution_count": 78,
   "id": "ffa72f0b-ddae-4ee6-a266-8068baa872b2",
   "metadata": {},
   "outputs": [],
   "source": [
    "q_1 = Q[:3,:3]\n",
    "q_2 = Q[:3,3:]\n",
    "q_3 = Q[3:,:3]\n",
    "q_4 = Q[3:,3:]\n",
    "\n",
    "p_1 = P[:3,:3]\n",
    "p_2 = P[:3,3:]\n",
    "p_3 = P[3:,:3]\n",
    "p_4 = P[3:,3:]\n",
    "\n",
    "c_1 = C[:3,:3]\n",
    "c_2 = C[:3,3:]\n",
    "c_3 = C[3:,:3]\n",
    "c_4 = C[3:,3:]\n"
   ]
  },
  {
   "cell_type": "code",
   "execution_count": 85,
   "id": "3946b8c1-bea7-4508-b622-f077fdf704d8",
   "metadata": {},
   "outputs": [
    {
     "data": {
      "text/plain": [
       "True"
      ]
     },
     "execution_count": 85,
     "metadata": {},
     "output_type": "execute_result"
    }
   ],
   "source": [
    "# top left\n",
    "np.array_equal(q_1.dot(p_1) + q_2.dot(p_3),c_1)"
   ]
  },
  {
   "cell_type": "code",
   "execution_count": 89,
   "id": "46713fd1-c8f0-4e93-b4ad-aee46d868bca",
   "metadata": {},
   "outputs": [
    {
     "data": {
      "text/plain": [
       "True"
      ]
     },
     "execution_count": 89,
     "metadata": {},
     "output_type": "execute_result"
    }
   ],
   "source": [
    "# top right\n",
    "np.array_equal(q_1.dot(p_2) + q_2.dot(p_4),c_2)"
   ]
  },
  {
   "cell_type": "code",
   "execution_count": 90,
   "id": "c728c122-8c56-4cd4-8c73-19eb83a9662f",
   "metadata": {},
   "outputs": [
    {
     "data": {
      "text/plain": [
       "True"
      ]
     },
     "execution_count": 90,
     "metadata": {},
     "output_type": "execute_result"
    }
   ],
   "source": [
    "# bottom left\n",
    "np.array_equal(q_3.dot(p_1) + q_4.dot(p_3),c_3)"
   ]
  },
  {
   "cell_type": "code",
   "execution_count": 91,
   "id": "d3da207f-b5c0-404b-8eb1-50a8370e7202",
   "metadata": {},
   "outputs": [
    {
     "data": {
      "text/plain": [
       "True"
      ]
     },
     "execution_count": 91,
     "metadata": {},
     "output_type": "execute_result"
    }
   ],
   "source": [
    "# bottom right\n",
    "np.array_equal(q_3.dot(p_2) + q_4.dot(p_4),c_4)"
   ]
  },
  {
   "cell_type": "markdown",
   "id": "0d1b267e-e948-4898-a3b9-412e5f94221e",
   "metadata": {},
   "source": [
    "### Inverse"
   ]
  },
  {
   "cell_type": "code",
   "execution_count": 126,
   "id": "fe6fe61c-0bb0-47b6-a2aa-53dce0769a39",
   "metadata": {},
   "outputs": [
    {
     "data": {
      "text/plain": [
       "array([[2, 5],\n",
       "       [3, 4]])"
      ]
     },
     "execution_count": 126,
     "metadata": {},
     "output_type": "execute_result"
    }
   ],
   "source": [
    "A = np.array([[2,5], [3,4]])  \n",
    "A"
   ]
  },
  {
   "cell_type": "code",
   "execution_count": 134,
   "id": "f380f306-b31c-4061-af6c-0486e6bb5ab2",
   "metadata": {},
   "outputs": [
    {
     "data": {
      "text/plain": [
       "array([[-0.57142857,  0.71428571],\n",
       "       [ 0.42857143, -0.28571429]])"
      ]
     },
     "execution_count": 134,
     "metadata": {},
     "output_type": "execute_result"
    }
   ],
   "source": [
    "A_inv = np.array([[-4/7,5/7], [3/7,-2/7]])  \n",
    "A_inv"
   ]
  },
  {
   "cell_type": "code",
   "execution_count": 133,
   "id": "246293d9-5144-47a1-afa7-403ef96313b6",
   "metadata": {},
   "outputs": [
    {
     "data": {
      "text/plain": [
       "array([[-1.00000000e+00, -1.11022302e-16],\n",
       "       [ 0.00000000e+00, -1.00000000e+00]])"
      ]
     },
     "execution_count": 133,
     "metadata": {},
     "output_type": "execute_result"
    }
   ],
   "source": [
    "A.dot(A_inv)"
   ]
  },
  {
   "cell_type": "code",
   "execution_count": 139,
   "id": "9bc9dc81-1450-452b-aee8-a084bba77070",
   "metadata": {},
   "outputs": [
    {
     "data": {
      "text/plain": [
       "array([[ 1.00000000e+00, -8.32667268e-17,  0.00000000e+00],\n",
       "       [ 0.00000000e+00,  1.00000000e+00,  0.00000000e+00],\n",
       "       [ 0.00000000e+00,  0.00000000e+00,  1.00000000e+00]])"
      ]
     },
     "execution_count": 139,
     "metadata": {},
     "output_type": "execute_result"
    }
   ],
   "source": [
    "c = np.array([[1,3,1], [1,-2,-1], [2,1,2]])  \n",
    "d = np.array([[3/10,1/2,1/10], [2/5,0,-1/5], [-1/2,-1/2,1/2]])  \n",
    "\n",
    "d.dot(c)"
   ]
  },
  {
   "cell_type": "code",
   "execution_count": 141,
   "id": "cd95fb10-f1d8-4736-8227-baf291821d49",
   "metadata": {},
   "outputs": [
    {
     "data": {
      "text/plain": [
       "array([[ 0.3,  0.5,  0.1],\n",
       "       [ 0.4,  0. , -0.2],\n",
       "       [-0.5, -0.5,  0.5]])"
      ]
     },
     "execution_count": 141,
     "metadata": {},
     "output_type": "execute_result"
    }
   ],
   "source": [
    "d"
   ]
  },
  {
   "cell_type": "code",
   "execution_count": 137,
   "id": "cbdd57dc-723e-4d9b-8b9b-4dbc77044296",
   "metadata": {},
   "outputs": [
    {
     "data": {
      "text/plain": [
       "array([[ 0.3,  0.5,  0.1],\n",
       "       [ 0.4, -0. , -0.2],\n",
       "       [-0.5, -0.5,  0.5]])"
      ]
     },
     "execution_count": 137,
     "metadata": {},
     "output_type": "execute_result"
    }
   ],
   "source": [
    "np.linalg.inv(c)"
   ]
  },
  {
   "cell_type": "markdown",
   "id": "18cc1e13-6247-421e-9fdd-a0fd1336858e",
   "metadata": {},
   "source": [
    "### Trying to do things fully matrix"
   ]
  },
  {
   "cell_type": "code",
   "execution_count": 10,
   "id": "243579e3-6928-4a99-a4aa-716c61fa635e",
   "metadata": {},
   "outputs": [
    {
     "data": {
      "text/plain": [
       "array([[ 1,  3,  1],\n",
       "       [ 1, -2, -1],\n",
       "       [ 2,  1,  2]])"
      ]
     },
     "execution_count": 10,
     "metadata": {},
     "output_type": "execute_result"
    }
   ],
   "source": [
    "a = np.array([[1,3,1], \n",
    "              [1,-2,-1], \n",
    "              [2,1,2]])  \n",
    "\n",
    "a"
   ]
  },
  {
   "cell_type": "markdown",
   "id": "f829c134-3335-4209-98f2-c50e843db334",
   "metadata": {},
   "source": [
    "### Eliminate column 1"
   ]
  },
  {
   "cell_type": "code",
   "execution_count": 19,
   "id": "1ca80b35-942b-4eed-9c61-ec7cfa6866eb",
   "metadata": {},
   "outputs": [
    {
     "name": "stdout",
     "output_type": "stream",
     "text": [
      "a1\n",
      " [[ 1  3  1]\n",
      " [ 0 -5 -2]\n",
      " [ 2  1  2]]\n",
      "a2\n",
      " [[ 1  3  1]\n",
      " [ 0 -5 -2]\n",
      " [ 0 -5  0]]\n",
      "a3\n",
      " [[ 1  3  1]\n",
      " [ 0 -5  0]\n",
      " [ 0 -5 -2]]\n",
      "a4\n",
      " [[ 1  3  1]\n",
      " [ 0 -5  0]\n",
      " [ 0  0 -2]]\n",
      "a5\n",
      " [[1. 3. 1.]\n",
      " [0. 1. 0.]\n",
      " [0. 0. 1.]]\n",
      "a6\n",
      " [[1. 0. 0.]\n",
      " [0. 1. 0.]\n",
      " [0. 0. 1.]]\n"
     ]
    }
   ],
   "source": [
    "# 1: -1*row1 + row 2\n",
    "e1 = np.array([[1,0,0], \n",
    "               [-1,1,0], \n",
    "               [0,0,1]])  \n",
    "a1 = e1.dot(a)\n",
    "print('a1\\n', a1)\n",
    "\n",
    "# 2: -2*row1 + row 3\n",
    "e2 = np.array([[1,0,0], \n",
    "               [0,1,0], \n",
    "               [-2,0,1]])  \n",
    "a2 = e2.dot(a1)\n",
    "print('a2\\n', a2)\n",
    "\n",
    "\n",
    "# 3: swap row 2 & 3\n",
    "e3 = np.array([[1,0,0], \n",
    "               [0,0,1], \n",
    "               [0,1,0]])  \n",
    "a3 = e3.dot(a2)\n",
    "print('a3\\n', a3)\n",
    "\n",
    "# 4: -1* r2 + r3\n",
    "e4 = np.array([[1,0,0], \n",
    "               [0,1,0], \n",
    "               [0,-1,1]])  \n",
    "a4 = e4.dot(a3)\n",
    "print('a4\\n', a4)\n",
    "\n",
    "# 5: r2/-5 aka * 1/-5 \n",
    "#    r3/-2 aka * 1/-2\n",
    "e5 = np.array([[1,0,0], \n",
    "               [0,-1/5,0], \n",
    "               [0,0,-1/2]])  \n",
    "a5 = e5.dot(a4)\n",
    "print('a5\\n', a5)\n",
    "\n",
    "# 6: -3*r2 + r1\n",
    "#    -1*r3 + r1\n",
    "e6 = np.array([[1,-3,-1], \n",
    "               [0,1,0], \n",
    "               [0,0,1]])  \n",
    "a6 = e6.dot(a5)\n",
    "print('a6\\n', a6)"
   ]
  },
  {
   "cell_type": "code",
   "execution_count": 22,
   "id": "5a276964-fd17-4f9f-b473-4fdffda48b8b",
   "metadata": {},
   "outputs": [
    {
     "data": {
      "text/plain": [
       "array([[ 0.3,  0.5,  0.1],\n",
       "       [ 0.4,  0. , -0.2],\n",
       "       [-0.5, -0.5,  0.5]])"
      ]
     },
     "execution_count": 22,
     "metadata": {},
     "output_type": "execute_result"
    }
   ],
   "source": [
    "e6.dot(e5.dot(e4.dot(e3.dot(e2.dot(e1)))))"
   ]
  },
  {
   "cell_type": "markdown",
   "id": "2b816c96-e946-457b-ae07-f8ebaa91a743",
   "metadata": {},
   "source": [
    "### Rectangle matrix"
   ]
  },
  {
   "cell_type": "code",
   "execution_count": 25,
   "id": "51939921-da16-4675-8ca1-3b784e574b55",
   "metadata": {},
   "outputs": [
    {
     "data": {
      "text/plain": [
       "array([[ 1,  2,  2,  2],\n",
       "       [ 2,  4,  6,  8],\n",
       "       [ 3,  6,  8, 10]])"
      ]
     },
     "execution_count": 25,
     "metadata": {},
     "output_type": "execute_result"
    }
   ],
   "source": [
    "a = np.array([[1,2,2,2], \n",
    "              [2,4,6,8], \n",
    "              [3,6,8,10]])  \n",
    "\n",
    "# 1: -1*row1 + row 2\n",
    "\n",
    "e = np.array([[1,0,0], \n",
    "              [0,1,0], \n",
    "              [0,0,1]])  \n",
    "\n",
    "\n",
    "e.dot(a)"
   ]
  },
  {
   "cell_type": "code",
   "execution_count": 34,
   "id": "1cb9d86b-db42-49de-b0ad-75208d4baeac",
   "metadata": {},
   "outputs": [
    {
     "name": "stdout",
     "output_type": "stream",
     "text": [
      "[[1 2 2 2]\n",
      " [0 0 2 4]\n",
      " [0 0 0 0]]\n",
      "[[ 1.  2.  0. -2.]\n",
      " [ 0.  0.  1.  2.]\n",
      " [ 0.  0.  0.  0.]]\n"
     ]
    }
   ],
   "source": [
    "e1 = np.array([[1,0,0], \n",
    "               [-2,1,0], \n",
    "               [-3,0,1]])  \n",
    "\n",
    "e2 = np.array([[1,0,0], \n",
    "               [0,1,0], \n",
    "               [0,-1,1]])  \n",
    "\n",
    "# row echelon form\n",
    "print(e2.dot(e1.dot(a)))\n",
    "\n",
    "# reduced row echelon form (0 above and below pivot)\n",
    "e3 = np.array([[1,-1,0], \n",
    "               [0,1/2,0], \n",
    "               [0,0,1]])  \n",
    "print(e3.dot(e2.dot(e1.dot(a))))"
   ]
  },
  {
   "cell_type": "code",
   "execution_count": 37,
   "id": "cb97d126-d4e9-4a12-a386-74b4cbadf9e0",
   "metadata": {},
   "outputs": [
    {
     "data": {
      "text/plain": [
       "array([[ 3. , -1. ,  0. ],\n",
       "       [-1. ,  0.5,  0. ],\n",
       "       [-1. , -1. ,  1. ]])"
      ]
     },
     "execution_count": 37,
     "metadata": {},
     "output_type": "execute_result"
    }
   ],
   "source": [
    "e3.dot(e2.dot(e1))"
   ]
  },
  {
   "cell_type": "markdown",
   "id": "29a27858-b868-40fc-b1ac-9012375c0503",
   "metadata": {
    "jp-MarkdownHeadingCollapsed": true
   },
   "source": [
    "## Transpose"
   ]
  },
  {
   "cell_type": "code",
   "execution_count": 39,
   "id": "7bc6e641-16f6-41aa-9477-0e8a3bea2bfa",
   "metadata": {},
   "outputs": [
    {
     "data": {
      "text/plain": [
       "array([[ 1,  2,  3],\n",
       "       [ 2,  4,  6],\n",
       "       [ 2,  6,  8],\n",
       "       [ 2,  8, 10]])"
      ]
     },
     "execution_count": 39,
     "metadata": {},
     "output_type": "execute_result"
    }
   ],
   "source": [
    "at = a.T\n",
    "\n",
    "at"
   ]
  },
  {
   "cell_type": "code",
   "execution_count": 59,
   "id": "90180b06-ff33-4307-afa4-ad01c2a4c7a5",
   "metadata": {},
   "outputs": [
    {
     "data": {
      "text/plain": [
       "array([[1., 0., 1.],\n",
       "       [0., 0., 0.],\n",
       "       [0., 1., 1.],\n",
       "       [0., 0., 0.]])"
      ]
     },
     "execution_count": 59,
     "metadata": {},
     "output_type": "execute_result"
    }
   ],
   "source": [
    "e1 = np.array([[1,0,0,0], \n",
    "              [-2,1,0,0], \n",
    "              [-2,0,1,0],\n",
    "              [-2,0,0,1]])  \n",
    "\n",
    "e2 = np.array([[1,0,0,0], \n",
    "              [0,1,0,0], \n",
    "              [0,0,1/2,0],\n",
    "              [0,0,-2,1]]) \n",
    "\n",
    "e3 = np.array([[1,0,-2,0], \n",
    "              [0,1,0,0], \n",
    "              [0,0,1,0],\n",
    "              [0,0,0,1]]) \n",
    "\n",
    "e3.dot(e2.dot(e1.dot(at)))"
   ]
  },
  {
   "cell_type": "code",
   "execution_count": 60,
   "id": "5e488330-36b5-4717-877b-0ea2b81468af",
   "metadata": {},
   "outputs": [
    {
     "data": {
      "text/plain": [
       "array([[ 3. ,  0. , -1. ,  0. ],\n",
       "       [-2. ,  1. ,  0. ,  0. ],\n",
       "       [-1. ,  0. ,  0.5,  0. ],\n",
       "       [ 2. ,  0. , -2. ,  1. ]])"
      ]
     },
     "execution_count": 60,
     "metadata": {},
     "output_type": "execute_result"
    }
   ],
   "source": [
    "e3.dot(e2.dot(e1))"
   ]
  },
  {
   "cell_type": "markdown",
   "id": "71aacb90-0493-4241-b72d-71190f2a0b80",
   "metadata": {
    "jp-MarkdownHeadingCollapsed": true
   },
   "source": [
    "## Projections"
   ]
  },
  {
   "cell_type": "code",
   "execution_count": 6,
   "id": "6f368359-12ad-4ab9-989b-a1d58b555476",
   "metadata": {},
   "outputs": [
    {
     "data": {
      "text/plain": [
       "array([[1, 0, 0, 0],\n",
       "       [0, 1, 0, 0],\n",
       "       [0, 0, 1, 0],\n",
       "       [0, 0, 0, 0]])"
      ]
     },
     "execution_count": 6,
     "metadata": {},
     "output_type": "execute_result"
    }
   ],
   "source": [
    "a = np.array([[1,0,0], \n",
    "              [0,1,0], \n",
    "              [0,0,1],\n",
    "              [0,0,0]])  \n",
    "a.dot(a.T.dot(a)).dot(a.T)"
   ]
  },
  {
   "cell_type": "code",
   "execution_count": 7,
   "id": "8e3ed31e-07dc-47f7-b9fd-6fb6eb1222c4",
   "metadata": {},
   "outputs": [
    {
     "data": {
      "text/plain": [
       "array([[1],\n",
       "       [2],\n",
       "       [3],\n",
       "       [0]])"
      ]
     },
     "execution_count": 7,
     "metadata": {},
     "output_type": "execute_result"
    }
   ],
   "source": [
    "b = np.array([[1],[2],[3],[4]])\n",
    "\n",
    "a.dot(a.T.dot(a)).dot(a.T).dot(b)"
   ]
  },
  {
   "cell_type": "markdown",
   "id": "935c3265-f608-4ae2-9da2-2d55dea30038",
   "metadata": {
    "jp-MarkdownHeadingCollapsed": true
   },
   "source": [
    "## Scratch"
   ]
  },
  {
   "cell_type": "code",
   "execution_count": 5,
   "id": "646584b4-7da2-4aa2-a2bd-3678e8fcb85b",
   "metadata": {},
   "outputs": [
    {
     "data": {
      "text/plain": [
       "array([[3]])"
      ]
     },
     "execution_count": 5,
     "metadata": {},
     "output_type": "execute_result"
    }
   ],
   "source": [
    "a = np.array([[1,1,1]]).T\n",
    "\n",
    "a.T.dot(a)"
   ]
  },
  {
   "cell_type": "code",
   "execution_count": 18,
   "id": "6e09aa71-52d6-44d0-9bfa-05c4023a895d",
   "metadata": {},
   "outputs": [
    {
     "data": {
      "text/plain": [
       "array([[ 0.5],\n",
       "       [ 0.5],\n",
       "       [-1. ],\n",
       "       [ 0. ]])"
      ]
     },
     "execution_count": 18,
     "metadata": {},
     "output_type": "execute_result"
    }
   ],
   "source": [
    "a = np.array([[1,-1,0,0]]).T\n",
    "b = np.array([[0,1,-1,0]]).T\n",
    "c = np.array([[0,0,1,-1]]).T\n",
    "\n",
    "\n",
    "B = b-(a.T.dot(b)/a.T.dot(a))*a\n",
    "B"
   ]
  },
  {
   "cell_type": "code",
   "execution_count": 16,
   "id": "1fdf0c2d-d616-4b40-a0d2-78abdc7f8a2d",
   "metadata": {},
   "outputs": [
    {
     "data": {
      "text/plain": [
       "array([[1.5]])"
      ]
     },
     "execution_count": 16,
     "metadata": {},
     "output_type": "execute_result"
    }
   ],
   "source": [
    "B.T.dot(B)"
   ]
  },
  {
   "cell_type": "code",
   "execution_count": 21,
   "id": "6655ed68-8625-449a-aa4b-77f236fc4b9e",
   "metadata": {},
   "outputs": [
    {
     "data": {
      "text/plain": [
       "array([[-0.66666667]])"
      ]
     },
     "execution_count": 21,
     "metadata": {},
     "output_type": "execute_result"
    }
   ],
   "source": [
    "B.T.dot(c)"
   ]
  },
  {
   "cell_type": "code",
   "execution_count": 27,
   "id": "b938943b-738e-4a48-93a8-528e5731edd0",
   "metadata": {},
   "outputs": [
    {
     "data": {
      "text/plain": [
       "array([[ 0.33333333],\n",
       "       [ 0.33333333],\n",
       "       [ 0.33333333],\n",
       "       [-1.        ]])"
      ]
     },
     "execution_count": 27,
     "metadata": {},
     "output_type": "execute_result"
    }
   ],
   "source": [
    "C = c - ((a.T.dot(c)/a.T.dot(a))* a) - ((B.T.dot(c)/B.T.dot(B))* B)\n",
    "C"
   ]
  },
  {
   "cell_type": "code",
   "execution_count": 45,
   "id": "c447b848-c3dc-4fa1-b001-21de4d0f6de2",
   "metadata": {},
   "outputs": [
    {
     "data": {
      "text/plain": [
       "array([[ 1.00000000e+00,  0.00000000e+00,  0.00000000e+00],\n",
       "       [ 0.00000000e+00,  1.00000000e+00, -3.88527392e-17],\n",
       "       [ 0.00000000e+00, -3.88527392e-17,  1.00000000e+00]])"
      ]
     },
     "execution_count": 45,
     "metadata": {},
     "output_type": "execute_result"
    }
   ],
   "source": [
    "Q = np.hstack((a/(2**(1/2)),B/((3/2)**(1/2)),C/((4/3)**(1/2))))"
   ]
  },
  {
   "cell_type": "code",
   "execution_count": null,
   "id": "af144058-e52e-4a53-ab25-4ccb5322b289",
   "metadata": {},
   "outputs": [],
   "source": [
    "a = np.array([[1,-1,0,0]])\n",
    "b = np.array([[0,1,-1,0]]).T\n",
    "c = np.array([[0,0,1,-1]]).T"
   ]
  },
  {
   "cell_type": "code",
   "execution_count": 10,
   "id": "44aa5ce4-14f7-4b5b-ac70-65a288527340",
   "metadata": {},
   "outputs": [
    {
     "data": {
      "text/plain": [
       "(3, 4)"
      ]
     },
     "execution_count": 10,
     "metadata": {},
     "output_type": "execute_result"
    }
   ],
   "source": [
    "np.ones((2,3,16)).dot(np.ones((16,4))).shape"
   ]
  },
  {
   "cell_type": "markdown",
   "id": "4c7c8c50-e7d0-4bb6-84f3-fe4de55d41c2",
   "metadata": {},
   "source": [
    "## Scratch Support"
   ]
  },
  {
   "cell_type": "code",
   "execution_count": 44,
   "id": "75fdb738-a108-497a-a7fa-af3b580b517b",
   "metadata": {},
   "outputs": [],
   "source": [
    "a = np.array([[1, 2, 3]]\n",
    "        )\n",
    "\n",
    "b = np.array([[1, 2, 3],\n",
    "         [1, 2, 3],\n",
    "         [0.0030, 0.0040, 0.0050],\n",
    "         [0.0040, 0.0050, 0.0060]])"
   ]
  },
  {
   "cell_type": "code",
   "execution_count": 48,
   "id": "1f47321b-9c4f-40c4-856d-2273cb589949",
   "metadata": {},
   "outputs": [
    {
     "data": {
      "text/plain": [
       "((3, 4),\n",
       " array([[1.   , 1.   , 0.003, 0.004],\n",
       "        [2.   , 2.   , 0.004, 0.005],\n",
       "        [3.   , 3.   , 0.005, 0.006]]))"
      ]
     },
     "execution_count": 48,
     "metadata": {},
     "output_type": "execute_result"
    }
   ],
   "source": [
    "b.T.shape,b.T"
   ]
  },
  {
   "cell_type": "code",
   "execution_count": 49,
   "id": "2c31d5f7-4e77-48db-bff2-2e7a7f02277a",
   "metadata": {},
   "outputs": [
    {
     "data": {
      "text/plain": [
       "array([[1, 2, 3]])"
      ]
     },
     "execution_count": 49,
     "metadata": {},
     "output_type": "execute_result"
    }
   ],
   "source": [
    "a"
   ]
  },
  {
   "cell_type": "code",
   "execution_count": 46,
   "id": "389f0d60-36c8-4763-9bcb-3e4e20782e46",
   "metadata": {},
   "outputs": [
    {
     "data": {
      "text/plain": [
       "array([[14.   , 14.   ,  0.026,  0.032]])"
      ]
     },
     "execution_count": 46,
     "metadata": {},
     "output_type": "execute_result"
    }
   ],
   "source": [
    "a.dot(b.T)"
   ]
  },
  {
   "cell_type": "code",
   "execution_count": null,
   "id": "44645c21-4a65-49f2-8a86-694a0ee78bba",
   "metadata": {},
   "outputs": [],
   "source": []
  }
 ],
 "metadata": {
  "kernelspec": {
   "display_name": "Python 3 (ipykernel)",
   "language": "python",
   "name": "python3"
  },
  "language_info": {
   "codemirror_mode": {
    "name": "ipython",
    "version": 3
   },
   "file_extension": ".py",
   "mimetype": "text/x-python",
   "name": "python",
   "nbconvert_exporter": "python",
   "pygments_lexer": "ipython3",
   "version": "3.13.7"
  }
 },
 "nbformat": 4,
 "nbformat_minor": 5
}
