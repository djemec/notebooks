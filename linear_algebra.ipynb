{
 "cells": [
  {
   "cell_type": "code",
   "execution_count": 1,
   "id": "d9a5bf47-ed7a-4f67-ae51-67a9344175ce",
   "metadata": {},
   "outputs": [],
   "source": [
    "import numpy as np"
   ]
  },
  {
   "cell_type": "markdown",
   "id": "43a68f9a-b468-4901-9986-3631ee5ecdc0",
   "metadata": {},
   "source": [
    "## Start with the first array"
   ]
  },
  {
   "cell_type": "code",
   "execution_count": 42,
   "id": "2f2d8db5-1dde-4965-b805-1a70a2e7c613",
   "metadata": {},
   "outputs": [
    {
     "data": {
      "text/plain": [
       "array([[1, 2, 1],\n",
       "       [3, 8, 1],\n",
       "       [0, 4, 1]])"
      ]
     },
     "execution_count": 42,
     "metadata": {},
     "output_type": "execute_result"
    }
   ],
   "source": [
    "A = np.array([[1,2,1], [3,8,1], [0,4,1]])  \n",
    "A"
   ]
  },
  {
   "cell_type": "markdown",
   "id": "f61b7e11-ad64-49d9-ab73-c9b3a833c8d9",
   "metadata": {},
   "source": [
    "## first pivot point subtraction"
   ]
  },
  {
   "cell_type": "code",
   "execution_count": 43,
   "id": "6cd2d39b-fbc3-41b4-bace-96ce3ed93a98",
   "metadata": {},
   "outputs": [
    {
     "data": {
      "text/plain": [
       "array([[ 1,  0,  0],\n",
       "       [-3,  1,  0],\n",
       "       [ 0,  0,  1]])"
      ]
     },
     "execution_count": 43,
     "metadata": {},
     "output_type": "execute_result"
    }
   ],
   "source": [
    "E_21 = np.array([[1,0,0], [-3,1,0], [0,0,1]])  \n",
    "E_21"
   ]
  },
  {
   "cell_type": "code",
   "execution_count": 45,
   "id": "2eda9563-ab24-479d-aa2a-6a00d5272a06",
   "metadata": {},
   "outputs": [
    {
     "data": {
      "text/plain": [
       "array([[ 1,  2,  1],\n",
       "       [ 0,  2, -2],\n",
       "       [ 0,  4,  1]])"
      ]
     },
     "execution_count": 45,
     "metadata": {},
     "output_type": "execute_result"
    }
   ],
   "source": [
    "U_1 = E_21.dot(A)\n",
    "U_1"
   ]
  },
  {
   "cell_type": "markdown",
   "id": "44afe189-8f85-4fd4-9ee1-560284435a45",
   "metadata": {},
   "source": [
    "## Elimination matrix Second pivot point"
   ]
  },
  {
   "cell_type": "code",
   "execution_count": 46,
   "id": "81be98eb-8b5b-439f-a5bb-6e03c5a86b18",
   "metadata": {},
   "outputs": [
    {
     "data": {
      "text/plain": [
       "array([[ 1,  0,  0],\n",
       "       [ 0,  1,  0],\n",
       "       [ 0, -2,  1]])"
      ]
     },
     "execution_count": 46,
     "metadata": {},
     "output_type": "execute_result"
    }
   ],
   "source": [
    "E_32 = np.array([[1,0,0], [0,1,0], [0,-2,1]])  \n",
    "E_32"
   ]
  },
  {
   "cell_type": "code",
   "execution_count": 47,
   "id": "4b080f8f-edf5-4065-aac3-fca144b22e89",
   "metadata": {},
   "outputs": [
    {
     "data": {
      "text/plain": [
       "array([[ 1,  2,  1],\n",
       "       [ 0,  2, -2],\n",
       "       [ 0,  0,  5]])"
      ]
     },
     "execution_count": 47,
     "metadata": {},
     "output_type": "execute_result"
    }
   ],
   "source": [
    "U = E_32.dot(U_1)\n",
    "U"
   ]
  },
  {
   "cell_type": "markdown",
   "id": "28b32478-7e45-4ac2-b227-98b5f188e708",
   "metadata": {},
   "source": [
    "## Put together\n",
    "`E_32 * E_31 * A = U`\n",
    "\n",
    "`E = E_32 * E31`"
   ]
  },
  {
   "cell_type": "code",
   "execution_count": 49,
   "id": "464f9943-8060-4dd7-86dd-7ff894064b52",
   "metadata": {},
   "outputs": [
    {
     "data": {
      "text/plain": [
       "array([[ 1,  0,  0],\n",
       "       [-3,  1,  0],\n",
       "       [ 6, -2,  1]])"
      ]
     },
     "execution_count": 49,
     "metadata": {},
     "output_type": "execute_result"
    }
   ],
   "source": [
    "E = E_32.dot(E_21)\n",
    "E"
   ]
  },
  {
   "cell_type": "code",
   "execution_count": 50,
   "id": "b3d7da94-1020-48e2-9b0e-6b7ffab8efdf",
   "metadata": {},
   "outputs": [
    {
     "data": {
      "text/plain": [
       "array([[ 1,  2,  1],\n",
       "       [ 0,  2, -2],\n",
       "       [ 0,  0,  5]])"
      ]
     },
     "execution_count": 50,
     "metadata": {},
     "output_type": "execute_result"
    }
   ],
   "source": [
    "E.dot(A)"
   ]
  },
  {
   "cell_type": "markdown",
   "id": "5c61634d-4039-41ba-963f-22d202d79be9",
   "metadata": {},
   "source": [
    "### Another example"
   ]
  },
  {
   "cell_type": "code",
   "execution_count": 52,
   "id": "6946e2ee-925e-4a27-94c7-a6a4aa618004",
   "metadata": {},
   "outputs": [
    {
     "data": {
      "text/plain": [
       "array([[  2,   5,   1],\n",
       "       [  0, -14,  -2],\n",
       "       [  0,   7,   4]])"
      ]
     },
     "execution_count": 52,
     "metadata": {},
     "output_type": "execute_result"
    }
   ],
   "source": [
    "A = np.array([[2,5,1], [4,-4,0], [0,7,4]])  \n",
    "E_21 = np.array([[1,0,0], [-2,1,0], [0,0,1]])  \n",
    "\n",
    "u_mid = E_21.dot(A)\n",
    "u_mid"
   ]
  },
  {
   "cell_type": "code",
   "execution_count": 53,
   "id": "cac46f16-88a8-4832-9523-04730fd24dae",
   "metadata": {},
   "outputs": [
    {
     "data": {
      "text/plain": [
       "array([[  2,   5,   1],\n",
       "       [  0, -14,  -2],\n",
       "       [  0,   0,   6]])"
      ]
     },
     "execution_count": 53,
     "metadata": {},
     "output_type": "execute_result"
    }
   ],
   "source": [
    "E_32 = np.array([[1,0,0], [0,1,0], [0,1,2]])  \n",
    "\n",
    "u = E_32.dot(u_mid)\n",
    "u"
   ]
  },
  {
   "cell_type": "code",
   "execution_count": 54,
   "id": "52732610-9eed-4e3a-b3f6-42545f51f14d",
   "metadata": {},
   "outputs": [
    {
     "data": {
      "text/plain": [
       "array([[ 1,  0,  0],\n",
       "       [-2,  1,  0],\n",
       "       [-2,  1,  2]])"
      ]
     },
     "execution_count": 54,
     "metadata": {},
     "output_type": "execute_result"
    }
   ],
   "source": [
    "E_32.dot(E_21)"
   ]
  },
  {
   "cell_type": "code",
   "execution_count": null,
   "id": "e8dfec2d-03c5-40f7-a9f2-d4812a1807d1",
   "metadata": {},
   "outputs": [],
   "source": []
  }
 ],
 "metadata": {
  "kernelspec": {
   "display_name": "Python 3 (ipykernel)",
   "language": "python",
   "name": "python3"
  },
  "language_info": {
   "codemirror_mode": {
    "name": "ipython",
    "version": 3
   },
   "file_extension": ".py",
   "mimetype": "text/x-python",
   "name": "python",
   "nbconvert_exporter": "python",
   "pygments_lexer": "ipython3",
   "version": "3.12.0"
  }
 },
 "nbformat": 4,
 "nbformat_minor": 5
}
